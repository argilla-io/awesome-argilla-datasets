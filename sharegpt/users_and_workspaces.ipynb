{
 "cells": [
  {
   "cell_type": "markdown",
   "metadata": {},
   "source": [
    "# Users and workspaces\n",
    "\n",
    "For this example, we assume that we have multiple users that want to use the same workspace. We will create a workspace and then create a set of users that have access to the workspace. This is pretty straight forward, but there are a few things to keep in mind to avoid creating users with the same ID `username`."
   ]
  },
  {
   "cell_type": "code",
   "execution_count": 2,
   "metadata": {},
   "outputs": [
    {
     "name": "stderr",
     "output_type": "stream",
     "text": [
      "/Users/davidberenstein/Documents/programming/argilla/awesome-argilla-datasets/.env/lib/python3.9/site-packages/argilla/client/client.py:154: UserWarning: Default user was detected and no workspace configuration was provided, so the default 'argilla' workspace will be used. If you want to setup another workspace, use the `rg.set_workspace` function or provide a different one on `rg.init`\n",
      "  warnings.warn(\n",
      "/Users/davidberenstein/Documents/programming/argilla/awesome-argilla-datasets/.env/lib/python3.9/site-packages/argilla/client/client.py:182: UserWarning: You're connecting to Argilla Server 1.19.0 using a different client version (1.18.0).\n",
      "This may lead to potential compatibility issues during your experience.\n",
      "To ensure a seamless and optimized connection, we highly recommend aligning your client version with the server version.\n",
      "  warnings.warn(\n"
     ]
    }
   ],
   "source": [
    "import argilla as rg\n",
    "from argilla._constants import DEFAULT_API_KEY\n",
    "\n",
    "rg.init(api_url=\"http://localhost:6900\", api_key=DEFAULT_API_KEY)"
   ]
  },
  {
   "cell_type": "markdown",
   "metadata": {},
   "source": [
    "Check if users exist. If they do, retrieve the profile, otherwise create it."
   ]
  },
  {
   "cell_type": "code",
   "execution_count": 36,
   "metadata": {},
   "outputs": [
    {
     "data": {
      "text/plain": [
       "[User(id=e26a191f-382d-4fe8-9cb8-3d40e0588c20, username=jose, role=annotator, api_key=s2npW--dIQs1cLpTg4Tqd_zkWdzxu3WiuPkIcAKBo2q4z3iWWM9xPt2KDjBBr4fL3Cu5EBiED7n5mMdE5K7i4kRj126QN7T_F7QYyYQNh8A, first_name=jose, last_name=None, inserted_at=2023-11-19 15:50:37.630232, updated_at=2023-11-19 15:50:37.630232),\n",
       " User(id=bf9e8d61-f969-478f-8ea3-10f6f17119c6, username=dani, role=annotator, api_key=jMZWECjYgp4GHjcrpFOXSY1r6y4RSSRiXEGg7depEABCd18RanAmLdVk114MFuQxaHAi3d-TRgjr8OrH8pBYT54wqjCGUJD9Gn4UNa8PooE, first_name=dani, last_name=None, inserted_at=2023-11-19 15:52:56.040739, updated_at=2023-11-19 15:52:56.040739),\n",
       " User(id=4d067c1a-fbb7-4300-bf46-bc0f5e7954a5, username=paco, role=annotator, api_key=8Crwd_JGlvbM5UD7Og-vgBy5EyBE5aHLVXxt9yd-zdMnKHtITG6PzKV0ldBd_U0obOEOoUn6J36AVX-54FGofotsfkf1kH_UtTpqLml6cb8, first_name=paco, last_name=None, inserted_at=2023-11-19 15:52:56.301647, updated_at=2023-11-19 15:52:56.301647),\n",
       " User(id=0d69c392-09c4-4204-ba47-f3698b8e6369, username=damian, role=annotator, api_key=-muo7NpiWp0CnZrg6wFAHICqZHg8N5Itu4HKpTEwVTgZoOi8V1LJCr-qjVMOyDELd9rjKQWMMIvdkUlJZlxB7mNS3HNpusH4-Bra78yegK4, first_name=damian, last_name=None, inserted_at=2023-11-19 15:52:56.559801, updated_at=2023-11-19 15:52:56.559801),\n",
       " User(id=693b2392-0606-4514-a416-f4231a1455d9, username=leyre, role=annotator, api_key=fkXIRgR3Pl5sjTG32uvUnaNq-0mwQYTPh9RXbeHWpmX1aD4fP83EgfTl9yN0_0rDUqkaDPMEVYVYSIgM0OazFaCudKCNDOgADzaDC4xneZc, first_name=leyre, last_name=None, inserted_at=2023-11-19 15:52:56.822445, updated_at=2023-11-19 15:52:56.822445),\n",
       " User(id=13a3fb32-ac56-4d55-a4b2-685f4d768bc4, username=sara, role=annotator, api_key=UUC-m8QS0MAufPvqigUm6iZNnA7UFEr26AxuOlEUjqTntNBoX2tvQmf3NqDK6MtqkD1SmigKsBC2JZ1PqpEtqsLfuj94c3pjCHeNvoStkdc, first_name=sara, last_name=None, inserted_at=2023-11-19 15:52:57.082838, updated_at=2023-11-19 15:52:57.082838),\n",
       " User(id=92a388b0-f0e4-425c-91e7-1f2da1f6e78a, username=alvaro, role=annotator, api_key=WPZXwfeIP1U4bGXkJfGsUi0DSXVvn0yuJG0i99XFW-glSmCmsI0FqnHu6GKO5XmVyUHIK7rBLeSScvo133e_2TljP2_mQkjiP2-jQZ7o8zY, first_name=alvaro, last_name=None, inserted_at=2023-11-19 15:52:57.345579, updated_at=2023-11-19 15:52:57.345579),\n",
       " User(id=f2c54769-6b4c-44d6-8a87-ff7c04780a47, username=gabri, role=annotator, api_key=gncNEUBCw1X08hgkz2CS-I_7d46L7B0RMM9xA5_-iCirEQbpwtP_XyKhUS1ZrbaKXMveOlj5l44UX6i9auKDCF5Zx0MUyEVplvWgy9zJWho, first_name=gabri, last_name=None, inserted_at=2023-11-19 15:52:57.604679, updated_at=2023-11-19 15:52:57.604679),\n",
       " User(id=0c00fd8f-7679-4a36-a11c-57e57358ee28, username=david, role=annotator, api_key=B7EbxxM-0V9YJGvDbBJMzSBksZEpyDJCccdgaigqvUUjF49PFhFn8rONwU3dS5iuvjjuQObVmCLGqii7X6XdJSlYtaKefldLP7y_cODjijk, first_name=david, last_name=None, inserted_at=2023-11-19 15:52:57.872378, updated_at=2023-11-19 15:52:57.872378),\n",
       " User(id=e26a191f-382d-4fe8-9cb8-3d40e0588c20, username=jose, role=annotator, api_key=s2npW--dIQs1cLpTg4Tqd_zkWdzxu3WiuPkIcAKBo2q4z3iWWM9xPt2KDjBBr4fL3Cu5EBiED7n5mMdE5K7i4kRj126QN7T_F7QYyYQNh8A, first_name=jose, last_name=None, inserted_at=2023-11-19 15:50:37.630232, updated_at=2023-11-19 15:50:37.630232),\n",
       " User(id=a6d3c5f6-42fb-4c3f-9be9-dd789062404d, username=amelie, role=annotator, api_key=vuL2ab0PRbHaqFLyHJRw_jxNyJdhV_vL4P8kvFixUz1OzxsZU0u8NIuQ_Wrgr6eXw6_o1goeiLCFZtTZvMDj4SUc5wuOidU6pCPv1KyPKlE, first_name=amelie, last_name=None, inserted_at=2023-11-19 15:52:58.132252, updated_at=2023-11-19 15:52:58.132252),\n",
       " User(id=d3d08f58-f6d8-4308-8027-c519e1358bb2, username=averill, role=annotator, api_key=aZwZDmZTliO2DNKoRiSl35q7wFAhI_2gx911qiWA3S7OVpkyrUca1BJ8FXt944NN5kxvvIXLvuA5pQAn5ALwrqsCBn_Mq0pJA_9bfGFe3xM, first_name=averill, last_name=None, inserted_at=2023-11-19 15:52:58.390813, updated_at=2023-11-19 15:52:58.390813),\n",
       " User(id=37d41d50-039f-4da6-8d6a-ad41adc3110b, username=kursat, role=annotator, api_key=h2g6iPgzvF2fKJhbGAU7SOrryJpcfC0JvHinnBSM3Io8c4750_6khfBkqVi-iUj4kwLDNZiSBJ0rmzav-ANYc055kHCC4E3qMcrv7AizLl4, first_name=kursat, last_name=None, inserted_at=2023-11-19 15:52:58.651804, updated_at=2023-11-19 15:52:58.651804),\n",
       " User(id=6d8cd4e1-3838-45db-91e0-010b341ec59b, username=agus, role=annotator, api_key=hKaGVFK-Nx8Fph4BfDhuoxeSXLjBHfGX6gsa4coZ2GP4NduVPRevELYiko0ZoJzBID7bf-skoDk66i4Xd7GfOcF03Ydq8xIBFeNbUu9Wdcs, first_name=agus, last_name=None, inserted_at=2023-11-19 15:52:58.912333, updated_at=2023-11-19 15:52:58.912333),\n",
       " User(id=8bf5332f-783b-4bd5-9a15-c47602ad2958, username=ignacio, role=annotator, api_key=QQcTzdcdF0TIYmj_K6JY2pQj-SOZxF2h7tUHZSnOP-ijh9MrbiwNQ3Pu1JGLlwqCkmrovOk_-nsTc0OIse-mXoGpveR24lVR1eLFWOZ2Kqc, first_name=ignacio, last_name=None, inserted_at=2023-11-19 15:52:59.173538, updated_at=2023-11-19 15:52:59.173538)]"
      ]
     },
     "execution_count": 36,
     "metadata": {},
     "output_type": "execute_result"
    }
   ],
   "source": [
    "my_usernames = [\"jose\", \"dani\", \"paco\", \"damian\", \"leyre\", \"sara\", \"alvaro\", \"gabri\", \"david\", \"jose\", \"amelie\", \"averill\", \"kursat\", \"agus\", \"ignacio\"]\n",
    "user_profiles = []\n",
    "for username in my_usernames:\n",
    "    try:\n",
    "        user_profiles.append(rg.User.from_name(username))\n",
    "    except:\n",
    "        user_profiles.append(rg.User.create(username=username, password=\"12345678\", role=\"annotator\"))\n",
    "user_profiles"
   ]
  },
  {
   "cell_type": "markdown",
   "metadata": {},
   "source": [
    "Lastly, lets create some files we can share with the users."
   ]
  },
  {
   "cell_type": "code",
   "execution_count": 46,
   "metadata": {},
   "outputs": [],
   "source": [
    "import json\n",
    "\n",
    "for user in user_profiles:\n",
    "    with open(f\"users/{user.username}.json\", \"wb\") as f:\n",
    "        data = json.dumps({\"username\": user.username, \"password\": \"12345678\", \"role\": user.role, \"api_key\": user.api_key})\n",
    "        f.write(data.encode(\"utf-8\"))"
   ]
  }
 ],
 "metadata": {
  "kernelspec": {
   "display_name": ".env",
   "language": "python",
   "name": "python3"
  },
  "language_info": {
   "codemirror_mode": {
    "name": "ipython",
    "version": 3
   },
   "file_extension": ".py",
   "mimetype": "text/x-python",
   "name": "python",
   "nbconvert_exporter": "python",
   "pygments_lexer": "ipython3",
   "version": "3.9.17"
  }
 },
 "nbformat": 4,
 "nbformat_minor": 2
}
