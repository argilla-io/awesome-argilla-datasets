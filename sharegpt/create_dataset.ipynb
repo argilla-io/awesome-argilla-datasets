{
  "cells": [
    {
      "cell_type": "markdown",
      "metadata": {
        "id": "AiCZcohFc_mu"
      },
      "source": [
        "# Dataset creation"
      ]
    },
    {
      "cell_type": "markdown",
      "metadata": {},
      "source": [
        "## Installation"
      ]
    },
    {
      "cell_type": "code",
      "execution_count": 101,
      "metadata": {},
      "outputs": [
        {
          "name": "stdout",
          "output_type": "stream",
          "text": [
            "\n",
            "\u001b[1m[\u001b[0m\u001b[34;49mnotice\u001b[0m\u001b[1;39;49m]\u001b[0m\u001b[39;49m A new release of pip is available: \u001b[0m\u001b[31;49m23.0.1\u001b[0m\u001b[39;49m -> \u001b[0m\u001b[32;49m23.3.1\u001b[0m\n",
            "\u001b[1m[\u001b[0m\u001b[34;49mnotice\u001b[0m\u001b[1;39;49m]\u001b[0m\u001b[39;49m To update, run: \u001b[0m\u001b[32;49mpip install --upgrade pip\u001b[0m\n"
          ]
        }
      ],
      "source": [
        "!pip install -q llama-cpp-python textdescriptives argilla==1.18 transformers datasets langdetect langchain"
      ]
    },
    {
      "cell_type": "code",
      "execution_count": 102,
      "metadata": {},
      "outputs": [
        {
          "name": "stdout",
          "output_type": "stream",
          "text": [
            "Looking in indexes: https://pypi.org/simple, https://dmrepository.datamaran.com:8443/repository/dmPYTHON/simple\n",
            "Collecting en-core-web-md==3.7.1\n",
            "  Downloading https://github.com/explosion/spacy-models/releases/download/en_core_web_md-3.7.1/en_core_web_md-3.7.1-py3-none-any.whl (42.8 MB)\n",
            "\u001b[2K     \u001b[90m━━━━━━━━━━━━━━━━━━━━━━━━━━━━━━━━━━━━━━━━\u001b[0m \u001b[32m42.8/42.8 MB\u001b[0m \u001b[31m41.9 MB/s\u001b[0m eta \u001b[36m0:00:00\u001b[0m00:01\u001b[0m00:01\u001b[0m\n",
            "\u001b[?25hRequirement already satisfied: spacy<3.8.0,>=3.7.2 in /Users/davidberenstein/Documents/programming/argilla/awesome-argilla-datasets/.env/lib/python3.9/site-packages (from en-core-web-md==3.7.1) (3.7.2)\n",
            "Requirement already satisfied: smart-open<7.0.0,>=5.2.1 in /Users/davidberenstein/Documents/programming/argilla/awesome-argilla-datasets/.env/lib/python3.9/site-packages (from spacy<3.8.0,>=3.7.2->en-core-web-md==3.7.1) (6.4.0)\n",
            "Requirement already satisfied: typer<0.10.0,>=0.3.0 in /Users/davidberenstein/Documents/programming/argilla/awesome-argilla-datasets/.env/lib/python3.9/site-packages (from spacy<3.8.0,>=3.7.2->en-core-web-md==3.7.1) (0.7.0)\n",
            "Requirement already satisfied: catalogue<2.1.0,>=2.0.6 in /Users/davidberenstein/Documents/programming/argilla/awesome-argilla-datasets/.env/lib/python3.9/site-packages (from spacy<3.8.0,>=3.7.2->en-core-web-md==3.7.1) (2.0.10)\n",
            "Requirement already satisfied: numpy>=1.19.0 in /Users/davidberenstein/Documents/programming/argilla/awesome-argilla-datasets/.env/lib/python3.9/site-packages (from spacy<3.8.0,>=3.7.2->en-core-web-md==3.7.1) (1.23.5)\n",
            "Requirement already satisfied: thinc<8.3.0,>=8.1.8 in /Users/davidberenstein/Documents/programming/argilla/awesome-argilla-datasets/.env/lib/python3.9/site-packages (from spacy<3.8.0,>=3.7.2->en-core-web-md==3.7.1) (8.2.1)\n",
            "Requirement already satisfied: murmurhash<1.1.0,>=0.28.0 in /Users/davidberenstein/Documents/programming/argilla/awesome-argilla-datasets/.env/lib/python3.9/site-packages (from spacy<3.8.0,>=3.7.2->en-core-web-md==3.7.1) (1.0.10)\n",
            "Requirement already satisfied: preshed<3.1.0,>=3.0.2 in /Users/davidberenstein/Documents/programming/argilla/awesome-argilla-datasets/.env/lib/python3.9/site-packages (from spacy<3.8.0,>=3.7.2->en-core-web-md==3.7.1) (3.0.9)\n",
            "Requirement already satisfied: requests<3.0.0,>=2.13.0 in /Users/davidberenstein/Documents/programming/argilla/awesome-argilla-datasets/.env/lib/python3.9/site-packages (from spacy<3.8.0,>=3.7.2->en-core-web-md==3.7.1) (2.31.0)\n",
            "Requirement already satisfied: pydantic!=1.8,!=1.8.1,<3.0.0,>=1.7.4 in /Users/davidberenstein/Documents/programming/argilla/awesome-argilla-datasets/.env/lib/python3.9/site-packages (from spacy<3.8.0,>=3.7.2->en-core-web-md==3.7.1) (1.10.13)\n",
            "Requirement already satisfied: packaging>=20.0 in /Users/davidberenstein/Documents/programming/argilla/awesome-argilla-datasets/.env/lib/python3.9/site-packages (from spacy<3.8.0,>=3.7.2->en-core-web-md==3.7.1) (23.2)\n",
            "Requirement already satisfied: wasabi<1.2.0,>=0.9.1 in /Users/davidberenstein/Documents/programming/argilla/awesome-argilla-datasets/.env/lib/python3.9/site-packages (from spacy<3.8.0,>=3.7.2->en-core-web-md==3.7.1) (1.1.2)\n",
            "Requirement already satisfied: cymem<2.1.0,>=2.0.2 in /Users/davidberenstein/Documents/programming/argilla/awesome-argilla-datasets/.env/lib/python3.9/site-packages (from spacy<3.8.0,>=3.7.2->en-core-web-md==3.7.1) (2.0.8)\n",
            "Requirement already satisfied: weasel<0.4.0,>=0.1.0 in /Users/davidberenstein/Documents/programming/argilla/awesome-argilla-datasets/.env/lib/python3.9/site-packages (from spacy<3.8.0,>=3.7.2->en-core-web-md==3.7.1) (0.3.3)\n",
            "Requirement already satisfied: langcodes<4.0.0,>=3.2.0 in /Users/davidberenstein/Documents/programming/argilla/awesome-argilla-datasets/.env/lib/python3.9/site-packages (from spacy<3.8.0,>=3.7.2->en-core-web-md==3.7.1) (3.3.0)\n",
            "Requirement already satisfied: srsly<3.0.0,>=2.4.3 in /Users/davidberenstein/Documents/programming/argilla/awesome-argilla-datasets/.env/lib/python3.9/site-packages (from spacy<3.8.0,>=3.7.2->en-core-web-md==3.7.1) (2.4.8)\n",
            "Requirement already satisfied: setuptools in /Users/davidberenstein/Documents/programming/argilla/awesome-argilla-datasets/.env/lib/python3.9/site-packages (from spacy<3.8.0,>=3.7.2->en-core-web-md==3.7.1) (58.1.0)\n",
            "Requirement already satisfied: spacy-loggers<2.0.0,>=1.0.0 in /Users/davidberenstein/Documents/programming/argilla/awesome-argilla-datasets/.env/lib/python3.9/site-packages (from spacy<3.8.0,>=3.7.2->en-core-web-md==3.7.1) (1.0.5)\n",
            "Requirement already satisfied: tqdm<5.0.0,>=4.38.0 in /Users/davidberenstein/Documents/programming/argilla/awesome-argilla-datasets/.env/lib/python3.9/site-packages (from spacy<3.8.0,>=3.7.2->en-core-web-md==3.7.1) (4.66.1)\n",
            "Requirement already satisfied: spacy-legacy<3.1.0,>=3.0.11 in /Users/davidberenstein/Documents/programming/argilla/awesome-argilla-datasets/.env/lib/python3.9/site-packages (from spacy<3.8.0,>=3.7.2->en-core-web-md==3.7.1) (3.0.12)\n",
            "Requirement already satisfied: jinja2 in /Users/davidberenstein/Documents/programming/argilla/awesome-argilla-datasets/.env/lib/python3.9/site-packages (from spacy<3.8.0,>=3.7.2->en-core-web-md==3.7.1) (3.1.2)\n",
            "Requirement already satisfied: typing-extensions>=4.2.0 in /Users/davidberenstein/Documents/programming/argilla/awesome-argilla-datasets/.env/lib/python3.9/site-packages (from pydantic!=1.8,!=1.8.1,<3.0.0,>=1.7.4->spacy<3.8.0,>=3.7.2->en-core-web-md==3.7.1) (4.8.0)\n",
            "Requirement already satisfied: certifi>=2017.4.17 in /Users/davidberenstein/Documents/programming/argilla/awesome-argilla-datasets/.env/lib/python3.9/site-packages (from requests<3.0.0,>=2.13.0->spacy<3.8.0,>=3.7.2->en-core-web-md==3.7.1) (2023.7.22)\n",
            "Requirement already satisfied: charset-normalizer<4,>=2 in /Users/davidberenstein/Documents/programming/argilla/awesome-argilla-datasets/.env/lib/python3.9/site-packages (from requests<3.0.0,>=2.13.0->spacy<3.8.0,>=3.7.2->en-core-web-md==3.7.1) (3.3.1)\n",
            "Requirement already satisfied: idna<4,>=2.5 in /Users/davidberenstein/Documents/programming/argilla/awesome-argilla-datasets/.env/lib/python3.9/site-packages (from requests<3.0.0,>=2.13.0->spacy<3.8.0,>=3.7.2->en-core-web-md==3.7.1) (3.4)\n",
            "Requirement already satisfied: urllib3<3,>=1.21.1 in /Users/davidberenstein/Documents/programming/argilla/awesome-argilla-datasets/.env/lib/python3.9/site-packages (from requests<3.0.0,>=2.13.0->spacy<3.8.0,>=3.7.2->en-core-web-md==3.7.1) (1.26.18)\n",
            "Requirement already satisfied: blis<0.8.0,>=0.7.8 in /Users/davidberenstein/Documents/programming/argilla/awesome-argilla-datasets/.env/lib/python3.9/site-packages (from thinc<8.3.0,>=8.1.8->spacy<3.8.0,>=3.7.2->en-core-web-md==3.7.1) (0.7.11)\n",
            "Requirement already satisfied: confection<1.0.0,>=0.0.1 in /Users/davidberenstein/Documents/programming/argilla/awesome-argilla-datasets/.env/lib/python3.9/site-packages (from thinc<8.3.0,>=8.1.8->spacy<3.8.0,>=3.7.2->en-core-web-md==3.7.1) (0.1.3)\n",
            "Requirement already satisfied: click<9.0.0,>=7.1.1 in /Users/davidberenstein/Documents/programming/argilla/awesome-argilla-datasets/.env/lib/python3.9/site-packages (from typer<0.10.0,>=0.3.0->spacy<3.8.0,>=3.7.2->en-core-web-md==3.7.1) (8.1.7)\n",
            "Requirement already satisfied: cloudpathlib<0.17.0,>=0.7.0 in /Users/davidberenstein/Documents/programming/argilla/awesome-argilla-datasets/.env/lib/python3.9/site-packages (from weasel<0.4.0,>=0.1.0->spacy<3.8.0,>=3.7.2->en-core-web-md==3.7.1) (0.16.0)\n",
            "Requirement already satisfied: MarkupSafe>=2.0 in /Users/davidberenstein/Documents/programming/argilla/awesome-argilla-datasets/.env/lib/python3.9/site-packages (from jinja2->spacy<3.8.0,>=3.7.2->en-core-web-md==3.7.1) (2.1.3)\n",
            "Installing collected packages: en-core-web-md\n",
            "  Attempting uninstall: en-core-web-md\n",
            "    Found existing installation: en-core-web-md 3.7.0\n",
            "    Uninstalling en-core-web-md-3.7.0:\n",
            "      Successfully uninstalled en-core-web-md-3.7.0\n",
            "Successfully installed en-core-web-md-3.7.1\n",
            "\n",
            "\u001b[1m[\u001b[0m\u001b[34;49mnotice\u001b[0m\u001b[1;39;49m]\u001b[0m\u001b[39;49m A new release of pip is available: \u001b[0m\u001b[31;49m23.0.1\u001b[0m\u001b[39;49m -> \u001b[0m\u001b[32;49m23.3.1\u001b[0m\n",
            "\u001b[1m[\u001b[0m\u001b[34;49mnotice\u001b[0m\u001b[1;39;49m]\u001b[0m\u001b[39;49m To update, run: \u001b[0m\u001b[32;49mpip install --upgrade pip\u001b[0m\n",
            "\u001b[38;5;2m✔ Download and installation successful\u001b[0m\n",
            "You can now load the package via spacy.load('en_core_web_md')\n"
          ]
        }
      ],
      "source": [
        "!python -m spacy download en_core_web_md"
      ]
    },
    {
      "cell_type": "code",
      "execution_count": 103,
      "metadata": {},
      "outputs": [
        {
          "name": "stdout",
          "output_type": "stream",
          "text": [
            "Looking in indexes: https://pypi.org/simple, https://dmrepository.datamaran.com:8443/repository/dmPYTHON/simple\n",
            "Collecting llama-cpp-python\n",
            "  Downloading https://dmrepository.datamaran.com:8443/repository/dmPYTHON/packages/llama-cpp-python/0.2.18/llama_cpp_python-0.2.18.tar.gz (7.8 MB)\n",
            "\u001b[2K     \u001b[90m━━━━━━━━━━━━━━━━━━━━━━━━━━━━━━━━━━━━━━━━\u001b[0m \u001b[32m7.8/7.8 MB\u001b[0m \u001b[31m18.9 MB/s\u001b[0m eta \u001b[36m0:00:00\u001b[0ma \u001b[36m0:00:01\u001b[0m\n",
            "\u001b[?25h  Installing build dependencies ... \u001b[?25ldone\n",
            "\u001b[?25h  Getting requirements to build wheel ... \u001b[?25ldone\n",
            "\u001b[?25h  Installing backend dependencies ... \u001b[?25ldone\n",
            "\u001b[?25h  Preparing metadata (pyproject.toml) ... \u001b[?25ldone\n",
            "\u001b[?25hCollecting diskcache>=5.6.1\n",
            "  Downloading https://dmrepository.datamaran.com:8443/repository/dmPYTHON/packages/diskcache/5.6.3/diskcache-5.6.3-py3-none-any.whl (45 kB)\n",
            "\u001b[2K     \u001b[90m━━━━━━━━━━━━━━━━━━━━━━━━━━━━━━━━━━━━━━━\u001b[0m \u001b[32m45.5/45.5 kB\u001b[0m \u001b[31m870.3 kB/s\u001b[0m eta \u001b[36m0:00:00\u001b[0ma \u001b[36m0:00:01\u001b[0m\n",
            "\u001b[?25hCollecting typing-extensions>=4.5.0\n",
            "  Downloading https://dmrepository.datamaran.com:8443/repository/dmPYTHON/packages/typing-extensions/4.8.0/typing_extensions-4.8.0-py3-none-any.whl (31 kB)\n",
            "Collecting numpy>=1.20.0\n",
            "  Downloading https://dmrepository.datamaran.com:8443/repository/dmPYTHON/packages/numpy/1.26.2/numpy-1.26.2-cp39-cp39-macosx_10_9_x86_64.whl (20.6 MB)\n",
            "\u001b[2K     \u001b[90m━━━━━━━━━━━━━━━━━━━━━━━━━━━━━━━━━━━━━━━━\u001b[0m \u001b[32m20.6/20.6 MB\u001b[0m \u001b[31m50.6 MB/s\u001b[0m eta \u001b[36m0:00:00\u001b[0ma \u001b[36m0:00:01\u001b[0m\n",
            "\u001b[?25hBuilding wheels for collected packages: llama-cpp-python\n",
            "  Building wheel for llama-cpp-python (pyproject.toml) ... \u001b[?25ldone\n",
            "\u001b[?25h  Created wheel for llama-cpp-python: filename=llama_cpp_python-0.2.18-cp39-cp39-macosx_13_0_x86_64.whl size=1886255 sha256=635b308f295db89a312328747563c1229ae652af1940ec3a3cbd798cfd6e9562\n",
            "  Stored in directory: /private/var/folders/9t/msy700h16jz3q35qvg4z1ln40000gn/T/pip-ephem-wheel-cache-y4tj1_uj/wheels/f5/c3/64/dceaadaf16197204d2344811b0c2b684c420f545bc0c27fad9\n",
            "Successfully built llama-cpp-python\n",
            "Installing collected packages: typing-extensions, numpy, diskcache, llama-cpp-python\n",
            "  Attempting uninstall: typing-extensions\n",
            "    Found existing installation: typing_extensions 4.8.0\n",
            "    Uninstalling typing_extensions-4.8.0:\n",
            "      Successfully uninstalled typing_extensions-4.8.0\n",
            "  Attempting uninstall: numpy\n",
            "    Found existing installation: numpy 1.23.5\n",
            "    Uninstalling numpy-1.23.5:\n",
            "      Successfully uninstalled numpy-1.23.5\n",
            "  Attempting uninstall: diskcache\n",
            "    Found existing installation: diskcache 5.6.3\n",
            "    Uninstalling diskcache-5.6.3:\n",
            "      Successfully uninstalled diskcache-5.6.3\n",
            "  Attempting uninstall: llama-cpp-python\n",
            "    Found existing installation: llama_cpp_python 0.2.15\n",
            "    Uninstalling llama_cpp_python-0.2.15:\n",
            "      Successfully uninstalled llama_cpp_python-0.2.15\n",
            "\u001b[31mERROR: pip's dependency resolver does not currently take into account all the packages that are installed. This behaviour is the source of the following dependency conflicts.\n",
            "argilla 1.18.0 requires numpy<1.24.0, but you have numpy 1.26.2 which is incompatible.\u001b[0m\u001b[31m\n",
            "\u001b[0mSuccessfully installed diskcache-5.6.3 llama-cpp-python-0.2.18 numpy-1.26.2 typing-extensions-4.8.0\n",
            "\n",
            "\u001b[1m[\u001b[0m\u001b[34;49mnotice\u001b[0m\u001b[1;39;49m]\u001b[0m\u001b[39;49m A new release of pip is available: \u001b[0m\u001b[31;49m23.0.1\u001b[0m\u001b[39;49m -> \u001b[0m\u001b[32;49m23.3.1\u001b[0m\n",
            "\u001b[1m[\u001b[0m\u001b[34;49mnotice\u001b[0m\u001b[1;39;49m]\u001b[0m\u001b[39;49m To update, run: \u001b[0m\u001b[32;49mpip install --upgrade pip\u001b[0m\n"
          ]
        }
      ],
      "source": [
        "!CMAKE_ARGS=\"-DLLAMA_METAL=on\" FORCE_CMAKE=1 pip install --upgrade --force-reinstall llama-cpp-python --no-cache-dir"
      ]
    },
    {
      "cell_type": "code",
      "execution_count": null,
      "metadata": {},
      "outputs": [],
      "source": [
        "# from ctransformers import AutoModelForCausalLM\n",
        "\n",
        "# # Set gpu_layers to the number of layers to offload to GPU. Set to 0 if no GPU acceleration is available on your system.\n",
        "# llm = AutoModelForCausalLM.from_pretrained(\"TheBloke/Mistral-7B-Instruct-v0.1-GGUF\", model_file=\"mistral-7b-instruct-v0.1.Q4_K_M.gguf\", model_type=\"mistral\")\n",
        "\n",
        "# print(llm(\"AI is going to\"))"
      ]
    },
    {
      "cell_type": "markdown",
      "metadata": {},
      "source": [
        "## Imports"
      ]
    },
    {
      "cell_type": "code",
      "execution_count": 104,
      "metadata": {},
      "outputs": [
        {
          "name": "stderr",
          "output_type": "stream",
          "text": [
            "/Users/davidberenstein/Documents/programming/argilla/awesome-argilla-datasets/.env/lib/python3.9/site-packages/tqdm/auto.py:21: TqdmWarning: IProgress not found. Please update jupyter and ipywidgets. See https://ipywidgets.readthedocs.io/en/stable/user_install.html\n",
            "  from .autonotebook import tqdm as notebook_tqdm\n"
          ]
        }
      ],
      "source": [
        "import textdescriptives as td\n",
        "from datasets import load_dataset\n",
        "import re\n",
        "import spacy\n",
        "from langdetect import detect\n",
        "import argilla as rg\n",
        "import numpy as np\n",
        "import concurrent.futures\n",
        "import requests\n",
        "import json"
      ]
    },
    {
      "cell_type": "markdown",
      "metadata": {},
      "source": [
        "## Connect to Argilla"
      ]
    },
    {
      "cell_type": "code",
      "execution_count": 2,
      "metadata": {},
      "outputs": [
        {
          "name": "stderr",
          "output_type": "stream",
          "text": [
            "/Users/davidberenstein/Documents/programming/argilla/awesome-argilla-datasets/.env/lib/python3.9/site-packages/argilla/client/client.py:165: UserWarning: No workspace configuration was detected. To work with Argilla datasets, specify a valid workspace name on `rg.init` or set it up through the `rg.set_workspace` function.\n",
            "  warnings.warn(\n",
            "/Users/davidberenstein/Documents/programming/argilla/awesome-argilla-datasets/.env/lib/python3.9/site-packages/argilla/client/client.py:182: UserWarning: You're connecting to Argilla Server 1.19.0 using a different client version (1.18.0).\n",
            "This may lead to potential compatibility issues during your experience.\n",
            "To ensure a seamless and optimized connection, we highly recommend aligning your client version with the server version.\n",
            "  warnings.warn(\n"
          ]
        }
      ],
      "source": [
        "import os\n",
        "import argilla as rg\n",
        "\n",
        "rg.init(api_url=os.environ.get(\"ARGILLA_API_URL_PRE\"), api_key=os.environ.get(\"ARGILLA_API_KEY_PRE\"))"
      ]
    },
    {
      "cell_type": "markdown",
      "metadata": {
        "id": "RpkYEwr5dD6w"
      },
      "source": [
        "## Pre-processing\n",
        "\n",
        "End-to-end workflow to create a dataset in Argilla with text measurements as metadata.\n",
        "This aids in quickly identifying and improving potential dataset issues."
      ]
    },
    {
      "cell_type": "markdown",
      "metadata": {},
      "source": [
        "### Dataset creation\n",
        "\n",
        "At first, we need to create a dataset in Argilla. This can either be done by loading a previous created dataset or by creating a new one. In order to avoid duplication, we will check if the dataset already exists. Additionally, we will load the markdown file that contains the dataset guidelines.\n"
      ]
    },
    {
      "cell_type": "code",
      "execution_count": 3,
      "metadata": {},
      "outputs": [
        {
          "data": {
            "text/plain": [
              "\"# Guidelines\\n\\nThe ShareGPT dataset is a dataset that was collected by public users who were using the Google Chrome extension offered by [sharegpt.com](sharegpt.com) to share their ChatGPT conversations. This data should mimic real-life usage of the model and can therefore be used to fine-tune a model for an actual scenario. Additionally, Google was accused of using this dataset as a baseline to train its [BARD](https://www.theverge.com/2023/3/29/23662621/google-bard-chatgpt-sharegpt-training-denies) model.\\n\\nWe decided to use a random subset of the raw version of the dataset including all conversations but we did filter out non-English conversation. The raw dataset used can be found on [the Hugging Face hub](https://huggingface.co/datasets/zetavg/ShareGPT-Processed).\\n\\n## Classification Tasks\\n\\nThe dataset aims to classify three things:\\n\\n1. Quality\\n2. Intent\\n3. Toxicity\\n\\n### Quality\\n\\nFor the quality, we have decided to define a rating question on a scale from 1 to 7. This question is used to assess the quality of the prompt, based on quality, grammar and clarity of context.\\n\\n### Intent\\n\\nFor the intent, we have decided to define a multi-label classification question which will be used to determine the prompt types as defined in the [Llama 2 paper](https://arxiv.org/abs/2307.09288). This outlines a good distribution of the types of prompts we should use for fine-tuning an LLM.\\n\\n- Generation: A statement that indicates the need for open generation.\\n- Rewrite: A statement that is rewritten by the model.\\n- Extract: A question that is answered by extracted from the context in the prompt.\\n- Closed QA: A question that is answered by the model based on the context.\\n- Open QA: A question that is answered by the model without any context.\\n- Classification: A statement that is classified by the model.\\n- Summarization: A summary of the context.\\n- Brainstorming: A list of ideas or concepts.\\n- Chat: A chat between two people.\\n- Code: A statement about code or programming.\\n- Other: A prompt that does not fit into any of the above categories.\\n\\n### Toxicity\\n\\nFor the Toxicity, we decided to use the [Guardrailing Mistral](https://docs.mistral.ai/usage/guardrailing) proposal as a reference. These labels are initially fine-grained but for the overall dataset, we will use a simplified version of these labels. As proposed by the Mistral team.\\n\\n- Illegal: Illegal activity.\\n- Child abuse: child sexual abuse material or any content that exploits or harms children.\\n- Hate violence harassment: Generation of hateful, harassing, or violent content: content that expresses, incites, or promotes hate based on identity, content that intends to harass, threaten, or bully an individual, content that promotes or glorifies violence or celebrates the suffering or humiliation of others.\\n- Malware: Generation of malware: content that attempts to generate code that is designed to disrupt, damage, or gain unauthorized access to a computer system.\\n- Physical harm: activity that has high risk of physical harm, including: weapons development, military and warfare, management or operation of critical infrastructure in energy, transportation, and water, content that promotes, encourages, or depicts acts of self-harm, such as suicide, cutting, and eating disorders.\\n- Economic harm: activity that has high risk of economic harm, including: multi-level marketing, gambling, payday lending, automated determinations of eligibility for credit, employment, educational institutions, or public assistance services.\\n- Fraud: Fraudulent or deceptive activity, including: scams, coordinated inauthentic behavior, plagiarism, academic dishonesty, astroturfing, such as fake grassroots support or fake review generation, disinformation, spam, pseudo-pharmaceuticals.\\n- Adult: Adult content, adult industries, and dating apps, including: content meant to arouse sexual excitement, such as the description of sexual activity, or that promotes sexual services (excluding sex education and wellness), erotic chat, pornography.\\n- Political: Political campaigning or lobbying, by: generating high volumes of campaign materials, generating campaign materials personalized to or targeted at specific demographics, building conversational or interactive systems such as chatbots that provide information about campaigns or engage in political advocacy or lobbying, building products for political campaigning or lobbying purposes.\\n- Privacy: Activity that violates people's privacy, including: tracking or monitoring an individual without their consent, facial recognition of private individuals, classifying individuals based on protected characteristics, using biometrics for identification or assessment, unlawful collection or disclosure of personal identifiable information or educational, financial, or other protected records.\\n- Unqualified law: Engaging in the unauthorized practice of law, or offering tailored legal advice without a qualified person reviewing the information.\\n- Unqualified financial: Offering tailored financial advice without a qualified person reviewing the information.\\n- Unqualified health: Telling someone that they have or do not have a certain health condition, or providing instructions on how to cure or treat a health condition.\\n\\nThese have been mapped to the following simplified labels:\\n\\n- Illegal: Illegal activities such as terrorism, child abuse or fraud.\\n- Harmful: Hateful, harassing or violent content such as discrimination, self-harm or bullying.\\n- Unqualified advice: Unqualified advice for instance in legal, medical or financial domains.\""
            ]
          },
          "execution_count": 3,
          "metadata": {},
          "output_type": "execute_result"
        }
      ],
      "source": [
        "with open(\"GUIDELINES.md\") as f:\n",
        "    guidelines = f.read()\n",
        "guidelines"
      ]
    },
    {
      "cell_type": "code",
      "execution_count": 4,
      "metadata": {},
      "outputs": [
        {
          "data": {
            "text/html": [
              "<pre style=\"white-space:pre;overflow-x:auto;line-height:normal;font-family:Menlo,'DejaVu Sans Mono',consolas,'Courier New',monospace\"><span style=\"color: #800000; text-decoration-color: #800000\">╭─────────────────────────────── </span><span style=\"color: #800000; text-decoration-color: #800000; font-weight: bold\">Traceback </span><span style=\"color: #bf7f7f; text-decoration-color: #bf7f7f; font-weight: bold\">(most recent call last)</span><span style=\"color: #800000; text-decoration-color: #800000\"> ────────────────────────────────╮</span>\n",
              "<span style=\"color: #800000; text-decoration-color: #800000\">│</span> in <span style=\"color: #00ff00; text-decoration-color: #00ff00\">&lt;module&gt;</span>:<span style=\"color: #0000ff; text-decoration-color: #0000ff\">29</span>                                                                                   <span style=\"color: #800000; text-decoration-color: #800000\">│</span>\n",
              "<span style=\"color: #800000; text-decoration-color: #800000\">│</span>                                                                                                  <span style=\"color: #800000; text-decoration-color: #800000\">│</span>\n",
              "<span style=\"color: #800000; text-decoration-color: #800000\">│</span>   <span style=\"color: #7f7f7f; text-decoration-color: #7f7f7f\">26 </span><span style=\"color: #7f7f7f; text-decoration-color: #7f7f7f\">│   │   │   </span>)                                                                               <span style=\"color: #800000; text-decoration-color: #800000\">│</span>\n",
              "<span style=\"color: #800000; text-decoration-color: #800000\">│</span>   <span style=\"color: #7f7f7f; text-decoration-color: #7f7f7f\">27 </span><span style=\"color: #7f7f7f; text-decoration-color: #7f7f7f\">│   │   </span>]                                                                                   <span style=\"color: #800000; text-decoration-color: #800000\">│</span>\n",
              "<span style=\"color: #800000; text-decoration-color: #800000\">│</span>   <span style=\"color: #7f7f7f; text-decoration-color: #7f7f7f\">28 </span><span style=\"color: #7f7f7f; text-decoration-color: #7f7f7f\">│   </span>)                                                                                       <span style=\"color: #800000; text-decoration-color: #800000\">│</span>\n",
              "<span style=\"color: #800000; text-decoration-color: #800000\">│</span> <span style=\"color: #800000; text-decoration-color: #800000\">❱ </span>29 <span style=\"color: #7f7f7f; text-decoration-color: #7f7f7f\">│   </span>ds_remote = ds_local.push_to_argilla(<span style=\"color: #808000; text-decoration-color: #808000\">\"sharegpt\"</span>)                                        <span style=\"color: #800000; text-decoration-color: #800000\">│</span>\n",
              "<span style=\"color: #800000; text-decoration-color: #800000\">│</span>   <span style=\"color: #7f7f7f; text-decoration-color: #7f7f7f\">30 </span><span style=\"color: #0000ff; text-decoration-color: #0000ff\">except</span> <span style=\"color: #00ffff; text-decoration-color: #00ffff\">Exception</span> <span style=\"color: #0000ff; text-decoration-color: #0000ff\">as</span> e:                                                                      <span style=\"color: #800000; text-decoration-color: #800000\">│</span>\n",
              "<span style=\"color: #800000; text-decoration-color: #800000\">│</span>   <span style=\"color: #7f7f7f; text-decoration-color: #7f7f7f\">31 </span><span style=\"color: #7f7f7f; text-decoration-color: #7f7f7f\">│   </span>ds_remote = rg.FeedbackDataset.from_argilla(<span style=\"color: #808000; text-decoration-color: #808000\">\"sharegpt\"</span>)                                 <span style=\"color: #800000; text-decoration-color: #800000\">│</span>\n",
              "<span style=\"color: #800000; text-decoration-color: #800000\">│</span>   <span style=\"color: #7f7f7f; text-decoration-color: #7f7f7f\">32 </span>ds_remote                                                                                   <span style=\"color: #800000; text-decoration-color: #800000\">│</span>\n",
              "<span style=\"color: #800000; text-decoration-color: #800000\">│</span>                                                                                                  <span style=\"color: #800000; text-decoration-color: #800000\">│</span>\n",
              "<span style=\"color: #800000; text-decoration-color: #800000\">│</span> <span style=\"color: #bfbf7f; text-decoration-color: #bfbf7f\">/Users/davidberenstein/Documents/programming/argilla/awesome-argilla-datasets/.env/lib/python3.9</span> <span style=\"color: #800000; text-decoration-color: #800000\">│</span>\n",
              "<span style=\"color: #800000; text-decoration-color: #800000\">│</span> <span style=\"color: #bfbf7f; text-decoration-color: #bfbf7f\">/site-packages/argilla/client/feedback/dataset/local/</span><span style=\"color: #808000; text-decoration-color: #808000; font-weight: bold\">mixins.py</span>:<span style=\"color: #0000ff; text-decoration-color: #0000ff\">256</span> in <span style=\"color: #00ff00; text-decoration-color: #00ff00\">push_to_argilla</span>            <span style=\"color: #800000; text-decoration-color: #800000\">│</span>\n",
              "<span style=\"color: #800000; text-decoration-color: #800000\">│</span>                                                                                                  <span style=\"color: #800000; text-decoration-color: #800000\">│</span>\n",
              "<span style=\"color: #800000; text-decoration-color: #800000\">│</span>   <span style=\"color: #7f7f7f; text-decoration-color: #7f7f7f\">253 </span><span style=\"color: #7f7f7f; text-decoration-color: #7f7f7f\">│   │   </span>httpx_client: <span style=\"color: #808000; text-decoration-color: #808000\">\"httpx.Client\"</span> = client.http_client.httpx                            <span style=\"color: #800000; text-decoration-color: #800000\">│</span>\n",
              "<span style=\"color: #800000; text-decoration-color: #800000\">│</span>   <span style=\"color: #7f7f7f; text-decoration-color: #7f7f7f\">254 </span><span style=\"color: #7f7f7f; text-decoration-color: #7f7f7f\">│   │   </span>                                                                                   <span style=\"color: #800000; text-decoration-color: #800000\">│</span>\n",
              "<span style=\"color: #800000; text-decoration-color: #800000\">│</span>   <span style=\"color: #7f7f7f; text-decoration-color: #7f7f7f\">255 </span><span style=\"color: #7f7f7f; text-decoration-color: #7f7f7f\">│   │   </span><span style=\"color: #0000ff; text-decoration-color: #0000ff\">if</span> workspace <span style=\"color: #ff00ff; text-decoration-color: #ff00ff\">is</span> <span style=\"color: #0000ff; text-decoration-color: #0000ff\">None</span>:                                                              <span style=\"color: #800000; text-decoration-color: #800000\">│</span>\n",
              "<span style=\"color: #800000; text-decoration-color: #800000\">│</span> <span style=\"color: #800000; text-decoration-color: #800000\">❱ </span>256 <span style=\"color: #7f7f7f; text-decoration-color: #7f7f7f\">│   │   │   </span>workspace = Workspace.from_name(client.get_workspace())                        <span style=\"color: #800000; text-decoration-color: #800000\">│</span>\n",
              "<span style=\"color: #800000; text-decoration-color: #800000\">│</span>   <span style=\"color: #7f7f7f; text-decoration-color: #7f7f7f\">257 </span><span style=\"color: #7f7f7f; text-decoration-color: #7f7f7f\">│   │   </span>                                                                                   <span style=\"color: #800000; text-decoration-color: #800000\">│</span>\n",
              "<span style=\"color: #800000; text-decoration-color: #800000\">│</span>   <span style=\"color: #7f7f7f; text-decoration-color: #7f7f7f\">258 </span><span style=\"color: #7f7f7f; text-decoration-color: #7f7f7f\">│   │   </span><span style=\"color: #0000ff; text-decoration-color: #0000ff\">if</span> <span style=\"color: #00ffff; text-decoration-color: #00ffff\">isinstance</span>(workspace, <span style=\"color: #00ffff; text-decoration-color: #00ffff\">str</span>):                                                     <span style=\"color: #800000; text-decoration-color: #800000\">│</span>\n",
              "<span style=\"color: #800000; text-decoration-color: #800000\">│</span>   <span style=\"color: #7f7f7f; text-decoration-color: #7f7f7f\">259 </span><span style=\"color: #7f7f7f; text-decoration-color: #7f7f7f\">│   │   │   </span>workspace = Workspace.from_name(workspace)                                     <span style=\"color: #800000; text-decoration-color: #800000\">│</span>\n",
              "<span style=\"color: #800000; text-decoration-color: #800000\">│</span>                                                                                                  <span style=\"color: #800000; text-decoration-color: #800000\">│</span>\n",
              "<span style=\"color: #800000; text-decoration-color: #800000\">│</span> <span style=\"color: #bfbf7f; text-decoration-color: #bfbf7f\">/Users/davidberenstein/Documents/programming/argilla/awesome-argilla-datasets/.env/lib/python3.9</span> <span style=\"color: #800000; text-decoration-color: #800000\">│</span>\n",
              "<span style=\"color: #800000; text-decoration-color: #800000\">│</span> <span style=\"color: #bfbf7f; text-decoration-color: #bfbf7f\">/site-packages/argilla/client/</span><span style=\"color: #808000; text-decoration-color: #808000; font-weight: bold\">workspaces.py</span>:<span style=\"color: #0000ff; text-decoration-color: #0000ff\">367</span> in <span style=\"color: #00ff00; text-decoration-color: #00ff00\">from_name</span>                                     <span style=\"color: #800000; text-decoration-color: #800000\">│</span>\n",
              "<span style=\"color: #800000; text-decoration-color: #800000\">│</span>                                                                                                  <span style=\"color: #800000; text-decoration-color: #800000\">│</span>\n",
              "<span style=\"color: #800000; text-decoration-color: #800000\">│</span>   <span style=\"color: #7f7f7f; text-decoration-color: #7f7f7f\">364 </span><span style=\"color: #7f7f7f; text-decoration-color: #7f7f7f\">│   │   │   </span><span style=\"color: #0000ff; text-decoration-color: #0000ff\">if</span> ws.name == name:                                                            <span style=\"color: #800000; text-decoration-color: #800000\">│</span>\n",
              "<span style=\"color: #800000; text-decoration-color: #800000\">│</span>   <span style=\"color: #7f7f7f; text-decoration-color: #7f7f7f\">365 </span><span style=\"color: #7f7f7f; text-decoration-color: #7f7f7f\">│   │   │   │   </span><span style=\"color: #0000ff; text-decoration-color: #0000ff\">return</span> <span style=\"color: #00ffff; text-decoration-color: #00ffff\">cls</span>._new_instance(client, ws)                                       <span style=\"color: #800000; text-decoration-color: #800000\">│</span>\n",
              "<span style=\"color: #800000; text-decoration-color: #800000\">│</span>   <span style=\"color: #7f7f7f; text-decoration-color: #7f7f7f\">366 </span><span style=\"color: #7f7f7f; text-decoration-color: #7f7f7f\">│   │   </span>                                                                                   <span style=\"color: #800000; text-decoration-color: #800000\">│</span>\n",
              "<span style=\"color: #800000; text-decoration-color: #800000\">│</span> <span style=\"color: #800000; text-decoration-color: #800000\">❱ </span>367 <span style=\"color: #7f7f7f; text-decoration-color: #7f7f7f\">│   │   </span><span style=\"color: #0000ff; text-decoration-color: #0000ff\">raise</span> <span style=\"color: #00ffff; text-decoration-color: #00ffff\">ValueError</span>(                                                                  <span style=\"color: #800000; text-decoration-color: #800000\">│</span>\n",
              "<span style=\"color: #800000; text-decoration-color: #800000\">│</span>   <span style=\"color: #7f7f7f; text-decoration-color: #7f7f7f\">368 </span><span style=\"color: #7f7f7f; text-decoration-color: #7f7f7f\">│   │   │   </span><span style=\"color: #808000; text-decoration-color: #808000\">f\"Workspace with name=`{</span>name<span style=\"color: #808000; text-decoration-color: #808000\">}` doesn't exist in Argilla, so please\"</span>            <span style=\"color: #800000; text-decoration-color: #800000\">│</span>\n",
              "<span style=\"color: #800000; text-decoration-color: #800000\">│</span>   <span style=\"color: #7f7f7f; text-decoration-color: #7f7f7f\">369 </span><span style=\"color: #7f7f7f; text-decoration-color: #7f7f7f\">│   │   │   </span><span style=\"color: #808000; text-decoration-color: #808000\">\" create it via the `Workspace.create` method as follows:\"</span>                     <span style=\"color: #800000; text-decoration-color: #800000\">│</span>\n",
              "<span style=\"color: #800000; text-decoration-color: #800000\">│</span>   <span style=\"color: #7f7f7f; text-decoration-color: #7f7f7f\">370 </span><span style=\"color: #7f7f7f; text-decoration-color: #7f7f7f\">│   │   │   </span><span style=\"color: #808000; text-decoration-color: #808000\">f\" `Workspace.create('{</span>name<span style=\"color: #808000; text-decoration-color: #808000\">}')`.\"</span>                                              <span style=\"color: #800000; text-decoration-color: #800000\">│</span>\n",
              "<span style=\"color: #800000; text-decoration-color: #800000\">╰──────────────────────────────────────────────────────────────────────────────────────────────────╯</span>\n",
              "<span style=\"color: #ff0000; text-decoration-color: #ff0000; font-weight: bold\">ValueError: </span>Workspace with <span style=\"color: #808000; text-decoration-color: #808000\">name</span>=`<span style=\"color: #800080; text-decoration-color: #800080; font-style: italic\">None</span>` doesn't exist in Argilla, so please create it via the `Workspace.create` \n",
              "method as follows: `<span style=\"color: #800080; text-decoration-color: #800080; font-weight: bold\">Workspace.create</span><span style=\"font-weight: bold\">(</span><span style=\"color: #008000; text-decoration-color: #008000\">'None'</span><span style=\"font-weight: bold\">)</span>`.\n",
              "\n",
              "<span style=\"font-style: italic\">During handling of the above exception, another exception occurred:</span>\n",
              "\n",
              "<span style=\"color: #800000; text-decoration-color: #800000\">╭─────────────────────────────── </span><span style=\"color: #800000; text-decoration-color: #800000; font-weight: bold\">Traceback </span><span style=\"color: #bf7f7f; text-decoration-color: #bf7f7f; font-weight: bold\">(most recent call last)</span><span style=\"color: #800000; text-decoration-color: #800000\"> ────────────────────────────────╮</span>\n",
              "<span style=\"color: #800000; text-decoration-color: #800000\">│</span> in <span style=\"color: #00ff00; text-decoration-color: #00ff00\">&lt;module&gt;</span>:<span style=\"color: #0000ff; text-decoration-color: #0000ff\">31</span>                                                                                   <span style=\"color: #800000; text-decoration-color: #800000\">│</span>\n",
              "<span style=\"color: #800000; text-decoration-color: #800000\">│</span>                                                                                                  <span style=\"color: #800000; text-decoration-color: #800000\">│</span>\n",
              "<span style=\"color: #800000; text-decoration-color: #800000\">│</span>   <span style=\"color: #7f7f7f; text-decoration-color: #7f7f7f\">28 </span><span style=\"color: #7f7f7f; text-decoration-color: #7f7f7f\">│   </span>)                                                                                       <span style=\"color: #800000; text-decoration-color: #800000\">│</span>\n",
              "<span style=\"color: #800000; text-decoration-color: #800000\">│</span>   <span style=\"color: #7f7f7f; text-decoration-color: #7f7f7f\">29 </span><span style=\"color: #7f7f7f; text-decoration-color: #7f7f7f\">│   </span>ds_remote = ds_local.push_to_argilla(<span style=\"color: #808000; text-decoration-color: #808000\">\"sharegpt\"</span>)                                        <span style=\"color: #800000; text-decoration-color: #800000\">│</span>\n",
              "<span style=\"color: #800000; text-decoration-color: #800000\">│</span>   <span style=\"color: #7f7f7f; text-decoration-color: #7f7f7f\">30 </span><span style=\"color: #0000ff; text-decoration-color: #0000ff\">except</span> <span style=\"color: #00ffff; text-decoration-color: #00ffff\">Exception</span> <span style=\"color: #0000ff; text-decoration-color: #0000ff\">as</span> e:                                                                      <span style=\"color: #800000; text-decoration-color: #800000\">│</span>\n",
              "<span style=\"color: #800000; text-decoration-color: #800000\">│</span> <span style=\"color: #800000; text-decoration-color: #800000\">❱ </span>31 <span style=\"color: #7f7f7f; text-decoration-color: #7f7f7f\">│   </span>ds_remote = rg.FeedbackDataset.from_argilla(<span style=\"color: #808000; text-decoration-color: #808000\">\"sharegpt\"</span>)                                 <span style=\"color: #800000; text-decoration-color: #800000\">│</span>\n",
              "<span style=\"color: #800000; text-decoration-color: #800000\">│</span>   <span style=\"color: #7f7f7f; text-decoration-color: #7f7f7f\">32 </span>ds_remote                                                                                   <span style=\"color: #800000; text-decoration-color: #800000\">│</span>\n",
              "<span style=\"color: #800000; text-decoration-color: #800000\">│</span>   <span style=\"color: #7f7f7f; text-decoration-color: #7f7f7f\">33 </span>                                                                                            <span style=\"color: #800000; text-decoration-color: #800000\">│</span>\n",
              "<span style=\"color: #800000; text-decoration-color: #800000\">│</span>                                                                                                  <span style=\"color: #800000; text-decoration-color: #800000\">│</span>\n",
              "<span style=\"color: #800000; text-decoration-color: #800000\">│</span> <span style=\"color: #bfbf7f; text-decoration-color: #bfbf7f\">/Users/davidberenstein/Documents/programming/argilla/awesome-argilla-datasets/.env/lib/python3.9</span> <span style=\"color: #800000; text-decoration-color: #800000\">│</span>\n",
              "<span style=\"color: #800000; text-decoration-color: #800000\">│</span> <span style=\"color: #bfbf7f; text-decoration-color: #bfbf7f\">/site-packages/argilla/client/feedback/dataset/local/</span><span style=\"color: #808000; text-decoration-color: #808000; font-weight: bold\">mixins.py</span>:<span style=\"color: #0000ff; text-decoration-color: #0000ff\">370</span> in <span style=\"color: #00ff00; text-decoration-color: #00ff00\">from_argilla</span>               <span style=\"color: #800000; text-decoration-color: #800000\">│</span>\n",
              "<span style=\"color: #800000; text-decoration-color: #800000\">│</span>                                                                                                  <span style=\"color: #800000; text-decoration-color: #800000\">│</span>\n",
              "<span style=\"color: #800000; text-decoration-color: #800000\">│</span>   <span style=\"color: #7f7f7f; text-decoration-color: #7f7f7f\">367 </span><span style=\"color: #bfbf7f; text-decoration-color: #bfbf7f\">│   │   </span><span style=\"color: #808000; text-decoration-color: #808000\">\"\"\"</span>                                                                                <span style=\"color: #800000; text-decoration-color: #800000\">│</span>\n",
              "<span style=\"color: #800000; text-decoration-color: #800000\">│</span>   <span style=\"color: #7f7f7f; text-decoration-color: #7f7f7f\">368 </span><span style=\"color: #7f7f7f; text-decoration-color: #7f7f7f\">│   │   </span>httpx_client: <span style=\"color: #808000; text-decoration-color: #808000\">\"httpx.Client\"</span> = ArgillaSingleton.get().http_client.httpx            <span style=\"color: #800000; text-decoration-color: #800000\">│</span>\n",
              "<span style=\"color: #800000; text-decoration-color: #800000\">│</span>   <span style=\"color: #7f7f7f; text-decoration-color: #7f7f7f\">369 </span><span style=\"color: #7f7f7f; text-decoration-color: #7f7f7f\">│   │   </span>                                                                                   <span style=\"color: #800000; text-decoration-color: #800000\">│</span>\n",
              "<span style=\"color: #800000; text-decoration-color: #800000\">│</span> <span style=\"color: #800000; text-decoration-color: #800000\">❱ </span>370 <span style=\"color: #7f7f7f; text-decoration-color: #7f7f7f\">│   │   </span>existing_dataset = feedback_dataset_in_argilla(name=name, workspace=workspace, <span style=\"color: #00ffff; text-decoration-color: #00ffff\">i</span>   <span style=\"color: #800000; text-decoration-color: #800000\">│</span>\n",
              "<span style=\"color: #800000; text-decoration-color: #800000\">│</span>   <span style=\"color: #7f7f7f; text-decoration-color: #7f7f7f\">371 </span><span style=\"color: #7f7f7f; text-decoration-color: #7f7f7f\">│   │   </span><span style=\"color: #0000ff; text-decoration-color: #0000ff\">if</span> existing_dataset <span style=\"color: #ff00ff; text-decoration-color: #ff00ff\">is</span> <span style=\"color: #0000ff; text-decoration-color: #0000ff\">None</span>:                                                       <span style=\"color: #800000; text-decoration-color: #800000\">│</span>\n",
              "<span style=\"color: #800000; text-decoration-color: #800000\">│</span>   <span style=\"color: #7f7f7f; text-decoration-color: #7f7f7f\">372 </span><span style=\"color: #7f7f7f; text-decoration-color: #7f7f7f\">│   │   │   </span><span style=\"color: #0000ff; text-decoration-color: #0000ff\">raise</span> <span style=\"color: #00ffff; text-decoration-color: #00ffff\">ValueError</span>(                                                              <span style=\"color: #800000; text-decoration-color: #800000\">│</span>\n",
              "<span style=\"color: #800000; text-decoration-color: #800000\">│</span>   <span style=\"color: #7f7f7f; text-decoration-color: #7f7f7f\">373 </span><span style=\"color: #7f7f7f; text-decoration-color: #7f7f7f\">│   │   │   │   </span><span style=\"color: #808000; text-decoration-color: #808000\">f\"Could not find a `FeedbackDataset` in Argilla with name='{</span>name<span style=\"color: #808000; text-decoration-color: #808000\">}'.\"</span>       <span style=\"color: #800000; text-decoration-color: #800000\">│</span>\n",
              "<span style=\"color: #800000; text-decoration-color: #800000\">│</span>                                                                                                  <span style=\"color: #800000; text-decoration-color: #800000\">│</span>\n",
              "<span style=\"color: #800000; text-decoration-color: #800000\">│</span> <span style=\"color: #bfbf7f; text-decoration-color: #bfbf7f\">/Users/davidberenstein/Documents/programming/argilla/awesome-argilla-datasets/.env/lib/python3.9</span> <span style=\"color: #800000; text-decoration-color: #800000\">│</span>\n",
              "<span style=\"color: #800000; text-decoration-color: #800000\">│</span> <span style=\"color: #bfbf7f; text-decoration-color: #bfbf7f\">/site-packages/argilla/client/feedback/</span><span style=\"color: #808000; text-decoration-color: #808000; font-weight: bold\">utils.py</span>:<span style=\"color: #0000ff; text-decoration-color: #0000ff\">163</span> in <span style=\"color: #00ff00; text-decoration-color: #00ff00\">feedback_dataset_in_argilla</span>               <span style=\"color: #800000; text-decoration-color: #800000\">│</span>\n",
              "<span style=\"color: #800000; text-decoration-color: #800000\">│</span>                                                                                                  <span style=\"color: #800000; text-decoration-color: #800000\">│</span>\n",
              "<span style=\"color: #800000; text-decoration-color: #800000\">│</span>   <span style=\"color: #7f7f7f; text-decoration-color: #7f7f7f\">160 </span><span style=\"color: #7f7f7f; text-decoration-color: #7f7f7f\">│   </span>                                                                                       <span style=\"color: #800000; text-decoration-color: #800000\">│</span>\n",
              "<span style=\"color: #800000; text-decoration-color: #800000\">│</span>   <span style=\"color: #7f7f7f; text-decoration-color: #7f7f7f\">161 </span><span style=\"color: #7f7f7f; text-decoration-color: #7f7f7f\">│   </span><span style=\"color: #0000ff; text-decoration-color: #0000ff\">if</span> name:                                                                               <span style=\"color: #800000; text-decoration-color: #800000\">│</span>\n",
              "<span style=\"color: #800000; text-decoration-color: #800000\">│</span>   <span style=\"color: #7f7f7f; text-decoration-color: #7f7f7f\">162 </span><span style=\"color: #7f7f7f; text-decoration-color: #7f7f7f\">│   │   </span><span style=\"color: #0000ff; text-decoration-color: #0000ff\">if</span> workspace <span style=\"color: #ff00ff; text-decoration-color: #ff00ff\">is</span> <span style=\"color: #0000ff; text-decoration-color: #0000ff\">None</span>:                                                              <span style=\"color: #800000; text-decoration-color: #800000\">│</span>\n",
              "<span style=\"color: #800000; text-decoration-color: #800000\">│</span> <span style=\"color: #800000; text-decoration-color: #800000\">❱ </span>163 <span style=\"color: #7f7f7f; text-decoration-color: #7f7f7f\">│   │   │   </span>workspace = Workspace.from_name(client.get_workspace())                        <span style=\"color: #800000; text-decoration-color: #800000\">│</span>\n",
              "<span style=\"color: #800000; text-decoration-color: #800000\">│</span>   <span style=\"color: #7f7f7f; text-decoration-color: #7f7f7f\">164 </span><span style=\"color: #7f7f7f; text-decoration-color: #7f7f7f\">│   │   </span><span style=\"color: #0000ff; text-decoration-color: #0000ff\">elif</span> <span style=\"color: #00ffff; text-decoration-color: #00ffff\">isinstance</span>(workspace, <span style=\"color: #00ffff; text-decoration-color: #00ffff\">str</span>):                                                   <span style=\"color: #800000; text-decoration-color: #800000\">│</span>\n",
              "<span style=\"color: #800000; text-decoration-color: #800000\">│</span>   <span style=\"color: #7f7f7f; text-decoration-color: #7f7f7f\">165 </span><span style=\"color: #7f7f7f; text-decoration-color: #7f7f7f\">│   │   │   </span>workspace = Workspace.from_name(workspace)                                     <span style=\"color: #800000; text-decoration-color: #800000\">│</span>\n",
              "<span style=\"color: #800000; text-decoration-color: #800000\">│</span>   <span style=\"color: #7f7f7f; text-decoration-color: #7f7f7f\">166 </span><span style=\"color: #7f7f7f; text-decoration-color: #7f7f7f\">│   │   </span><span style=\"color: #0000ff; text-decoration-color: #0000ff\">elif</span> <span style=\"color: #ff00ff; text-decoration-color: #ff00ff\">not</span> <span style=\"color: #00ffff; text-decoration-color: #00ffff\">isinstance</span>(workspace, Workspace):                                         <span style=\"color: #800000; text-decoration-color: #800000\">│</span>\n",
              "<span style=\"color: #800000; text-decoration-color: #800000\">│</span>                                                                                                  <span style=\"color: #800000; text-decoration-color: #800000\">│</span>\n",
              "<span style=\"color: #800000; text-decoration-color: #800000\">│</span> <span style=\"color: #bfbf7f; text-decoration-color: #bfbf7f\">/Users/davidberenstein/Documents/programming/argilla/awesome-argilla-datasets/.env/lib/python3.9</span> <span style=\"color: #800000; text-decoration-color: #800000\">│</span>\n",
              "<span style=\"color: #800000; text-decoration-color: #800000\">│</span> <span style=\"color: #bfbf7f; text-decoration-color: #bfbf7f\">/site-packages/argilla/client/</span><span style=\"color: #808000; text-decoration-color: #808000; font-weight: bold\">workspaces.py</span>:<span style=\"color: #0000ff; text-decoration-color: #0000ff\">367</span> in <span style=\"color: #00ff00; text-decoration-color: #00ff00\">from_name</span>                                     <span style=\"color: #800000; text-decoration-color: #800000\">│</span>\n",
              "<span style=\"color: #800000; text-decoration-color: #800000\">│</span>                                                                                                  <span style=\"color: #800000; text-decoration-color: #800000\">│</span>\n",
              "<span style=\"color: #800000; text-decoration-color: #800000\">│</span>   <span style=\"color: #7f7f7f; text-decoration-color: #7f7f7f\">364 </span><span style=\"color: #7f7f7f; text-decoration-color: #7f7f7f\">│   │   │   </span><span style=\"color: #0000ff; text-decoration-color: #0000ff\">if</span> ws.name == name:                                                            <span style=\"color: #800000; text-decoration-color: #800000\">│</span>\n",
              "<span style=\"color: #800000; text-decoration-color: #800000\">│</span>   <span style=\"color: #7f7f7f; text-decoration-color: #7f7f7f\">365 </span><span style=\"color: #7f7f7f; text-decoration-color: #7f7f7f\">│   │   │   │   </span><span style=\"color: #0000ff; text-decoration-color: #0000ff\">return</span> <span style=\"color: #00ffff; text-decoration-color: #00ffff\">cls</span>._new_instance(client, ws)                                       <span style=\"color: #800000; text-decoration-color: #800000\">│</span>\n",
              "<span style=\"color: #800000; text-decoration-color: #800000\">│</span>   <span style=\"color: #7f7f7f; text-decoration-color: #7f7f7f\">366 </span><span style=\"color: #7f7f7f; text-decoration-color: #7f7f7f\">│   │   </span>                                                                                   <span style=\"color: #800000; text-decoration-color: #800000\">│</span>\n",
              "<span style=\"color: #800000; text-decoration-color: #800000\">│</span> <span style=\"color: #800000; text-decoration-color: #800000\">❱ </span>367 <span style=\"color: #7f7f7f; text-decoration-color: #7f7f7f\">│   │   </span><span style=\"color: #0000ff; text-decoration-color: #0000ff\">raise</span> <span style=\"color: #00ffff; text-decoration-color: #00ffff\">ValueError</span>(                                                                  <span style=\"color: #800000; text-decoration-color: #800000\">│</span>\n",
              "<span style=\"color: #800000; text-decoration-color: #800000\">│</span>   <span style=\"color: #7f7f7f; text-decoration-color: #7f7f7f\">368 </span><span style=\"color: #7f7f7f; text-decoration-color: #7f7f7f\">│   │   │   </span><span style=\"color: #808000; text-decoration-color: #808000\">f\"Workspace with name=`{</span>name<span style=\"color: #808000; text-decoration-color: #808000\">}` doesn't exist in Argilla, so please\"</span>            <span style=\"color: #800000; text-decoration-color: #800000\">│</span>\n",
              "<span style=\"color: #800000; text-decoration-color: #800000\">│</span>   <span style=\"color: #7f7f7f; text-decoration-color: #7f7f7f\">369 </span><span style=\"color: #7f7f7f; text-decoration-color: #7f7f7f\">│   │   │   </span><span style=\"color: #808000; text-decoration-color: #808000\">\" create it via the `Workspace.create` method as follows:\"</span>                     <span style=\"color: #800000; text-decoration-color: #800000\">│</span>\n",
              "<span style=\"color: #800000; text-decoration-color: #800000\">│</span>   <span style=\"color: #7f7f7f; text-decoration-color: #7f7f7f\">370 </span><span style=\"color: #7f7f7f; text-decoration-color: #7f7f7f\">│   │   │   </span><span style=\"color: #808000; text-decoration-color: #808000\">f\" `Workspace.create('{</span>name<span style=\"color: #808000; text-decoration-color: #808000\">}')`.\"</span>                                              <span style=\"color: #800000; text-decoration-color: #800000\">│</span>\n",
              "<span style=\"color: #800000; text-decoration-color: #800000\">╰──────────────────────────────────────────────────────────────────────────────────────────────────╯</span>\n",
              "<span style=\"color: #ff0000; text-decoration-color: #ff0000; font-weight: bold\">ValueError: </span>Workspace with <span style=\"color: #808000; text-decoration-color: #808000\">name</span>=`<span style=\"color: #800080; text-decoration-color: #800080; font-style: italic\">None</span>` doesn't exist in Argilla, so please create it via the `Workspace.create` \n",
              "method as follows: `<span style=\"color: #800080; text-decoration-color: #800080; font-weight: bold\">Workspace.create</span><span style=\"font-weight: bold\">(</span><span style=\"color: #008000; text-decoration-color: #008000\">'None'</span><span style=\"font-weight: bold\">)</span>`.\n",
              "</pre>\n"
            ],
            "text/plain": [
              "\u001b[31m╭─\u001b[0m\u001b[31m──────────────────────────────\u001b[0m\u001b[31m \u001b[0m\u001b[1;31mTraceback \u001b[0m\u001b[1;2;31m(most recent call last)\u001b[0m\u001b[31m \u001b[0m\u001b[31m───────────────────────────────\u001b[0m\u001b[31m─╮\u001b[0m\n",
              "\u001b[31m│\u001b[0m in \u001b[92m<module>\u001b[0m:\u001b[94m29\u001b[0m                                                                                   \u001b[31m│\u001b[0m\n",
              "\u001b[31m│\u001b[0m                                                                                                  \u001b[31m│\u001b[0m\n",
              "\u001b[31m│\u001b[0m   \u001b[2m26 \u001b[0m\u001b[2m│   │   │   \u001b[0m)                                                                               \u001b[31m│\u001b[0m\n",
              "\u001b[31m│\u001b[0m   \u001b[2m27 \u001b[0m\u001b[2m│   │   \u001b[0m]                                                                                   \u001b[31m│\u001b[0m\n",
              "\u001b[31m│\u001b[0m   \u001b[2m28 \u001b[0m\u001b[2m│   \u001b[0m)                                                                                       \u001b[31m│\u001b[0m\n",
              "\u001b[31m│\u001b[0m \u001b[31m❱ \u001b[0m29 \u001b[2m│   \u001b[0mds_remote = ds_local.push_to_argilla(\u001b[33m\"\u001b[0m\u001b[33msharegpt\u001b[0m\u001b[33m\"\u001b[0m)                                        \u001b[31m│\u001b[0m\n",
              "\u001b[31m│\u001b[0m   \u001b[2m30 \u001b[0m\u001b[94mexcept\u001b[0m \u001b[96mException\u001b[0m \u001b[94mas\u001b[0m e:                                                                      \u001b[31m│\u001b[0m\n",
              "\u001b[31m│\u001b[0m   \u001b[2m31 \u001b[0m\u001b[2m│   \u001b[0mds_remote = rg.FeedbackDataset.from_argilla(\u001b[33m\"\u001b[0m\u001b[33msharegpt\u001b[0m\u001b[33m\"\u001b[0m)                                 \u001b[31m│\u001b[0m\n",
              "\u001b[31m│\u001b[0m   \u001b[2m32 \u001b[0mds_remote                                                                                   \u001b[31m│\u001b[0m\n",
              "\u001b[31m│\u001b[0m                                                                                                  \u001b[31m│\u001b[0m\n",
              "\u001b[31m│\u001b[0m \u001b[2;33m/Users/davidberenstein/Documents/programming/argilla/awesome-argilla-datasets/.env/lib/python3.9\u001b[0m \u001b[31m│\u001b[0m\n",
              "\u001b[31m│\u001b[0m \u001b[2;33m/site-packages/argilla/client/feedback/dataset/local/\u001b[0m\u001b[1;33mmixins.py\u001b[0m:\u001b[94m256\u001b[0m in \u001b[92mpush_to_argilla\u001b[0m            \u001b[31m│\u001b[0m\n",
              "\u001b[31m│\u001b[0m                                                                                                  \u001b[31m│\u001b[0m\n",
              "\u001b[31m│\u001b[0m   \u001b[2m253 \u001b[0m\u001b[2m│   │   \u001b[0mhttpx_client: \u001b[33m\"\u001b[0m\u001b[33mhttpx.Client\u001b[0m\u001b[33m\"\u001b[0m = client.http_client.httpx                            \u001b[31m│\u001b[0m\n",
              "\u001b[31m│\u001b[0m   \u001b[2m254 \u001b[0m\u001b[2m│   │   \u001b[0m                                                                                   \u001b[31m│\u001b[0m\n",
              "\u001b[31m│\u001b[0m   \u001b[2m255 \u001b[0m\u001b[2m│   │   \u001b[0m\u001b[94mif\u001b[0m workspace \u001b[95mis\u001b[0m \u001b[94mNone\u001b[0m:                                                              \u001b[31m│\u001b[0m\n",
              "\u001b[31m│\u001b[0m \u001b[31m❱ \u001b[0m256 \u001b[2m│   │   │   \u001b[0mworkspace = Workspace.from_name(client.get_workspace())                        \u001b[31m│\u001b[0m\n",
              "\u001b[31m│\u001b[0m   \u001b[2m257 \u001b[0m\u001b[2m│   │   \u001b[0m                                                                                   \u001b[31m│\u001b[0m\n",
              "\u001b[31m│\u001b[0m   \u001b[2m258 \u001b[0m\u001b[2m│   │   \u001b[0m\u001b[94mif\u001b[0m \u001b[96misinstance\u001b[0m(workspace, \u001b[96mstr\u001b[0m):                                                     \u001b[31m│\u001b[0m\n",
              "\u001b[31m│\u001b[0m   \u001b[2m259 \u001b[0m\u001b[2m│   │   │   \u001b[0mworkspace = Workspace.from_name(workspace)                                     \u001b[31m│\u001b[0m\n",
              "\u001b[31m│\u001b[0m                                                                                                  \u001b[31m│\u001b[0m\n",
              "\u001b[31m│\u001b[0m \u001b[2;33m/Users/davidberenstein/Documents/programming/argilla/awesome-argilla-datasets/.env/lib/python3.9\u001b[0m \u001b[31m│\u001b[0m\n",
              "\u001b[31m│\u001b[0m \u001b[2;33m/site-packages/argilla/client/\u001b[0m\u001b[1;33mworkspaces.py\u001b[0m:\u001b[94m367\u001b[0m in \u001b[92mfrom_name\u001b[0m                                     \u001b[31m│\u001b[0m\n",
              "\u001b[31m│\u001b[0m                                                                                                  \u001b[31m│\u001b[0m\n",
              "\u001b[31m│\u001b[0m   \u001b[2m364 \u001b[0m\u001b[2m│   │   │   \u001b[0m\u001b[94mif\u001b[0m ws.name == name:                                                            \u001b[31m│\u001b[0m\n",
              "\u001b[31m│\u001b[0m   \u001b[2m365 \u001b[0m\u001b[2m│   │   │   │   \u001b[0m\u001b[94mreturn\u001b[0m \u001b[96mcls\u001b[0m._new_instance(client, ws)                                       \u001b[31m│\u001b[0m\n",
              "\u001b[31m│\u001b[0m   \u001b[2m366 \u001b[0m\u001b[2m│   │   \u001b[0m                                                                                   \u001b[31m│\u001b[0m\n",
              "\u001b[31m│\u001b[0m \u001b[31m❱ \u001b[0m367 \u001b[2m│   │   \u001b[0m\u001b[94mraise\u001b[0m \u001b[96mValueError\u001b[0m(                                                                  \u001b[31m│\u001b[0m\n",
              "\u001b[31m│\u001b[0m   \u001b[2m368 \u001b[0m\u001b[2m│   │   │   \u001b[0m\u001b[33mf\u001b[0m\u001b[33m\"\u001b[0m\u001b[33mWorkspace with name=`\u001b[0m\u001b[33m{\u001b[0mname\u001b[33m}\u001b[0m\u001b[33m` doesn\u001b[0m\u001b[33m'\u001b[0m\u001b[33mt exist in Argilla, so please\u001b[0m\u001b[33m\"\u001b[0m            \u001b[31m│\u001b[0m\n",
              "\u001b[31m│\u001b[0m   \u001b[2m369 \u001b[0m\u001b[2m│   │   │   \u001b[0m\u001b[33m\"\u001b[0m\u001b[33m create it via the `Workspace.create` method as follows:\u001b[0m\u001b[33m\"\u001b[0m                     \u001b[31m│\u001b[0m\n",
              "\u001b[31m│\u001b[0m   \u001b[2m370 \u001b[0m\u001b[2m│   │   │   \u001b[0m\u001b[33mf\u001b[0m\u001b[33m\"\u001b[0m\u001b[33m `Workspace.create(\u001b[0m\u001b[33m'\u001b[0m\u001b[33m{\u001b[0mname\u001b[33m}\u001b[0m\u001b[33m'\u001b[0m\u001b[33m)`.\u001b[0m\u001b[33m\"\u001b[0m                                              \u001b[31m│\u001b[0m\n",
              "\u001b[31m╰──────────────────────────────────────────────────────────────────────────────────────────────────╯\u001b[0m\n",
              "\u001b[1;91mValueError: \u001b[0mWorkspace with \u001b[33mname\u001b[0m=`\u001b[3;35mNone\u001b[0m` doesn't exist in Argilla, so please create it via the `Workspace.create` \n",
              "method as follows: `\u001b[1;35mWorkspace.create\u001b[0m\u001b[1m(\u001b[0m\u001b[32m'None'\u001b[0m\u001b[1m)\u001b[0m`.\n",
              "\n",
              "\u001b[3mDuring handling of the above exception, another exception occurred:\u001b[0m\n",
              "\n",
              "\u001b[31m╭─\u001b[0m\u001b[31m──────────────────────────────\u001b[0m\u001b[31m \u001b[0m\u001b[1;31mTraceback \u001b[0m\u001b[1;2;31m(most recent call last)\u001b[0m\u001b[31m \u001b[0m\u001b[31m───────────────────────────────\u001b[0m\u001b[31m─╮\u001b[0m\n",
              "\u001b[31m│\u001b[0m in \u001b[92m<module>\u001b[0m:\u001b[94m31\u001b[0m                                                                                   \u001b[31m│\u001b[0m\n",
              "\u001b[31m│\u001b[0m                                                                                                  \u001b[31m│\u001b[0m\n",
              "\u001b[31m│\u001b[0m   \u001b[2m28 \u001b[0m\u001b[2m│   \u001b[0m)                                                                                       \u001b[31m│\u001b[0m\n",
              "\u001b[31m│\u001b[0m   \u001b[2m29 \u001b[0m\u001b[2m│   \u001b[0mds_remote = ds_local.push_to_argilla(\u001b[33m\"\u001b[0m\u001b[33msharegpt\u001b[0m\u001b[33m\"\u001b[0m)                                        \u001b[31m│\u001b[0m\n",
              "\u001b[31m│\u001b[0m   \u001b[2m30 \u001b[0m\u001b[94mexcept\u001b[0m \u001b[96mException\u001b[0m \u001b[94mas\u001b[0m e:                                                                      \u001b[31m│\u001b[0m\n",
              "\u001b[31m│\u001b[0m \u001b[31m❱ \u001b[0m31 \u001b[2m│   \u001b[0mds_remote = rg.FeedbackDataset.from_argilla(\u001b[33m\"\u001b[0m\u001b[33msharegpt\u001b[0m\u001b[33m\"\u001b[0m)                                 \u001b[31m│\u001b[0m\n",
              "\u001b[31m│\u001b[0m   \u001b[2m32 \u001b[0mds_remote                                                                                   \u001b[31m│\u001b[0m\n",
              "\u001b[31m│\u001b[0m   \u001b[2m33 \u001b[0m                                                                                            \u001b[31m│\u001b[0m\n",
              "\u001b[31m│\u001b[0m                                                                                                  \u001b[31m│\u001b[0m\n",
              "\u001b[31m│\u001b[0m \u001b[2;33m/Users/davidberenstein/Documents/programming/argilla/awesome-argilla-datasets/.env/lib/python3.9\u001b[0m \u001b[31m│\u001b[0m\n",
              "\u001b[31m│\u001b[0m \u001b[2;33m/site-packages/argilla/client/feedback/dataset/local/\u001b[0m\u001b[1;33mmixins.py\u001b[0m:\u001b[94m370\u001b[0m in \u001b[92mfrom_argilla\u001b[0m               \u001b[31m│\u001b[0m\n",
              "\u001b[31m│\u001b[0m                                                                                                  \u001b[31m│\u001b[0m\n",
              "\u001b[31m│\u001b[0m   \u001b[2m367 \u001b[0m\u001b[2;33m│   │   \u001b[0m\u001b[33m\"\"\"\u001b[0m                                                                                \u001b[31m│\u001b[0m\n",
              "\u001b[31m│\u001b[0m   \u001b[2m368 \u001b[0m\u001b[2m│   │   \u001b[0mhttpx_client: \u001b[33m\"\u001b[0m\u001b[33mhttpx.Client\u001b[0m\u001b[33m\"\u001b[0m = ArgillaSingleton.get().http_client.httpx            \u001b[31m│\u001b[0m\n",
              "\u001b[31m│\u001b[0m   \u001b[2m369 \u001b[0m\u001b[2m│   │   \u001b[0m                                                                                   \u001b[31m│\u001b[0m\n",
              "\u001b[31m│\u001b[0m \u001b[31m❱ \u001b[0m370 \u001b[2m│   │   \u001b[0mexisting_dataset = feedback_dataset_in_argilla(name=name, workspace=workspace, \u001b[96mi\u001b[0m   \u001b[31m│\u001b[0m\n",
              "\u001b[31m│\u001b[0m   \u001b[2m371 \u001b[0m\u001b[2m│   │   \u001b[0m\u001b[94mif\u001b[0m existing_dataset \u001b[95mis\u001b[0m \u001b[94mNone\u001b[0m:                                                       \u001b[31m│\u001b[0m\n",
              "\u001b[31m│\u001b[0m   \u001b[2m372 \u001b[0m\u001b[2m│   │   │   \u001b[0m\u001b[94mraise\u001b[0m \u001b[96mValueError\u001b[0m(                                                              \u001b[31m│\u001b[0m\n",
              "\u001b[31m│\u001b[0m   \u001b[2m373 \u001b[0m\u001b[2m│   │   │   │   \u001b[0m\u001b[33mf\u001b[0m\u001b[33m\"\u001b[0m\u001b[33mCould not find a `FeedbackDataset` in Argilla with name=\u001b[0m\u001b[33m'\u001b[0m\u001b[33m{\u001b[0mname\u001b[33m}\u001b[0m\u001b[33m'\u001b[0m\u001b[33m.\u001b[0m\u001b[33m\"\u001b[0m       \u001b[31m│\u001b[0m\n",
              "\u001b[31m│\u001b[0m                                                                                                  \u001b[31m│\u001b[0m\n",
              "\u001b[31m│\u001b[0m \u001b[2;33m/Users/davidberenstein/Documents/programming/argilla/awesome-argilla-datasets/.env/lib/python3.9\u001b[0m \u001b[31m│\u001b[0m\n",
              "\u001b[31m│\u001b[0m \u001b[2;33m/site-packages/argilla/client/feedback/\u001b[0m\u001b[1;33mutils.py\u001b[0m:\u001b[94m163\u001b[0m in \u001b[92mfeedback_dataset_in_argilla\u001b[0m               \u001b[31m│\u001b[0m\n",
              "\u001b[31m│\u001b[0m                                                                                                  \u001b[31m│\u001b[0m\n",
              "\u001b[31m│\u001b[0m   \u001b[2m160 \u001b[0m\u001b[2m│   \u001b[0m                                                                                       \u001b[31m│\u001b[0m\n",
              "\u001b[31m│\u001b[0m   \u001b[2m161 \u001b[0m\u001b[2m│   \u001b[0m\u001b[94mif\u001b[0m name:                                                                               \u001b[31m│\u001b[0m\n",
              "\u001b[31m│\u001b[0m   \u001b[2m162 \u001b[0m\u001b[2m│   │   \u001b[0m\u001b[94mif\u001b[0m workspace \u001b[95mis\u001b[0m \u001b[94mNone\u001b[0m:                                                              \u001b[31m│\u001b[0m\n",
              "\u001b[31m│\u001b[0m \u001b[31m❱ \u001b[0m163 \u001b[2m│   │   │   \u001b[0mworkspace = Workspace.from_name(client.get_workspace())                        \u001b[31m│\u001b[0m\n",
              "\u001b[31m│\u001b[0m   \u001b[2m164 \u001b[0m\u001b[2m│   │   \u001b[0m\u001b[94melif\u001b[0m \u001b[96misinstance\u001b[0m(workspace, \u001b[96mstr\u001b[0m):                                                   \u001b[31m│\u001b[0m\n",
              "\u001b[31m│\u001b[0m   \u001b[2m165 \u001b[0m\u001b[2m│   │   │   \u001b[0mworkspace = Workspace.from_name(workspace)                                     \u001b[31m│\u001b[0m\n",
              "\u001b[31m│\u001b[0m   \u001b[2m166 \u001b[0m\u001b[2m│   │   \u001b[0m\u001b[94melif\u001b[0m \u001b[95mnot\u001b[0m \u001b[96misinstance\u001b[0m(workspace, Workspace):                                         \u001b[31m│\u001b[0m\n",
              "\u001b[31m│\u001b[0m                                                                                                  \u001b[31m│\u001b[0m\n",
              "\u001b[31m│\u001b[0m \u001b[2;33m/Users/davidberenstein/Documents/programming/argilla/awesome-argilla-datasets/.env/lib/python3.9\u001b[0m \u001b[31m│\u001b[0m\n",
              "\u001b[31m│\u001b[0m \u001b[2;33m/site-packages/argilla/client/\u001b[0m\u001b[1;33mworkspaces.py\u001b[0m:\u001b[94m367\u001b[0m in \u001b[92mfrom_name\u001b[0m                                     \u001b[31m│\u001b[0m\n",
              "\u001b[31m│\u001b[0m                                                                                                  \u001b[31m│\u001b[0m\n",
              "\u001b[31m│\u001b[0m   \u001b[2m364 \u001b[0m\u001b[2m│   │   │   \u001b[0m\u001b[94mif\u001b[0m ws.name == name:                                                            \u001b[31m│\u001b[0m\n",
              "\u001b[31m│\u001b[0m   \u001b[2m365 \u001b[0m\u001b[2m│   │   │   │   \u001b[0m\u001b[94mreturn\u001b[0m \u001b[96mcls\u001b[0m._new_instance(client, ws)                                       \u001b[31m│\u001b[0m\n",
              "\u001b[31m│\u001b[0m   \u001b[2m366 \u001b[0m\u001b[2m│   │   \u001b[0m                                                                                   \u001b[31m│\u001b[0m\n",
              "\u001b[31m│\u001b[0m \u001b[31m❱ \u001b[0m367 \u001b[2m│   │   \u001b[0m\u001b[94mraise\u001b[0m \u001b[96mValueError\u001b[0m(                                                                  \u001b[31m│\u001b[0m\n",
              "\u001b[31m│\u001b[0m   \u001b[2m368 \u001b[0m\u001b[2m│   │   │   \u001b[0m\u001b[33mf\u001b[0m\u001b[33m\"\u001b[0m\u001b[33mWorkspace with name=`\u001b[0m\u001b[33m{\u001b[0mname\u001b[33m}\u001b[0m\u001b[33m` doesn\u001b[0m\u001b[33m'\u001b[0m\u001b[33mt exist in Argilla, so please\u001b[0m\u001b[33m\"\u001b[0m            \u001b[31m│\u001b[0m\n",
              "\u001b[31m│\u001b[0m   \u001b[2m369 \u001b[0m\u001b[2m│   │   │   \u001b[0m\u001b[33m\"\u001b[0m\u001b[33m create it via the `Workspace.create` method as follows:\u001b[0m\u001b[33m\"\u001b[0m                     \u001b[31m│\u001b[0m\n",
              "\u001b[31m│\u001b[0m   \u001b[2m370 \u001b[0m\u001b[2m│   │   │   \u001b[0m\u001b[33mf\u001b[0m\u001b[33m\"\u001b[0m\u001b[33m `Workspace.create(\u001b[0m\u001b[33m'\u001b[0m\u001b[33m{\u001b[0mname\u001b[33m}\u001b[0m\u001b[33m'\u001b[0m\u001b[33m)`.\u001b[0m\u001b[33m\"\u001b[0m                                              \u001b[31m│\u001b[0m\n",
              "\u001b[31m╰──────────────────────────────────────────────────────────────────────────────────────────────────╯\u001b[0m\n",
              "\u001b[1;91mValueError: \u001b[0mWorkspace with \u001b[33mname\u001b[0m=`\u001b[3;35mNone\u001b[0m` doesn't exist in Argilla, so please create it via the `Workspace.create` \n",
              "method as follows: `\u001b[1;35mWorkspace.create\u001b[0m\u001b[1m(\u001b[0m\u001b[32m'None'\u001b[0m\u001b[1m)\u001b[0m`.\n"
            ]
          },
          "metadata": {},
          "output_type": "display_data"
        }
      ],
      "source": [
        "try:\n",
        "    ds_local = rg.FeedbackDataset(\n",
        "        fields=[\n",
        "            rg.TextField(name=\"prompt\", title=\"Prompt\", use_markdown=True),\n",
        "            rg.TextField(name=\"response\", title=\"Response\", use_markdown=True),\n",
        "        ],\n",
        "        questions=[\n",
        "            rg.RatingQuestion(\n",
        "                name=\"prompt-quality\", \n",
        "                title=\"Prompt Quality\",\n",
        "                values=list(range(1, 8)), \n",
        "                description=\"How would you rate the quality of the prompt?\",\n",
        "            ),\n",
        "            rg.LabelQuestion(\n",
        "                name=\"prompt-intent\", \n",
        "                title=\"Prompt Intent\",\n",
        "                labels=[\"generation\", \"rewrite\", \"extract\", \"closed-qa\", \"open-qa\", \"classification\", \"summarization\", \"brainstorming\", \"chat\", \"code\", \"other\"], \n",
        "                description=\"What is the intent of the prompt?\"\n",
        "            ),\n",
        "            rg.MultiLabelQuestion(\n",
        "                name=\"response-toxicity\", \n",
        "                title=\"Response Toxicity\",\n",
        "                labels=[\"illegal\", \"harmfull\", \"unqualified advice\"], \n",
        "                description=\"What are the toxicities in the response (if any)?\",\n",
        "                required=False\n",
        "            )\n",
        "        ]\n",
        "    )\n",
        "    ds_remote = ds_local.push_to_argilla(\"sharegpt\")\n",
        "except Exception as e:\n",
        "    ds_remote = rg.FeedbackDataset.from_argilla(\"sharegpt\")\n",
        "ds_remote"
      ]
    },
    {
      "cell_type": "markdown",
      "metadata": {},
      "source": [
        "#### Configure the metadata-properties\n",
        "\n",
        "Next we will be using `text-descriptives` to configure the metadata-properties. This will be used to add and updat relevant metadata-properties to the dataset. Because `text-descriptives` doesn't provide any programmatic interface with the metrics-groups and their sub-metrics, we will run the computation on the an example text and use the results to configure the metadata-properties."
      ]
    },
    {
      "cell_type": "code",
      "execution_count": 116,
      "metadata": {},
      "outputs": [
        {
          "name": "stdout",
          "output_type": "stream",
          "text": [
            "\u001b[38;5;4mℹ Both a spacy model and a language were provided. Will use the spacy\n",
            "model and ignore language.\u001b[0m\n"
          ]
        },
        {
          "data": {
            "text/plain": [
              "Index(['token_length_mean', 'token_length_median', 'token_length_std',\n",
              "       'sentence_length_mean', 'sentence_length_median', 'sentence_length_std',\n",
              "       'syllables_per_token_mean', 'syllables_per_token_median',\n",
              "       'syllables_per_token_std', 'n_tokens', 'n_unique_tokens',\n",
              "       'proportion_unique_tokens', 'n_characters', 'n_sentences'],\n",
              "      dtype='object')"
            ]
          },
          "execution_count": 116,
          "metadata": {},
          "output_type": "execute_result"
        }
      ],
      "source": [
        "metric_group = [\"descriptive_stats\"]\n",
        "relevant_subgroups = []\n",
        "df_metrics = td.extract_metrics(\n",
        "    text=[\"this is an example prompt\"], \n",
        "    lang=\"en\", \n",
        "    metrics=metric_group,\n",
        "    spacy_model=\"en_core_web_sm\"\n",
        ").drop(columns=[\"text\"] + relevant_subgroups if relevant_subgroups else [\"text\"])\n",
        "df_metrics.columns"
      ]
    },
    {
      "cell_type": "markdown",
      "metadata": {},
      "source": [
        "Next, we will be working on converting the `text-descriptives` output to a format that can be used to configure the metadata-properties for our supported types: `TermsMetadataProperty`, `IntegerMetadataProperty` and `FloatMetadataProperty`. Note that we are also applying some subjective formatting choices to ensure that the metadata-properties are easy to read and understand."
      ]
    },
    {
      "cell_type": "code",
      "execution_count": 113,
      "metadata": {},
      "outputs": [
        {
          "data": {
            "text/plain": [
              "[RemoteFloatMetadataProperty(id=UUID('9691b808-c85e-4248-98bd-89bc2a81b2eb'), client=<httpx.Client object at 0x11105d3d0>, name='response_token_length_mean', title='Response Token Length Mean', visible_for_annotators=True, type='float', min=None, max=None),\n",
              " RemoteFloatMetadataProperty(id=UUID('949d3bf5-a8ec-47c8-a4ce-249a9ee4a922'), client=<httpx.Client object at 0x11105d3d0>, name='response_token_length_median', title='Response Token Length Median', visible_for_annotators=True, type='float', min=None, max=None),\n",
              " RemoteFloatMetadataProperty(id=UUID('43c7f5a7-e856-4794-9da8-6f89848a3a01'), client=<httpx.Client object at 0x11105d3d0>, name='response_token_length_std', title='Response Token Length Std', visible_for_annotators=True, type='float', min=None, max=None),\n",
              " RemoteFloatMetadataProperty(id=UUID('4dcca678-229c-43e8-b0d0-9f5fee2ec902'), client=<httpx.Client object at 0x11105d3d0>, name='response_sentence_length_mean', title='Response Sentence Length Mean', visible_for_annotators=True, type='float', min=None, max=None),\n",
              " RemoteFloatMetadataProperty(id=UUID('6938fae3-600d-48f0-afc4-0a37fac5598b'), client=<httpx.Client object at 0x11105d3d0>, name='response_sentence_length_median', title='Response Sentence Length Median', visible_for_annotators=True, type='float', min=None, max=None),\n",
              " RemoteFloatMetadataProperty(id=UUID('55f449f5-4937-4e7a-8f20-be4fa6937de7'), client=<httpx.Client object at 0x11105d3d0>, name='response_sentence_length_std', title='Response Sentence Length Std', visible_for_annotators=True, type='float', min=None, max=None),\n",
              " RemoteFloatMetadataProperty(id=UUID('935bf9bc-7da2-40fc-8c50-e1ad47cdbf8f'), client=<httpx.Client object at 0x11105d3d0>, name='response_syllables_per_token_mean', title='Response Syllables Per Token Mean', visible_for_annotators=True, type='float', min=None, max=None),\n",
              " RemoteFloatMetadataProperty(id=UUID('4d4603f4-52e7-4f2c-8856-efb474623653'), client=<httpx.Client object at 0x11105d3d0>, name='response_syllables_per_token_median', title='Response Syllables Per Token Median', visible_for_annotators=True, type='float', min=None, max=None),\n",
              " RemoteFloatMetadataProperty(id=UUID('32f5cec2-eeed-42fe-bd19-88bf045bb38e'), client=<httpx.Client object at 0x11105d3d0>, name='response_syllables_per_token_std', title='Response Syllables Per Token Std', visible_for_annotators=True, type='float', min=None, max=None),\n",
              " RemoteIntegerMetadataProperty(id=UUID('f722584d-aded-4ca8-9066-98ff2301b405'), client=<httpx.Client object at 0x11105d3d0>, name='response_n_tokens', title='Response N Tokens', visible_for_annotators=True, type='integer', min=None, max=None),\n",
              " RemoteIntegerMetadataProperty(id=UUID('3c19f5ed-37b7-4b7a-9f9b-ef73a1aebc21'), client=<httpx.Client object at 0x11105d3d0>, name='response_n_unique_tokens', title='Response N Unique Tokens', visible_for_annotators=True, type='integer', min=None, max=None),\n",
              " RemoteFloatMetadataProperty(id=UUID('c2f44b5c-65fa-4552-b4e2-317b595f9970'), client=<httpx.Client object at 0x11105d3d0>, name='response_proportion_unique_tokens', title='Response Proportion Unique Tokens', visible_for_annotators=True, type='float', min=None, max=None),\n",
              " RemoteIntegerMetadataProperty(id=UUID('7b03c65a-c8b7-4c7f-aebe-bd7176bf3ddf'), client=<httpx.Client object at 0x11105d3d0>, name='response_n_characters', title='Response N Characters', visible_for_annotators=True, type='integer', min=None, max=None),\n",
              " RemoteIntegerMetadataProperty(id=UUID('1339de81-9e12-4953-966c-5cc77be6e8e3'), client=<httpx.Client object at 0x11105d3d0>, name='response_n_sentences', title='Response N Sentences', visible_for_annotators=True, type='integer', min=None, max=None),\n",
              " RemoteFloatMetadataProperty(id=UUID('97d3b9f1-a068-4ed9-81a1-6cd440070b63'), client=<httpx.Client object at 0x11105d3d0>, name='prompt_token_length_mean', title='Prompt Token Length Mean', visible_for_annotators=True, type='float', min=None, max=None),\n",
              " RemoteFloatMetadataProperty(id=UUID('58bd5990-1f69-4ac1-a74b-7e09f515c45d'), client=<httpx.Client object at 0x11105d3d0>, name='prompt_token_length_median', title='Prompt Token Length Median', visible_for_annotators=True, type='float', min=None, max=None),\n",
              " RemoteFloatMetadataProperty(id=UUID('11935e82-8211-4fbe-832f-f181da2240cc'), client=<httpx.Client object at 0x11105d3d0>, name='prompt_token_length_std', title='Prompt Token Length Std', visible_for_annotators=True, type='float', min=None, max=None),\n",
              " RemoteFloatMetadataProperty(id=UUID('4d65de9e-2cfb-4591-aca1-8e9fbd5b529f'), client=<httpx.Client object at 0x11105d3d0>, name='prompt_sentence_length_mean', title='Prompt Sentence Length Mean', visible_for_annotators=True, type='float', min=None, max=None),\n",
              " RemoteFloatMetadataProperty(id=UUID('2073cf87-2592-4180-a556-b55cf2703114'), client=<httpx.Client object at 0x11105d3d0>, name='prompt_sentence_length_median', title='Prompt Sentence Length Median', visible_for_annotators=True, type='float', min=None, max=None),\n",
              " RemoteFloatMetadataProperty(id=UUID('62853ebf-21ce-4855-a772-eeff115f4527'), client=<httpx.Client object at 0x11105d3d0>, name='prompt_sentence_length_std', title='Prompt Sentence Length Std', visible_for_annotators=True, type='float', min=None, max=None),\n",
              " RemoteFloatMetadataProperty(id=UUID('73c0ef8f-0311-4112-9bb9-90dbc32a45e8'), client=<httpx.Client object at 0x11105d3d0>, name='prompt_syllables_per_token_mean', title='Prompt Syllables Per Token Mean', visible_for_annotators=True, type='float', min=None, max=None),\n",
              " RemoteFloatMetadataProperty(id=UUID('ca7d25af-e12a-48ff-9d65-e8aedfb7a16f'), client=<httpx.Client object at 0x11105d3d0>, name='prompt_syllables_per_token_median', title='Prompt Syllables Per Token Median', visible_for_annotators=True, type='float', min=None, max=None),\n",
              " RemoteFloatMetadataProperty(id=UUID('8465aa0d-5184-4537-ab69-f3204ff14382'), client=<httpx.Client object at 0x11105d3d0>, name='prompt_syllables_per_token_std', title='Prompt Syllables Per Token Std', visible_for_annotators=True, type='float', min=None, max=None),\n",
              " RemoteIntegerMetadataProperty(id=UUID('043258b3-8e52-4ef1-95df-9e5564cb65b2'), client=<httpx.Client object at 0x11105d3d0>, name='prompt_n_tokens', title='Prompt N Tokens', visible_for_annotators=True, type='integer', min=None, max=None),\n",
              " RemoteIntegerMetadataProperty(id=UUID('efacaa54-00f9-4da6-b53f-ad0c406c86e1'), client=<httpx.Client object at 0x11105d3d0>, name='prompt_n_unique_tokens', title='Prompt N Unique Tokens', visible_for_annotators=True, type='integer', min=None, max=None),\n",
              " RemoteFloatMetadataProperty(id=UUID('32206dbc-a45c-4aca-861f-d4813675d3bf'), client=<httpx.Client object at 0x11105d3d0>, name='prompt_proportion_unique_tokens', title='Prompt Proportion Unique Tokens', visible_for_annotators=True, type='float', min=None, max=None),\n",
              " RemoteIntegerMetadataProperty(id=UUID('469b81a7-75d3-4efd-af48-f0a33b0b8525'), client=<httpx.Client object at 0x11105d3d0>, name='prompt_n_characters', title='Prompt N Characters', visible_for_annotators=True, type='integer', min=None, max=None),\n",
              " RemoteIntegerMetadataProperty(id=UUID('52e825b0-0ddc-4326-9cc9-cb6f1af6a8e8'), client=<httpx.Client object at 0x11105d3d0>, name='prompt_n_sentences', title='Prompt N Sentences', visible_for_annotators=True, type='integer', min=None, max=None),\n",
              " RemoteFloatMetadataProperty(id=UUID('e377ed2e-c5e1-4a74-985d-258c91fc0985'), client=<httpx.Client object at 0x11105d3d0>, name='prompt_entropy', title='Prompt Entropy', visible_for_annotators=True, type='float', min=None, max=None),\n",
              " RemoteFloatMetadataProperty(id=UUID('df8469de-e9e5-405d-8831-b59fcb1c7b9f'), client=<httpx.Client object at 0x11105d3d0>, name='prompt_perplexity', title='Prompt Perplexity', visible_for_annotators=True, type='float', min=None, max=None),\n",
              " RemoteFloatMetadataProperty(id=UUID('2d8e2db1-e2c4-48f8-b7b4-d68301ff1ff8'), client=<httpx.Client object at 0x11105d3d0>, name='prompt_per_word_perplexity', title='Prompt Per Word Perplexity', visible_for_annotators=True, type='float', min=None, max=None),\n",
              " RemoteFloatMetadataProperty(id=UUID('116f3486-f4ed-461d-8f2e-aa8f971d7d44'), client=<httpx.Client object at 0x11105d3d0>, name='prompt_first_order_coherence', title='Prompt First Order Coherence', visible_for_annotators=True, type='float', min=None, max=None),\n",
              " RemoteFloatMetadataProperty(id=UUID('0a44f3ee-6a39-4243-bb0d-c0d48665f061'), client=<httpx.Client object at 0x11105d3d0>, name='prompt_second_order_coherence', title='Prompt Second Order Coherence', visible_for_annotators=True, type='float', min=None, max=None),\n",
              " RemoteFloatMetadataProperty(id=UUID('fb3c0b72-1f85-4c9f-95aa-57ab8def6b74'), client=<httpx.Client object at 0x11105d3d0>, name='response_entropy', title='Response Entropy', visible_for_annotators=True, type='float', min=None, max=None),\n",
              " RemoteFloatMetadataProperty(id=UUID('cb7cc1f5-3a29-4558-ba98-6d76fd2d48bc'), client=<httpx.Client object at 0x11105d3d0>, name='response_perplexity', title='Response Perplexity', visible_for_annotators=True, type='float', min=None, max=None),\n",
              " RemoteFloatMetadataProperty(id=UUID('99e2e5fa-04a3-4f8c-b7a2-727589267b43'), client=<httpx.Client object at 0x11105d3d0>, name='response_per_word_perplexity', title='Response Per Word Perplexity', visible_for_annotators=True, type='float', min=None, max=None),\n",
              " RemoteFloatMetadataProperty(id=UUID('ca169210-9510-4094-87b7-049c10ca22ec'), client=<httpx.Client object at 0x11105d3d0>, name='response_first_order_coherence', title='Response First Order Coherence', visible_for_annotators=True, type='float', min=None, max=None),\n",
              " RemoteFloatMetadataProperty(id=UUID('04b9b9bd-1365-4f50-be7e-8bc0b080a7e2'), client=<httpx.Client object at 0x11105d3d0>, name='response_second_order_coherence', title='Response Second Order Coherence', visible_for_annotators=True, type='float', min=None, max=None),\n",
              " RemoteIntegerMetadataProperty(id=UUID('62af3f66-7432-4e65-b72c-28288328be69'), client=<httpx.Client object at 0x11105d3d0>, name='prompt__n_sentences', title='Prompt  N Sentences', visible_for_annotators=True, type='integer', min=None, max=None),\n",
              " RemoteIntegerMetadataProperty(id=UUID('b80ec1af-917e-4652-a4d1-f0c96f4ef6aa'), client=<httpx.Client object at 0x11105d3d0>, name='prompt__n_tokens', title='Prompt  N Tokens', visible_for_annotators=True, type='integer', min=None, max=None),\n",
              " RemoteIntegerMetadataProperty(id=UUID('0d8a0833-ccf4-4c65-9ba6-77fb753cad77'), client=<httpx.Client object at 0x11105d3d0>, name='response__n_sentences', title='Response  N Sentences', visible_for_annotators=True, type='integer', min=None, max=None),\n",
              " RemoteIntegerMetadataProperty(id=UUID('54ca7491-b9f2-44ce-b000-1b6b08f08a67'), client=<httpx.Client object at 0x11105d3d0>, name='response__n_tokens', title='Response  N Tokens', visible_for_annotators=True, type='integer', min=None, max=None)]"
            ]
          },
          "execution_count": 113,
          "metadata": {},
          "output_type": "execute_result"
        }
      ],
      "source": [
        "def clean_column_name(col_name):\n",
        "    \"\"\"Clean a column name to fit a specific regex pattern.\"\"\"\n",
        "    col_name = col_name.lower()  # Convert to lowercase\n",
        "    col_name = re.sub(r'[^a-z0-9_]', '_', col_name)  # Replace non-alphanumeric characters with underscores\n",
        "    return col_name\n",
        "\n",
        "def create_metadata_properties(df, prefix):\n",
        "    \"\"\"Generate metadata properties based on dataframe columns and data types.\"\"\"\n",
        "    properties = []\n",
        "    for col, dtype in df.dtypes.items():\n",
        "        name = f\"{prefix}_{clean_column_name(col)}\"\n",
        "        title = name.replace('_', ' ').title()\n",
        "\n",
        "        if dtype == 'object':\n",
        "            prop = rg.TermsMetadataProperty(name=name, title=title)\n",
        "        elif dtype == 'int64':\n",
        "            prop = rg.IntegerMetadataProperty(name=name, title=title)\n",
        "        elif dtype == 'float64':\n",
        "            prop = rg.FloatMetadataProperty(name=name, title=title)\n",
        "        elif dtype == 'bool':\n",
        "            prop = rg.TermsMetadataProperty(name=name, title=title)\n",
        "        else:\n",
        "            print(f\"Unhandled data type for column {col}: {dtype}\")\n",
        "            continue\n",
        "        properties.append(prop)\n",
        "    return properties\n",
        "\n",
        "metadata_properties = []\n",
        "metadata_properties += create_metadata_properties(df_metrics, 'prompt')\n",
        "metadata_properties += create_metadata_properties(df_metrics, 'response')\n",
        "for metadata_property in metadata_properties:\n",
        "    try:\n",
        "        field = ds_remote.metadata_property_by_name(metadata_property.name)\n",
        "        if not field:\n",
        "            ds_remote.add_metadata_property(metadata_property)\n",
        "    except (KeyError, ValueError) as e:\n",
        "        ds_remote.add_metadata_property(metadata_property)        \n",
        "ds_remote.metadata_properties"
      ]
    },
    {
      "cell_type": "markdown",
      "metadata": {},
      "source": [
        "### Data collection"
      ]
    },
    {
      "cell_type": "code",
      "execution_count": 120,
      "metadata": {},
      "outputs": [
        {
          "data": {
            "text/plain": [
              "DatasetDict({\n",
              "    train: Dataset({\n",
              "        features: ['id', 'conversations', 'lang'],\n",
              "        num_rows: 90665\n",
              "    })\n",
              "})"
            ]
          },
          "execution_count": 120,
          "metadata": {},
          "output_type": "execute_result"
        }
      ],
      "source": [
        "dataset = load_dataset(\"zetavg/ShareGPT-Processed\")\n",
        "dataset = dataset[\"train\"]\n",
        "dataset"
      ]
    },
    {
      "cell_type": "code",
      "execution_count": 130,
      "metadata": {},
      "outputs": [
        {
          "name": "stderr",
          "output_type": "stream",
          "text": [
            "Filter: 100%|██████████| 9962/9962 [00:02<00:00, 4834.48 examples/s]\n",
            "Filter: 100%|██████████| 9962/9962 [00:02<00:00, 4861.58 examples/s]\n",
            "Filter: 100%|██████████| 9962/9962 [00:02<00:00, 4883.42 examples/s]\n"
          ]
        },
        {
          "data": {
            "text/plain": [
              "Dataset({\n",
              "    features: ['id', 'conversations', 'lang'],\n",
              "    num_rows: 9772\n",
              "})"
            ]
          },
          "execution_count": 130,
          "metadata": {},
          "output_type": "execute_result"
        }
      ],
      "source": [
        "dataset = dataset.filter(function=lambda x: x.get(\"lang\", \"?\") == \"en\")\n",
        "dataset = dataset.filter(lambda x: x[\"conversations\"][0][\"from\"] == \"human\")\n",
        "dataset = dataset.filter(lambda x: len(x[\"conversations\"])>1)\n",
        "dataset"
      ]
    },
    {
      "cell_type": "code",
      "execution_count": 134,
      "metadata": {},
      "outputs": [
        {
          "data": {
            "text/plain": [
              "Dataset({\n",
              "    features: ['id', 'conversations', 'lang'],\n",
              "    num_rows: 9772\n",
              "})"
            ]
          },
          "execution_count": 134,
          "metadata": {},
          "output_type": "execute_result"
        }
      ],
      "source": [
        "dataset = dataset.shuffle(seed=42)\n",
        "dataset = dataset.select(list(range(min(10000, len(dataset)))))\n",
        "dataset"
      ]
    },
    {
      "cell_type": "code",
      "execution_count": 135,
      "metadata": {},
      "outputs": [
        {
          "name": "stderr",
          "output_type": "stream",
          "text": [
            "Map: 100%|██████████| 9772/9772 [00:03<00:00, 2621.48 examples/s]\n"
          ]
        },
        {
          "data": {
            "text/plain": [
              "Dataset({\n",
              "    features: ['id', 'conversations', 'lang', 'prompt', 'response'],\n",
              "    num_rows: 9772\n",
              "})"
            ]
          },
          "execution_count": 135,
          "metadata": {},
          "output_type": "execute_result"
        }
      ],
      "source": [
        "dataset = dataset.map(lambda x: {\"prompt\": x[\"conversations\"][0][\"value\"], \"response\": x[\"conversations\"][1][\"value\"]})\n",
        "dataset"
      ]
    },
    {
      "cell_type": "code",
      "execution_count": 136,
      "metadata": {},
      "outputs": [
        {
          "data": {
            "text/plain": [
              "(['n_tokens', 'n_unique_tokens', 'n_characters', 'n_sentences'], [])"
            ]
          },
          "execution_count": 136,
          "metadata": {},
          "output_type": "execute_result"
        }
      ],
      "source": [
        "# Extract metrics\n",
        "spacy_model = \"en_core_web_md\" # we need a model with vectors\n",
        "df_prompt = td.extract_metrics(text=dataset[\"prompt\"], metrics=metric_group, spacy_model=spacy_model).drop(columns=['text'])\n",
        "df_response = td.extract_metrics(text=dataset[\"response\"], metrics=metric_group, spacy_model=spacy_model).drop(columns=['text'])\n",
        "\n",
        "# Identify integer and boolean columns for prompts and responses\n",
        "int_cols_prompts = df_prompt.select_dtypes(include=['int64']).columns.tolist()\n",
        "bool_cols_prompts = df_prompt.select_dtypes(include=['boolean']).columns.tolist()\n",
        "\n",
        "int_cols_responses = df_response.select_dtypes(include=['int64']).columns.tolist()\n",
        "bool_cols_responses = df_response.select_dtypes(include=['boolean']).columns.tolist()\n",
        "\n",
        "# Combine column lists for prompts and responses\n",
        "int_cols = list(set(int_cols_prompts + int_cols_responses))\n",
        "bool_cols = list(set(bool_cols_prompts + bool_cols_responses))\n",
        "int_cols, bool_cols"
      ]
    },
    {
      "cell_type": "markdown",
      "metadata": {},
      "source": [
        "Next, we will be casting the `numpy`-datatypes to basic Python built-in datatypes. This is required because the Argilla client doesn't support `numpy`-datatypes."
      ]
    },
    {
      "cell_type": "code",
      "execution_count": 137,
      "metadata": {},
      "outputs": [],
      "source": [
        "# --- Functions ---\n",
        "def cast_to_python_types(df):\n",
        "    \"\"\"\n",
        "    Convert integer and boolean columns to Python native types.\n",
        "    \"\"\"\n",
        "    for column in df.columns:\n",
        "        df[column].fillna(0, inplace=True)\n",
        "        if df[column].dtype == bool:\n",
        "            df[column] = df[column].astype(str)\n",
        "        elif df[column].dtype == np.int64:\n",
        "            df[column] = df[column].astype(int)\n",
        "        elif df[column].dtype == np.float64:\n",
        "            df[column] = df[column].astype(float)\n",
        "        else:\n",
        "            print(f\"Unhandled data type for column {column}: {df[column].dtype}\")\n",
        "    return df\n",
        "\n",
        "df_prompt = cast_to_python_types(df_prompt)\n",
        "df_response = cast_to_python_types(df_response)"
      ]
    },
    {
      "cell_type": "markdown",
      "metadata": {},
      "source": [
        "Lastly, we will loop through the Hugging Face dataset, add the metadata-properties and update the Argilla dataset with the new records."
      ]
    },
    {
      "cell_type": "code",
      "execution_count": 138,
      "metadata": {
        "id": "Zt9XZrLtc2Km"
      },
      "outputs": [
        {
          "name": "stderr",
          "output_type": "stream",
          "text": [
            "Pushing records to Argilla...: 100%|██████████| 306/306 [00:41<00:00,  7.41it/s]\n"
          ]
        }
      ],
      "source": [
        "# Prepare feedback records with metadata and suggestions\n",
        "records = []\n",
        "\n",
        "cols_with_values_other_than_zeros_or_nan_prompt = df_prompt.columns[~(df_prompt.fillna(0) == 0).all() & ~df_prompt.isnull().any()].tolist()\n",
        "cols_with_values_other_than_zeros_or_nan_response = df_response.columns[~(df_response.fillna(0) == 0).all() & ~df_response.isnull().any()].tolist()\n",
        "\n",
        "\n",
        "for i, record in enumerate(dataset):\n",
        "    # Prepare metadata for prompts\n",
        "    metadata_prompts = {f\"prompt_{col}\": value for col, value in df_prompt[cols_with_values_other_than_zeros_or_nan_prompt].iloc[i].items()}\n",
        "    # Prepare metadata for responses\n",
        "    metadata_response = {f\"response_{col}\": value for col, value in df_response[cols_with_values_other_than_zeros_or_nan_response].iloc[i].items()}\n",
        "\n",
        "    # Explicitly cast integers using Python's native int type\n",
        "    for col in int_cols:\n",
        "        if f\"prompt_{col}\" in metadata_prompts:\n",
        "            metadata_prompts[f\"prompt_{col}\"] = int(metadata_prompts[f\"prompt_{col}\"])\n",
        "        if f\"response_{col}\" in metadata_response:\n",
        "            metadata_response[f\"response_{col}\"] = int(metadata_response[f\"response_{col}\"])\n",
        "\n",
        "    # Convert booleans to strings using Python's native str type\n",
        "    for col in bool_cols:\n",
        "        if f\"prompt_{col}\" in metadata_prompts:\n",
        "            metadata_prompts[f\"prompt_{col}\"] = str(metadata_prompts[f\"prompt_{col}\"])\n",
        "        if f\"response_{col}\" in metadata_response:\n",
        "            metadata_response[f\"response_{col}\"] = str(metadata_response[f\"response_{col}\"])\n",
        "\n",
        "    # Combine both metadata dictionaries into one\n",
        "    metadata = {**metadata_prompts, **metadata_response}\n",
        "    record = rg.FeedbackRecord(\n",
        "        fields={\"prompt\": record[\"prompt\"], \"response\": record[\"response\"]},\n",
        "        metadata=metadata,\n",
        "    )\n",
        "    records.append(record)\n",
        "\n",
        "# Add records to the dataset and push to Argilla\n",
        "ds_remote.add_records(records)"
      ]
    }
  ],
  "metadata": {
    "colab": {
      "provenance": []
    },
    "kernelspec": {
      "display_name": "Python 3",
      "name": "python3"
    },
    "language_info": {
      "codemirror_mode": {
        "name": "ipython",
        "version": 3
      },
      "file_extension": ".py",
      "mimetype": "text/x-python",
      "name": "python",
      "nbconvert_exporter": "python",
      "pygments_lexer": "ipython3",
      "version": "3.9.17"
    }
  },
  "nbformat": 4,
  "nbformat_minor": 0
}
