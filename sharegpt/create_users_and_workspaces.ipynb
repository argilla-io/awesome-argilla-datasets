{
 "cells": [
  {
   "cell_type": "markdown",
   "metadata": {},
   "source": [
    "# Users and workspaces\n",
    "\n",
    "For this example, we assume that we have multiple users that want to use the same workspace. We will create a workspace and then create a set of users that have access to the workspace. This is pretty straight forward, but there are a few things to keep in mind to avoid creating users with the same ID `username`."
   ]
  },
  {
   "cell_type": "code",
   "execution_count": 1,
   "metadata": {},
   "outputs": [
    {
     "name": "stderr",
     "output_type": "stream",
     "text": [
      "/Users/davidberenstein/Documents/programming/argilla/awesome-argilla-datasets/.env/lib/python3.9/site-packages/argilla/client/client.py:165: UserWarning: No workspace configuration was detected. To work with Argilla datasets, specify a valid workspace name on `rg.init` or set it up through the `rg.set_workspace` function.\n",
      "  warnings.warn(\n",
      "/Users/davidberenstein/Documents/programming/argilla/awesome-argilla-datasets/.env/lib/python3.9/site-packages/argilla/client/client.py:182: UserWarning: You're connecting to Argilla Server 1.19.0 using a different client version (1.18.0).\n",
      "This may lead to potential compatibility issues during your experience.\n",
      "To ensure a seamless and optimized connection, we highly recommend aligning your client version with the server version.\n",
      "  warnings.warn(\n"
     ]
    }
   ],
   "source": [
    "import os\n",
    "import argilla as rg\n",
    "rg.init(api_url=os.environ.get(\"ARGILLA_API_URL_PRE\"), api_key=os.environ.get(\"ARGILLA_API_KEY_PRE\"))"
   ]
  },
  {
   "cell_type": "markdown",
   "metadata": {},
   "source": [
    "Check if users exist. If they do, retrieve the profile, otherwise create it."
   ]
  },
  {
   "cell_type": "code",
   "execution_count": 2,
   "metadata": {},
   "outputs": [
    {
     "name": "stderr",
     "output_type": "stream",
     "text": [
      "/Users/davidberenstein/Documents/programming/argilla/awesome-argilla-datasets/.env/lib/python3.9/site-packages/argilla/client/users.py:237: UserWarning: Since the `first_name` hasn't been provided, it will be set to the same value as the `username`.\n",
      "  warnings.warn(\n"
     ]
    }
   ],
   "source": [
    "my_usernames = [\"jose\", \"dani\", \"paco\", \"damian\", \"leire\", \"sara\", \"alvaro\", \"gabri\", \"david\", \"jose\", \"amelie\", \"averill\", \"kursat\", \"agus\", \"ignacio\"]\n",
    "user_profiles = []\n",
    "for username in my_usernames:\n",
    "    try:\n",
    "        user_profiles.append(rg.User.from_name(username))\n",
    "    except:\n",
    "        user_profiles.append(rg.User.create(username=username, password=\"12345678\", role=\"annotator\"))"
   ]
  },
  {
   "cell_type": "markdown",
   "metadata": {},
   "source": [
    "Lastly, let's create some files we can share with the users."
   ]
  },
  {
   "cell_type": "code",
   "execution_count": 3,
   "metadata": {},
   "outputs": [],
   "source": [
    "import json\n",
    "\n",
    "for user in user_profiles:\n",
    "    with open(f\"users/{user.username}.json\", \"wb\") as f:\n",
    "        data = json.dumps({\"username\": user.username, \"password\": \"12345678\", \"role\": user.role, \"api_key\": user.api_key})\n",
    "        f.write(data.encode(\"utf-8\"))"
   ]
  },
  {
   "cell_type": "markdown",
   "metadata": {},
   "source": [
    "Create a workspace."
   ]
  },
  {
   "cell_type": "code",
   "execution_count": null,
   "metadata": {},
   "outputs": [],
   "source": [
    "try:\n",
    "    workspace = rg.Workspace.create(name=\"awesome-argilla-datasets\")\n",
    "except:\n",
    "    workspace = rg.Workspace.from_name(\"awesome-argilla-datasets\")\n",
    "workspace"
   ]
  },
  {
   "cell_type": "markdown",
   "metadata": {},
   "source": [
    "Add users to workspace."
   ]
  },
  {
   "cell_type": "code",
   "execution_count": null,
   "metadata": {},
   "outputs": [],
   "source": [
    "for user in my_usernames:\n",
    "    user_from_db = rg.User.from_name(user)\n",
    "    try:\n",
    "        workspace.add_user(user_from_db.id)\n",
    "    except:\n",
    "        pass"
   ]
  }
 ],
 "metadata": {
  "kernelspec": {
   "display_name": ".env",
   "language": "python",
   "name": "python3"
  },
  "language_info": {
   "codemirror_mode": {
    "name": "ipython",
    "version": 3
   },
   "file_extension": ".py",
   "mimetype": "text/x-python",
   "name": "python",
   "nbconvert_exporter": "python",
   "pygments_lexer": "ipython3",
   "version": "3.9.17"
  }
 },
 "nbformat": 4,
 "nbformat_minor": 2
}
