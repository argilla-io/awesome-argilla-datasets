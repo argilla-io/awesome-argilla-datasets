{
  "cells": [
    {
      "cell_type": "markdown",
      "metadata": {
        "id": "AiCZcohFc_mu"
      },
      "source": [
        "# Dataset creation"
      ]
    },
    {
      "cell_type": "markdown",
      "metadata": {},
      "source": [
        "## Installation"
      ]
    },
    {
      "cell_type": "code",
      "execution_count": 1,
      "metadata": {},
      "outputs": [
        {
          "name": "stdout",
          "output_type": "stream",
          "text": [
            "\u001b[33mWARNING: Ignoring invalid distribution -umpy (/Users/davidberenstein/Documents/programming/argilla/awesome-argilla-datasets/.env/lib/python3.9/site-packages)\u001b[0m\u001b[33m\n",
            "\u001b[0m\u001b[33mWARNING: Ignoring invalid distribution -umpy (/Users/davidberenstein/Documents/programming/argilla/awesome-argilla-datasets/.env/lib/python3.9/site-packages)\u001b[0m\u001b[33m\n",
            "\u001b[0m\u001b[33mWARNING: Ignoring invalid distribution -umpy (/Users/davidberenstein/Documents/programming/argilla/awesome-argilla-datasets/.env/lib/python3.9/site-packages)\u001b[0m\u001b[33m\n",
            "\u001b[0m\u001b[33m    WARNING: Ignoring invalid distribution -umpy (/Users/davidberenstein/Documents/programming/argilla/awesome-argilla-datasets/.env/lib/python3.9/site-packages)\u001b[0m\u001b[33m\n",
            "\u001b[0m\u001b[33mWARNING: Ignoring invalid distribution -umpy (/Users/davidberenstein/Documents/programming/argilla/awesome-argilla-datasets/.env/lib/python3.9/site-packages)\u001b[0m\u001b[33m\n",
            "\u001b[0m\u001b[33mWARNING: Ignoring invalid distribution -umpy (/Users/davidberenstein/Documents/programming/argilla/awesome-argilla-datasets/.env/lib/python3.9/site-packages)\u001b[0m\u001b[33m\n",
            "\u001b[0m\u001b[33mWARNING: Ignoring invalid distribution -umpy (/Users/davidberenstein/Documents/programming/argilla/awesome-argilla-datasets/.env/lib/python3.9/site-packages)\u001b[0m\u001b[33m\n",
            "\u001b[0m\u001b[33mWARNING: Ignoring invalid distribution -umpy (/Users/davidberenstein/Documents/programming/argilla/awesome-argilla-datasets/.env/lib/python3.9/site-packages)\u001b[0m\u001b[33m\n",
            "\u001b[0m\n",
            "\u001b[1m[\u001b[0m\u001b[34;49mnotice\u001b[0m\u001b[1;39;49m]\u001b[0m\u001b[39;49m A new release of pip is available: \u001b[0m\u001b[31;49m23.0.1\u001b[0m\u001b[39;49m -> \u001b[0m\u001b[32;49m23.3.1\u001b[0m\n",
            "\u001b[1m[\u001b[0m\u001b[34;49mnotice\u001b[0m\u001b[1;39;49m]\u001b[0m\u001b[39;49m To update, run: \u001b[0m\u001b[32;49mpip install --upgrade pip\u001b[0m\n"
          ]
        }
      ],
      "source": [
        "!pip install -q textdescriptives argilla==1.19 transformers datasets sentence-transformers"
      ]
    },
    {
      "cell_type": "code",
      "execution_count": 102,
      "metadata": {},
      "outputs": [
        {
          "name": "stdout",
          "output_type": "stream",
          "text": [
            "Looking in indexes: https://pypi.org/simple, https://dmrepository.datamaran.com:8443/repository/dmPYTHON/simple\n",
            "Collecting en-core-web-md==3.7.1\n",
            "  Downloading https://github.com/explosion/spacy-models/releases/download/en_core_web_md-3.7.1/en_core_web_md-3.7.1-py3-none-any.whl (42.8 MB)\n",
            "\u001b[2K     \u001b[90m━━━━━━━━━━━━━━━━━━━━━━━━━━━━━━━━━━━━━━━━\u001b[0m \u001b[32m42.8/42.8 MB\u001b[0m \u001b[31m41.9 MB/s\u001b[0m eta \u001b[36m0:00:00\u001b[0m00:01\u001b[0m00:01\u001b[0m\n",
            "\u001b[?25hRequirement already satisfied: spacy<3.8.0,>=3.7.2 in /Users/davidberenstein/Documents/programming/argilla/awesome-argilla-datasets/.env/lib/python3.9/site-packages (from en-core-web-md==3.7.1) (3.7.2)\n",
            "Requirement already satisfied: smart-open<7.0.0,>=5.2.1 in /Users/davidberenstein/Documents/programming/argilla/awesome-argilla-datasets/.env/lib/python3.9/site-packages (from spacy<3.8.0,>=3.7.2->en-core-web-md==3.7.1) (6.4.0)\n",
            "Requirement already satisfied: typer<0.10.0,>=0.3.0 in /Users/davidberenstein/Documents/programming/argilla/awesome-argilla-datasets/.env/lib/python3.9/site-packages (from spacy<3.8.0,>=3.7.2->en-core-web-md==3.7.1) (0.7.0)\n",
            "Requirement already satisfied: catalogue<2.1.0,>=2.0.6 in /Users/davidberenstein/Documents/programming/argilla/awesome-argilla-datasets/.env/lib/python3.9/site-packages (from spacy<3.8.0,>=3.7.2->en-core-web-md==3.7.1) (2.0.10)\n",
            "Requirement already satisfied: numpy>=1.19.0 in /Users/davidberenstein/Documents/programming/argilla/awesome-argilla-datasets/.env/lib/python3.9/site-packages (from spacy<3.8.0,>=3.7.2->en-core-web-md==3.7.1) (1.23.5)\n",
            "Requirement already satisfied: thinc<8.3.0,>=8.1.8 in /Users/davidberenstein/Documents/programming/argilla/awesome-argilla-datasets/.env/lib/python3.9/site-packages (from spacy<3.8.0,>=3.7.2->en-core-web-md==3.7.1) (8.2.1)\n",
            "Requirement already satisfied: murmurhash<1.1.0,>=0.28.0 in /Users/davidberenstein/Documents/programming/argilla/awesome-argilla-datasets/.env/lib/python3.9/site-packages (from spacy<3.8.0,>=3.7.2->en-core-web-md==3.7.1) (1.0.10)\n",
            "Requirement already satisfied: preshed<3.1.0,>=3.0.2 in /Users/davidberenstein/Documents/programming/argilla/awesome-argilla-datasets/.env/lib/python3.9/site-packages (from spacy<3.8.0,>=3.7.2->en-core-web-md==3.7.1) (3.0.9)\n",
            "Requirement already satisfied: requests<3.0.0,>=2.13.0 in /Users/davidberenstein/Documents/programming/argilla/awesome-argilla-datasets/.env/lib/python3.9/site-packages (from spacy<3.8.0,>=3.7.2->en-core-web-md==3.7.1) (2.31.0)\n",
            "Requirement already satisfied: pydantic!=1.8,!=1.8.1,<3.0.0,>=1.7.4 in /Users/davidberenstein/Documents/programming/argilla/awesome-argilla-datasets/.env/lib/python3.9/site-packages (from spacy<3.8.0,>=3.7.2->en-core-web-md==3.7.1) (1.10.13)\n",
            "Requirement already satisfied: packaging>=20.0 in /Users/davidberenstein/Documents/programming/argilla/awesome-argilla-datasets/.env/lib/python3.9/site-packages (from spacy<3.8.0,>=3.7.2->en-core-web-md==3.7.1) (23.2)\n",
            "Requirement already satisfied: wasabi<1.2.0,>=0.9.1 in /Users/davidberenstein/Documents/programming/argilla/awesome-argilla-datasets/.env/lib/python3.9/site-packages (from spacy<3.8.0,>=3.7.2->en-core-web-md==3.7.1) (1.1.2)\n",
            "Requirement already satisfied: cymem<2.1.0,>=2.0.2 in /Users/davidberenstein/Documents/programming/argilla/awesome-argilla-datasets/.env/lib/python3.9/site-packages (from spacy<3.8.0,>=3.7.2->en-core-web-md==3.7.1) (2.0.8)\n",
            "Requirement already satisfied: weasel<0.4.0,>=0.1.0 in /Users/davidberenstein/Documents/programming/argilla/awesome-argilla-datasets/.env/lib/python3.9/site-packages (from spacy<3.8.0,>=3.7.2->en-core-web-md==3.7.1) (0.3.3)\n",
            "Requirement already satisfied: langcodes<4.0.0,>=3.2.0 in /Users/davidberenstein/Documents/programming/argilla/awesome-argilla-datasets/.env/lib/python3.9/site-packages (from spacy<3.8.0,>=3.7.2->en-core-web-md==3.7.1) (3.3.0)\n",
            "Requirement already satisfied: srsly<3.0.0,>=2.4.3 in /Users/davidberenstein/Documents/programming/argilla/awesome-argilla-datasets/.env/lib/python3.9/site-packages (from spacy<3.8.0,>=3.7.2->en-core-web-md==3.7.1) (2.4.8)\n",
            "Requirement already satisfied: setuptools in /Users/davidberenstein/Documents/programming/argilla/awesome-argilla-datasets/.env/lib/python3.9/site-packages (from spacy<3.8.0,>=3.7.2->en-core-web-md==3.7.1) (58.1.0)\n",
            "Requirement already satisfied: spacy-loggers<2.0.0,>=1.0.0 in /Users/davidberenstein/Documents/programming/argilla/awesome-argilla-datasets/.env/lib/python3.9/site-packages (from spacy<3.8.0,>=3.7.2->en-core-web-md==3.7.1) (1.0.5)\n",
            "Requirement already satisfied: tqdm<5.0.0,>=4.38.0 in /Users/davidberenstein/Documents/programming/argilla/awesome-argilla-datasets/.env/lib/python3.9/site-packages (from spacy<3.8.0,>=3.7.2->en-core-web-md==3.7.1) (4.66.1)\n",
            "Requirement already satisfied: spacy-legacy<3.1.0,>=3.0.11 in /Users/davidberenstein/Documents/programming/argilla/awesome-argilla-datasets/.env/lib/python3.9/site-packages (from spacy<3.8.0,>=3.7.2->en-core-web-md==3.7.1) (3.0.12)\n",
            "Requirement already satisfied: jinja2 in /Users/davidberenstein/Documents/programming/argilla/awesome-argilla-datasets/.env/lib/python3.9/site-packages (from spacy<3.8.0,>=3.7.2->en-core-web-md==3.7.1) (3.1.2)\n",
            "Requirement already satisfied: typing-extensions>=4.2.0 in /Users/davidberenstein/Documents/programming/argilla/awesome-argilla-datasets/.env/lib/python3.9/site-packages (from pydantic!=1.8,!=1.8.1,<3.0.0,>=1.7.4->spacy<3.8.0,>=3.7.2->en-core-web-md==3.7.1) (4.8.0)\n",
            "Requirement already satisfied: certifi>=2017.4.17 in /Users/davidberenstein/Documents/programming/argilla/awesome-argilla-datasets/.env/lib/python3.9/site-packages (from requests<3.0.0,>=2.13.0->spacy<3.8.0,>=3.7.2->en-core-web-md==3.7.1) (2023.7.22)\n",
            "Requirement already satisfied: charset-normalizer<4,>=2 in /Users/davidberenstein/Documents/programming/argilla/awesome-argilla-datasets/.env/lib/python3.9/site-packages (from requests<3.0.0,>=2.13.0->spacy<3.8.0,>=3.7.2->en-core-web-md==3.7.1) (3.3.1)\n",
            "Requirement already satisfied: idna<4,>=2.5 in /Users/davidberenstein/Documents/programming/argilla/awesome-argilla-datasets/.env/lib/python3.9/site-packages (from requests<3.0.0,>=2.13.0->spacy<3.8.0,>=3.7.2->en-core-web-md==3.7.1) (3.4)\n",
            "Requirement already satisfied: urllib3<3,>=1.21.1 in /Users/davidberenstein/Documents/programming/argilla/awesome-argilla-datasets/.env/lib/python3.9/site-packages (from requests<3.0.0,>=2.13.0->spacy<3.8.0,>=3.7.2->en-core-web-md==3.7.1) (1.26.18)\n",
            "Requirement already satisfied: blis<0.8.0,>=0.7.8 in /Users/davidberenstein/Documents/programming/argilla/awesome-argilla-datasets/.env/lib/python3.9/site-packages (from thinc<8.3.0,>=8.1.8->spacy<3.8.0,>=3.7.2->en-core-web-md==3.7.1) (0.7.11)\n",
            "Requirement already satisfied: confection<1.0.0,>=0.0.1 in /Users/davidberenstein/Documents/programming/argilla/awesome-argilla-datasets/.env/lib/python3.9/site-packages (from thinc<8.3.0,>=8.1.8->spacy<3.8.0,>=3.7.2->en-core-web-md==3.7.1) (0.1.3)\n",
            "Requirement already satisfied: click<9.0.0,>=7.1.1 in /Users/davidberenstein/Documents/programming/argilla/awesome-argilla-datasets/.env/lib/python3.9/site-packages (from typer<0.10.0,>=0.3.0->spacy<3.8.0,>=3.7.2->en-core-web-md==3.7.1) (8.1.7)\n",
            "Requirement already satisfied: cloudpathlib<0.17.0,>=0.7.0 in /Users/davidberenstein/Documents/programming/argilla/awesome-argilla-datasets/.env/lib/python3.9/site-packages (from weasel<0.4.0,>=0.1.0->spacy<3.8.0,>=3.7.2->en-core-web-md==3.7.1) (0.16.0)\n",
            "Requirement already satisfied: MarkupSafe>=2.0 in /Users/davidberenstein/Documents/programming/argilla/awesome-argilla-datasets/.env/lib/python3.9/site-packages (from jinja2->spacy<3.8.0,>=3.7.2->en-core-web-md==3.7.1) (2.1.3)\n",
            "Installing collected packages: en-core-web-md\n",
            "  Attempting uninstall: en-core-web-md\n",
            "    Found existing installation: en-core-web-md 3.7.0\n",
            "    Uninstalling en-core-web-md-3.7.0:\n",
            "      Successfully uninstalled en-core-web-md-3.7.0\n",
            "Successfully installed en-core-web-md-3.7.1\n",
            "\n",
            "\u001b[1m[\u001b[0m\u001b[34;49mnotice\u001b[0m\u001b[1;39;49m]\u001b[0m\u001b[39;49m A new release of pip is available: \u001b[0m\u001b[31;49m23.0.1\u001b[0m\u001b[39;49m -> \u001b[0m\u001b[32;49m23.3.1\u001b[0m\n",
            "\u001b[1m[\u001b[0m\u001b[34;49mnotice\u001b[0m\u001b[1;39;49m]\u001b[0m\u001b[39;49m To update, run: \u001b[0m\u001b[32;49mpip install --upgrade pip\u001b[0m\n",
            "\u001b[38;5;2m✔ Download and installation successful\u001b[0m\n",
            "You can now load the package via spacy.load('en_core_web_md')\n"
          ]
        }
      ],
      "source": [
        "!python -m spacy download en_core_web_md"
      ]
    },
    {
      "cell_type": "markdown",
      "metadata": {},
      "source": [
        "## Imports"
      ]
    },
    {
      "cell_type": "code",
      "execution_count": 3,
      "metadata": {},
      "outputs": [
        {
          "name": "stderr",
          "output_type": "stream",
          "text": [
            "/Users/davidberenstein/Documents/programming/argilla/awesome-argilla-datasets/.env/lib/python3.9/site-packages/tqdm/auto.py:21: TqdmWarning: IProgress not found. Please update jupyter and ipywidgets. See https://ipywidgets.readthedocs.io/en/stable/user_install.html\n",
            "  from .autonotebook import tqdm as notebook_tqdm\n"
          ]
        }
      ],
      "source": [
        "import textdescriptives as td\n",
        "from datasets import load_dataset\n",
        "import re\n",
        "import os\n",
        "import spacy\n",
        "import argilla as rg\n",
        "import numpy as np\n",
        "import concurrent.futures\n",
        "import requests\n",
        "import json"
      ]
    },
    {
      "cell_type": "markdown",
      "metadata": {},
      "source": [
        "## Connect to Argilla"
      ]
    },
    {
      "cell_type": "code",
      "execution_count": 29,
      "metadata": {},
      "outputs": [
        {
          "data": {
            "text/html": [
              "<pre style=\"white-space:pre;overflow-x:auto;line-height:normal;font-family:Menlo,'DejaVu Sans Mono',consolas,'Courier New',monospace\"><span style=\"color: #800000; text-decoration-color: #800000\">╭─────────────────────────────── </span><span style=\"color: #800000; text-decoration-color: #800000; font-weight: bold\">Traceback </span><span style=\"color: #bf7f7f; text-decoration-color: #bf7f7f; font-weight: bold\">(most recent call last)</span><span style=\"color: #800000; text-decoration-color: #800000\"> ────────────────────────────────╮</span>\n",
              "<span style=\"color: #800000; text-decoration-color: #800000\">│</span> in <span style=\"color: #00ff00; text-decoration-color: #00ff00\">&lt;module&gt;</span>:<span style=\"color: #0000ff; text-decoration-color: #0000ff\">1</span>                                                                                    <span style=\"color: #800000; text-decoration-color: #800000\">│</span>\n",
              "<span style=\"color: #800000; text-decoration-color: #800000\">│</span>                                                                                                  <span style=\"color: #800000; text-decoration-color: #800000\">│</span>\n",
              "<span style=\"color: #800000; text-decoration-color: #800000\">│</span> <span style=\"color: #800000; text-decoration-color: #800000\">❱ </span>1 rg.init(api_url=os.environ.get(<span style=\"color: #808000; text-decoration-color: #808000\">\"ARGILLA_API_URL_PRE\"</span>), api_key=os.environ.get(<span style=\"color: #808000; text-decoration-color: #808000\">\"ARGILLA_A</span>     <span style=\"color: #800000; text-decoration-color: #800000\">│</span>\n",
              "<span style=\"color: #800000; text-decoration-color: #800000\">│</span>   <span style=\"color: #7f7f7f; text-decoration-color: #7f7f7f\">2 </span>rg.set_workspace(<span style=\"color: #808000; text-decoration-color: #808000\">\"awesome-argilla-datasets\"</span>)                                                 <span style=\"color: #800000; text-decoration-color: #800000\">│</span>\n",
              "<span style=\"color: #800000; text-decoration-color: #800000\">│</span>   <span style=\"color: #7f7f7f; text-decoration-color: #7f7f7f\">3 </span>                                                                                             <span style=\"color: #800000; text-decoration-color: #800000\">│</span>\n",
              "<span style=\"color: #800000; text-decoration-color: #800000\">│</span>                                                                                                  <span style=\"color: #800000; text-decoration-color: #800000\">│</span>\n",
              "<span style=\"color: #800000; text-decoration-color: #800000\">│</span> <span style=\"color: #bfbf7f; text-decoration-color: #bfbf7f\">/Users/davidberenstein/Documents/programming/argilla/awesome-argilla-datasets/.env/lib/python3.9</span> <span style=\"color: #800000; text-decoration-color: #800000\">│</span>\n",
              "<span style=\"color: #800000; text-decoration-color: #800000\">│</span> <span style=\"color: #bfbf7f; text-decoration-color: #bfbf7f\">/site-packages/argilla/client/</span><span style=\"color: #808000; text-decoration-color: #808000; font-weight: bold\">api.py</span>:<span style=\"color: #0000ff; text-decoration-color: #0000ff\">103</span> in <span style=\"color: #00ff00; text-decoration-color: #00ff00\">init</span>                                                 <span style=\"color: #800000; text-decoration-color: #800000\">│</span>\n",
              "<span style=\"color: #800000; text-decoration-color: #800000\">│</span>                                                                                                  <span style=\"color: #800000; text-decoration-color: #800000\">│</span>\n",
              "<span style=\"color: #800000; text-decoration-color: #800000\">│</span>   <span style=\"color: #7f7f7f; text-decoration-color: #7f7f7f\">100 </span><span style=\"color: #bfbf7f; text-decoration-color: #bfbf7f\">│   │   </span><span style=\"color: #808000; text-decoration-color: #808000\">&gt;&gt;&gt; headers = {\"X-Client-id\":\"id\",\"X-Secret\":\"secret\"}</span>                             <span style=\"color: #800000; text-decoration-color: #800000\">│</span>\n",
              "<span style=\"color: #800000; text-decoration-color: #800000\">│</span>   <span style=\"color: #7f7f7f; text-decoration-color: #7f7f7f\">101 </span><span style=\"color: #bfbf7f; text-decoration-color: #bfbf7f\">│   │   </span><span style=\"color: #808000; text-decoration-color: #808000\">&gt;&gt;&gt; rg.init(api_url=\"http://localhost:9090\", api_key=\"4AkeAPIk3Y\", extra_headers</span>   <span style=\"color: #800000; text-decoration-color: #800000\">│</span>\n",
              "<span style=\"color: #800000; text-decoration-color: #800000\">│</span>   <span style=\"color: #7f7f7f; text-decoration-color: #7f7f7f\">102 </span><span style=\"color: #bfbf7f; text-decoration-color: #bfbf7f\">│   </span><span style=\"color: #808000; text-decoration-color: #808000\">\"\"\"</span>                                                                                    <span style=\"color: #800000; text-decoration-color: #800000\">│</span>\n",
              "<span style=\"color: #800000; text-decoration-color: #800000\">│</span> <span style=\"color: #800000; text-decoration-color: #800000\">❱ </span>103 <span style=\"color: #7f7f7f; text-decoration-color: #7f7f7f\">│   </span>ArgillaSingleton.init(                                                                 <span style=\"color: #800000; text-decoration-color: #800000\">│</span>\n",
              "<span style=\"color: #800000; text-decoration-color: #800000\">│</span>   <span style=\"color: #7f7f7f; text-decoration-color: #7f7f7f\">104 </span><span style=\"color: #7f7f7f; text-decoration-color: #7f7f7f\">│   │   </span>api_url=api_url,                                                                   <span style=\"color: #800000; text-decoration-color: #800000\">│</span>\n",
              "<span style=\"color: #800000; text-decoration-color: #800000\">│</span>   <span style=\"color: #7f7f7f; text-decoration-color: #7f7f7f\">105 </span><span style=\"color: #7f7f7f; text-decoration-color: #7f7f7f\">│   │   </span>api_key=api_key,                                                                   <span style=\"color: #800000; text-decoration-color: #800000\">│</span>\n",
              "<span style=\"color: #800000; text-decoration-color: #800000\">│</span>   <span style=\"color: #7f7f7f; text-decoration-color: #7f7f7f\">106 </span><span style=\"color: #7f7f7f; text-decoration-color: #7f7f7f\">│   │   </span>workspace=workspace,                                                               <span style=\"color: #800000; text-decoration-color: #800000\">│</span>\n",
              "<span style=\"color: #800000; text-decoration-color: #800000\">│</span>                                                                                                  <span style=\"color: #800000; text-decoration-color: #800000\">│</span>\n",
              "<span style=\"color: #800000; text-decoration-color: #800000\">│</span> <span style=\"color: #bfbf7f; text-decoration-color: #bfbf7f\">/Users/davidberenstein/Documents/programming/argilla/awesome-argilla-datasets/.env/lib/python3.9</span> <span style=\"color: #800000; text-decoration-color: #800000\">│</span>\n",
              "<span style=\"color: #800000; text-decoration-color: #800000\">│</span> <span style=\"color: #bfbf7f; text-decoration-color: #bfbf7f\">/site-packages/argilla/client/</span><span style=\"color: #808000; text-decoration-color: #808000; font-weight: bold\">api.py</span>:<span style=\"color: #0000ff; text-decoration-color: #0000ff\">59</span> in <span style=\"color: #00ff00; text-decoration-color: #00ff00\">init</span>                                                  <span style=\"color: #800000; text-decoration-color: #800000\">│</span>\n",
              "<span style=\"color: #800000; text-decoration-color: #800000\">│</span>                                                                                                  <span style=\"color: #800000; text-decoration-color: #800000\">│</span>\n",
              "<span style=\"color: #800000; text-decoration-color: #800000\">│</span>   <span style=\"color: #7f7f7f; text-decoration-color: #7f7f7f\"> 56 </span><span style=\"color: #7f7f7f; text-decoration-color: #7f7f7f\">│   </span>) -&gt; Argilla:                                                                          <span style=\"color: #800000; text-decoration-color: #800000\">│</span>\n",
              "<span style=\"color: #800000; text-decoration-color: #800000\">│</span>   <span style=\"color: #7f7f7f; text-decoration-color: #7f7f7f\"> 57 </span><span style=\"color: #7f7f7f; text-decoration-color: #7f7f7f\">│   │   </span><span style=\"color: #00ffff; text-decoration-color: #00ffff\">cls</span>._INSTANCE = <span style=\"color: #0000ff; text-decoration-color: #0000ff\">None</span>                                                               <span style=\"color: #800000; text-decoration-color: #800000\">│</span>\n",
              "<span style=\"color: #800000; text-decoration-color: #800000\">│</span>   <span style=\"color: #7f7f7f; text-decoration-color: #7f7f7f\"> 58 </span><span style=\"color: #7f7f7f; text-decoration-color: #7f7f7f\">│   │   </span>                                                                                   <span style=\"color: #800000; text-decoration-color: #800000\">│</span>\n",
              "<span style=\"color: #800000; text-decoration-color: #800000\">│</span> <span style=\"color: #800000; text-decoration-color: #800000\">❱ </span> 59 <span style=\"color: #7f7f7f; text-decoration-color: #7f7f7f\">│   │   </span><span style=\"color: #00ffff; text-decoration-color: #00ffff\">cls</span>._INSTANCE = Argilla(                                                           <span style=\"color: #800000; text-decoration-color: #800000\">│</span>\n",
              "<span style=\"color: #800000; text-decoration-color: #800000\">│</span>   <span style=\"color: #7f7f7f; text-decoration-color: #7f7f7f\"> 60 </span><span style=\"color: #7f7f7f; text-decoration-color: #7f7f7f\">│   │   │   </span>api_url=api_url,                                                               <span style=\"color: #800000; text-decoration-color: #800000\">│</span>\n",
              "<span style=\"color: #800000; text-decoration-color: #800000\">│</span>   <span style=\"color: #7f7f7f; text-decoration-color: #7f7f7f\"> 61 </span><span style=\"color: #7f7f7f; text-decoration-color: #7f7f7f\">│   │   │   </span>api_key=api_key,                                                               <span style=\"color: #800000; text-decoration-color: #800000\">│</span>\n",
              "<span style=\"color: #800000; text-decoration-color: #800000\">│</span>   <span style=\"color: #7f7f7f; text-decoration-color: #7f7f7f\"> 62 </span><span style=\"color: #7f7f7f; text-decoration-color: #7f7f7f\">│   │   │   </span>timeout=timeout,                                                               <span style=\"color: #800000; text-decoration-color: #800000\">│</span>\n",
              "<span style=\"color: #800000; text-decoration-color: #800000\">│</span>                                                                                                  <span style=\"color: #800000; text-decoration-color: #800000\">│</span>\n",
              "<span style=\"color: #800000; text-decoration-color: #800000\">│</span> <span style=\"color: #bfbf7f; text-decoration-color: #bfbf7f\">/Users/davidberenstein/Documents/programming/argilla/awesome-argilla-datasets/.env/lib/python3.9</span> <span style=\"color: #800000; text-decoration-color: #800000\">│</span>\n",
              "<span style=\"color: #800000; text-decoration-color: #800000\">│</span> <span style=\"color: #bfbf7f; text-decoration-color: #bfbf7f\">/site-packages/argilla/client/</span><span style=\"color: #808000; text-decoration-color: #808000; font-weight: bold\">client.py</span>:<span style=\"color: #0000ff; text-decoration-color: #0000ff\">151</span> in <span style=\"color: #00ff00; text-decoration-color: #00ff00\">__init__</span>                                          <span style=\"color: #800000; text-decoration-color: #800000\">│</span>\n",
              "<span style=\"color: #800000; text-decoration-color: #800000\">│</span>                                                                                                  <span style=\"color: #800000; text-decoration-color: #800000\">│</span>\n",
              "<span style=\"color: #800000; text-decoration-color: #800000\">│</span>   <span style=\"color: #7f7f7f; text-decoration-color: #7f7f7f\">148 </span><span style=\"color: #7f7f7f; text-decoration-color: #7f7f7f\">│   │   │   </span>headers=headers.copy(),                                                        <span style=\"color: #800000; text-decoration-color: #800000\">│</span>\n",
              "<span style=\"color: #800000; text-decoration-color: #800000\">│</span>   <span style=\"color: #7f7f7f; text-decoration-color: #7f7f7f\">149 </span><span style=\"color: #7f7f7f; text-decoration-color: #7f7f7f\">│   │   </span>)                                                                                  <span style=\"color: #800000; text-decoration-color: #800000\">│</span>\n",
              "<span style=\"color: #800000; text-decoration-color: #800000\">│</span>   <span style=\"color: #7f7f7f; text-decoration-color: #7f7f7f\">150 </span><span style=\"color: #7f7f7f; text-decoration-color: #7f7f7f\">│   │   </span>                                                                                   <span style=\"color: #800000; text-decoration-color: #800000\">│</span>\n",
              "<span style=\"color: #800000; text-decoration-color: #800000\">│</span> <span style=\"color: #800000; text-decoration-color: #800000\">❱ </span>151 <span style=\"color: #7f7f7f; text-decoration-color: #7f7f7f\">│   │   </span><span style=\"color: #00ffff; text-decoration-color: #00ffff\">self</span>._user = users_api.whoami(client=<span style=\"color: #00ffff; text-decoration-color: #00ffff\">self</span>.http_client)  <span style=\"color: #7f7f7f; text-decoration-color: #7f7f7f\"># .parsed</span>                  <span style=\"color: #800000; text-decoration-color: #800000\">│</span>\n",
              "<span style=\"color: #800000; text-decoration-color: #800000\">│</span>   <span style=\"color: #7f7f7f; text-decoration-color: #7f7f7f\">152 </span><span style=\"color: #7f7f7f; text-decoration-color: #7f7f7f\">│   │   </span>                                                                                   <span style=\"color: #800000; text-decoration-color: #800000\">│</span>\n",
              "<span style=\"color: #800000; text-decoration-color: #800000\">│</span>   <span style=\"color: #7f7f7f; text-decoration-color: #7f7f7f\">153 </span><span style=\"color: #7f7f7f; text-decoration-color: #7f7f7f\">│   │   </span><span style=\"color: #0000ff; text-decoration-color: #0000ff\">if</span> <span style=\"color: #ff00ff; text-decoration-color: #ff00ff\">not</span> workspace <span style=\"color: #ff00ff; text-decoration-color: #ff00ff\">and</span> <span style=\"color: #00ffff; text-decoration-color: #00ffff\">self</span>._user.username == DEFAULT_USERNAME <span style=\"color: #ff00ff; text-decoration-color: #ff00ff\">and</span> DEFAULT_USERNAM   <span style=\"color: #800000; text-decoration-color: #800000\">│</span>\n",
              "<span style=\"color: #800000; text-decoration-color: #800000\">│</span>   <span style=\"color: #7f7f7f; text-decoration-color: #7f7f7f\">154 </span><span style=\"color: #7f7f7f; text-decoration-color: #7f7f7f\">│   │   │   </span>warnings.warn(                                                                 <span style=\"color: #800000; text-decoration-color: #800000\">│</span>\n",
              "<span style=\"color: #800000; text-decoration-color: #800000\">│</span>                                                                                                  <span style=\"color: #800000; text-decoration-color: #800000\">│</span>\n",
              "<span style=\"color: #800000; text-decoration-color: #800000\">│</span> <span style=\"color: #bfbf7f; text-decoration-color: #bfbf7f\">/Users/davidberenstein/Documents/programming/argilla/awesome-argilla-datasets/.env/lib/python3.9</span> <span style=\"color: #800000; text-decoration-color: #800000\">│</span>\n",
              "<span style=\"color: #800000; text-decoration-color: #800000\">│</span> <span style=\"color: #bfbf7f; text-decoration-color: #bfbf7f\">/site-packages/argilla/client/sdk/users/</span><span style=\"color: #808000; text-decoration-color: #808000; font-weight: bold\">api.py</span>:<span style=\"color: #0000ff; text-decoration-color: #0000ff\">39</span> in <span style=\"color: #00ff00; text-decoration-color: #00ff00\">whoami</span>                                      <span style=\"color: #800000; text-decoration-color: #800000\">│</span>\n",
              "<span style=\"color: #800000; text-decoration-color: #800000\">│</span>                                                                                                  <span style=\"color: #800000; text-decoration-color: #800000\">│</span>\n",
              "<span style=\"color: #800000; text-decoration-color: #800000\">│</span>   <span style=\"color: #7f7f7f; text-decoration-color: #7f7f7f\"> 36 </span><span style=\"color: #bfbf7f; text-decoration-color: #bfbf7f\">│   </span><span style=\"color: #808000; text-decoration-color: #808000\">\"\"\"</span>                                                                                    <span style=\"color: #800000; text-decoration-color: #800000\">│</span>\n",
              "<span style=\"color: #800000; text-decoration-color: #800000\">│</span>   <span style=\"color: #7f7f7f; text-decoration-color: #7f7f7f\"> 37 </span><span style=\"color: #7f7f7f; text-decoration-color: #7f7f7f\">│   </span>url = <span style=\"color: #808000; text-decoration-color: #808000\">\"/api/me\"</span>                                                                        <span style=\"color: #800000; text-decoration-color: #800000\">│</span>\n",
              "<span style=\"color: #800000; text-decoration-color: #800000\">│</span>   <span style=\"color: #7f7f7f; text-decoration-color: #7f7f7f\"> 38 </span><span style=\"color: #7f7f7f; text-decoration-color: #7f7f7f\">│   </span>                                                                                       <span style=\"color: #800000; text-decoration-color: #800000\">│</span>\n",
              "<span style=\"color: #800000; text-decoration-color: #800000\">│</span> <span style=\"color: #800000; text-decoration-color: #800000\">❱ </span> 39 <span style=\"color: #7f7f7f; text-decoration-color: #7f7f7f\">│   </span>response = client.get(url)                                                             <span style=\"color: #800000; text-decoration-color: #800000\">│</span>\n",
              "<span style=\"color: #800000; text-decoration-color: #800000\">│</span>   <span style=\"color: #7f7f7f; text-decoration-color: #7f7f7f\"> 40 </span><span style=\"color: #7f7f7f; text-decoration-color: #7f7f7f\">│   </span><span style=\"color: #0000ff; text-decoration-color: #0000ff\">return</span> UserModel(**response)                                                           <span style=\"color: #800000; text-decoration-color: #800000\">│</span>\n",
              "<span style=\"color: #800000; text-decoration-color: #800000\">│</span>   <span style=\"color: #7f7f7f; text-decoration-color: #7f7f7f\"> 41 </span>                                                                                           <span style=\"color: #800000; text-decoration-color: #800000\">│</span>\n",
              "<span style=\"color: #800000; text-decoration-color: #800000\">│</span>   <span style=\"color: #7f7f7f; text-decoration-color: #7f7f7f\"> 42 </span>                                                                                           <span style=\"color: #800000; text-decoration-color: #800000\">│</span>\n",
              "<span style=\"color: #800000; text-decoration-color: #800000\">│</span>                                                                                                  <span style=\"color: #800000; text-decoration-color: #800000\">│</span>\n",
              "<span style=\"color: #800000; text-decoration-color: #800000\">│</span> <span style=\"color: #bfbf7f; text-decoration-color: #bfbf7f\">/Users/davidberenstein/Documents/programming/argilla/awesome-argilla-datasets/.env/lib/python3.9</span> <span style=\"color: #800000; text-decoration-color: #800000\">│</span>\n",
              "<span style=\"color: #800000; text-decoration-color: #800000\">│</span> <span style=\"color: #bfbf7f; text-decoration-color: #bfbf7f\">/site-packages/argilla/client/sdk/</span><span style=\"color: #808000; text-decoration-color: #808000; font-weight: bold\">client.py</span>:<span style=\"color: #0000ff; text-decoration-color: #0000ff\">125</span> in <span style=\"color: #00ff00; text-decoration-color: #00ff00\">inner</span>                                         <span style=\"color: #800000; text-decoration-color: #800000\">│</span>\n",
              "<span style=\"color: #800000; text-decoration-color: #800000\">│</span>                                                                                                  <span style=\"color: #800000; text-decoration-color: #800000\">│</span>\n",
              "<span style=\"color: #800000; text-decoration-color: #800000\">│</span>   <span style=\"color: #7f7f7f; text-decoration-color: #7f7f7f\">122 </span><span style=\"color: #7f7f7f; text-decoration-color: #7f7f7f\">│   │   </span><span style=\"color: #ff00ff; text-decoration-color: #ff00ff; font-weight: bold\">@functools</span>.wraps(func)                                                             <span style=\"color: #800000; text-decoration-color: #800000\">│</span>\n",
              "<span style=\"color: #800000; text-decoration-color: #800000\">│</span>   <span style=\"color: #7f7f7f; text-decoration-color: #7f7f7f\">123 </span><span style=\"color: #7f7f7f; text-decoration-color: #7f7f7f\">│   │   </span><span style=\"color: #0000ff; text-decoration-color: #0000ff\">def</span> <span style=\"color: #00ff00; text-decoration-color: #00ff00\">inner</span>(<span style=\"color: #00ffff; text-decoration-color: #00ffff\">self</span>, *args, **kwargs):                                                  <span style=\"color: #800000; text-decoration-color: #800000\">│</span>\n",
              "<span style=\"color: #800000; text-decoration-color: #800000\">│</span>   <span style=\"color: #7f7f7f; text-decoration-color: #7f7f7f\">124 </span><span style=\"color: #7f7f7f; text-decoration-color: #7f7f7f\">│   │   │   </span><span style=\"color: #0000ff; text-decoration-color: #0000ff\">try</span>:                                                                           <span style=\"color: #800000; text-decoration-color: #800000\">│</span>\n",
              "<span style=\"color: #800000; text-decoration-color: #800000\">│</span> <span style=\"color: #800000; text-decoration-color: #800000\">❱ </span>125 <span style=\"color: #7f7f7f; text-decoration-color: #7f7f7f\">│   │   │   │   </span>result = func(<span style=\"color: #00ffff; text-decoration-color: #00ffff\">self</span>, *args, **kwargs)                                       <span style=\"color: #800000; text-decoration-color: #800000\">│</span>\n",
              "<span style=\"color: #800000; text-decoration-color: #800000\">│</span>   <span style=\"color: #7f7f7f; text-decoration-color: #7f7f7f\">126 </span><span style=\"color: #7f7f7f; text-decoration-color: #7f7f7f\">│   │   │   │   </span><span style=\"color: #0000ff; text-decoration-color: #0000ff\">return</span> result                                                              <span style=\"color: #800000; text-decoration-color: #800000\">│</span>\n",
              "<span style=\"color: #800000; text-decoration-color: #800000\">│</span>   <span style=\"color: #7f7f7f; text-decoration-color: #7f7f7f\">127 </span><span style=\"color: #7f7f7f; text-decoration-color: #7f7f7f\">│   │   │   </span><span style=\"color: #0000ff; text-decoration-color: #0000ff\">except</span> httpx.ConnectError <span style=\"color: #0000ff; text-decoration-color: #0000ff\">as</span> err:  <span style=\"color: #7f7f7f; text-decoration-color: #7f7f7f\"># noqa: F841</span>                                <span style=\"color: #800000; text-decoration-color: #800000\">│</span>\n",
              "<span style=\"color: #800000; text-decoration-color: #800000\">│</span>   <span style=\"color: #7f7f7f; text-decoration-color: #7f7f7f\">128 </span><span style=\"color: #7f7f7f; text-decoration-color: #7f7f7f\">│   │   │   │   </span><span style=\"color: #0000ff; text-decoration-color: #0000ff\">return</span> wrap_error(<span style=\"color: #00ffff; text-decoration-color: #00ffff\">self</span>.base_url)                                           <span style=\"color: #800000; text-decoration-color: #800000\">│</span>\n",
              "<span style=\"color: #800000; text-decoration-color: #800000\">│</span>                                                                                                  <span style=\"color: #800000; text-decoration-color: #800000\">│</span>\n",
              "<span style=\"color: #800000; text-decoration-color: #800000\">│</span> <span style=\"color: #bfbf7f; text-decoration-color: #bfbf7f\">/Users/davidberenstein/Documents/programming/argilla/awesome-argilla-datasets/.env/lib/python3.9</span> <span style=\"color: #800000; text-decoration-color: #800000\">│</span>\n",
              "<span style=\"color: #800000; text-decoration-color: #800000\">│</span> <span style=\"color: #bfbf7f; text-decoration-color: #bfbf7f\">/site-packages/argilla/client/sdk/</span><span style=\"color: #808000; text-decoration-color: #808000; font-weight: bold\">client.py</span>:<span style=\"color: #0000ff; text-decoration-color: #0000ff\">141</span> in <span style=\"color: #00ff00; text-decoration-color: #00ff00\">get</span>                                           <span style=\"color: #800000; text-decoration-color: #800000\">│</span>\n",
              "<span style=\"color: #800000; text-decoration-color: #800000\">│</span>                                                                                                  <span style=\"color: #800000; text-decoration-color: #800000\">│</span>\n",
              "<span style=\"color: #800000; text-decoration-color: #800000\">│</span>   <span style=\"color: #7f7f7f; text-decoration-color: #7f7f7f\">138 </span><span style=\"color: #7f7f7f; text-decoration-color: #7f7f7f\">│   │   │   </span>*args,                                                                         <span style=\"color: #800000; text-decoration-color: #800000\">│</span>\n",
              "<span style=\"color: #800000; text-decoration-color: #800000\">│</span>   <span style=\"color: #7f7f7f; text-decoration-color: #7f7f7f\">139 </span><span style=\"color: #7f7f7f; text-decoration-color: #7f7f7f\">│   │   │   </span>**kwargs,                                                                      <span style=\"color: #800000; text-decoration-color: #800000\">│</span>\n",
              "<span style=\"color: #800000; text-decoration-color: #800000\">│</span>   <span style=\"color: #7f7f7f; text-decoration-color: #7f7f7f\">140 </span><span style=\"color: #7f7f7f; text-decoration-color: #7f7f7f\">│   │   </span>)                                                                                  <span style=\"color: #800000; text-decoration-color: #800000\">│</span>\n",
              "<span style=\"color: #800000; text-decoration-color: #800000\">│</span> <span style=\"color: #800000; text-decoration-color: #800000\">❱ </span>141 <span style=\"color: #7f7f7f; text-decoration-color: #7f7f7f\">│   │   </span><span style=\"color: #0000ff; text-decoration-color: #0000ff\">return</span> build_raw_response(response).parsed                                         <span style=\"color: #800000; text-decoration-color: #800000\">│</span>\n",
              "<span style=\"color: #800000; text-decoration-color: #800000\">│</span>   <span style=\"color: #7f7f7f; text-decoration-color: #7f7f7f\">142 </span><span style=\"color: #7f7f7f; text-decoration-color: #7f7f7f\">│   </span>                                                                                       <span style=\"color: #800000; text-decoration-color: #800000\">│</span>\n",
              "<span style=\"color: #800000; text-decoration-color: #800000\">│</span>   <span style=\"color: #7f7f7f; text-decoration-color: #7f7f7f\">143 </span><span style=\"color: #7f7f7f; text-decoration-color: #7f7f7f\">│   </span><span style=\"color: #ff00ff; text-decoration-color: #ff00ff; font-weight: bold\">@with_httpx_error_handler</span>                                                              <span style=\"color: #800000; text-decoration-color: #800000\">│</span>\n",
              "<span style=\"color: #800000; text-decoration-color: #800000\">│</span>   <span style=\"color: #7f7f7f; text-decoration-color: #7f7f7f\">144 </span><span style=\"color: #7f7f7f; text-decoration-color: #7f7f7f\">│   </span><span style=\"color: #0000ff; text-decoration-color: #0000ff\">def</span> <span style=\"color: #00ff00; text-decoration-color: #00ff00\">patch</span>(<span style=\"color: #00ffff; text-decoration-color: #00ffff\">self</span>, path: <span style=\"color: #00ffff; text-decoration-color: #00ffff\">str</span>, *args, **kwargs):                                           <span style=\"color: #800000; text-decoration-color: #800000\">│</span>\n",
              "<span style=\"color: #800000; text-decoration-color: #800000\">│</span>                                                                                                  <span style=\"color: #800000; text-decoration-color: #800000\">│</span>\n",
              "<span style=\"color: #800000; text-decoration-color: #800000\">│</span> <span style=\"color: #bfbf7f; text-decoration-color: #bfbf7f\">/Users/davidberenstein/Documents/programming/argilla/awesome-argilla-datasets/.env/lib/python3.9</span> <span style=\"color: #800000; text-decoration-color: #800000\">│</span>\n",
              "<span style=\"color: #800000; text-decoration-color: #800000\">│</span> <span style=\"color: #bfbf7f; text-decoration-color: #bfbf7f\">/site-packages/argilla/client/sdk/</span><span style=\"color: #808000; text-decoration-color: #808000; font-weight: bold\">_helpers.py</span>:<span style=\"color: #0000ff; text-decoration-color: #0000ff\">25</span> in <span style=\"color: #00ff00; text-decoration-color: #00ff00\">build_raw_response</span>                           <span style=\"color: #800000; text-decoration-color: #800000\">│</span>\n",
              "<span style=\"color: #800000; text-decoration-color: #800000\">│</span>                                                                                                  <span style=\"color: #800000; text-decoration-color: #800000\">│</span>\n",
              "<span style=\"color: #800000; text-decoration-color: #800000\">│</span>   <span style=\"color: #7f7f7f; text-decoration-color: #7f7f7f\">22 </span>                                                                                            <span style=\"color: #800000; text-decoration-color: #800000\">│</span>\n",
              "<span style=\"color: #800000; text-decoration-color: #800000\">│</span>   <span style=\"color: #7f7f7f; text-decoration-color: #7f7f7f\">23 </span>                                                                                            <span style=\"color: #800000; text-decoration-color: #800000\">│</span>\n",
              "<span style=\"color: #800000; text-decoration-color: #800000\">│</span>   <span style=\"color: #7f7f7f; text-decoration-color: #7f7f7f\">24 </span><span style=\"color: #0000ff; text-decoration-color: #0000ff\">def</span> <span style=\"color: #00ff00; text-decoration-color: #00ff00\">build_raw_response</span>(response: httpx.Response) -&gt; Response[Union[Dict[<span style=\"color: #00ffff; text-decoration-color: #00ffff\">str</span>, Any], Error    <span style=\"color: #800000; text-decoration-color: #800000\">│</span>\n",
              "<span style=\"color: #800000; text-decoration-color: #800000\">│</span> <span style=\"color: #800000; text-decoration-color: #800000\">❱ </span>25 <span style=\"color: #7f7f7f; text-decoration-color: #7f7f7f\">│   </span><span style=\"color: #0000ff; text-decoration-color: #0000ff\">return</span> build_typed_response(response)                                                   <span style=\"color: #800000; text-decoration-color: #800000\">│</span>\n",
              "<span style=\"color: #800000; text-decoration-color: #800000\">│</span>   <span style=\"color: #7f7f7f; text-decoration-color: #7f7f7f\">26 </span>                                                                                            <span style=\"color: #800000; text-decoration-color: #800000\">│</span>\n",
              "<span style=\"color: #800000; text-decoration-color: #800000\">│</span>   <span style=\"color: #7f7f7f; text-decoration-color: #7f7f7f\">27 </span>                                                                                            <span style=\"color: #800000; text-decoration-color: #800000\">│</span>\n",
              "<span style=\"color: #800000; text-decoration-color: #800000\">│</span>   <span style=\"color: #7f7f7f; text-decoration-color: #7f7f7f\">28 </span>ResponseType = TypeVar(<span style=\"color: #808000; text-decoration-color: #808000\">\"ResponseType\"</span>)                                                      <span style=\"color: #800000; text-decoration-color: #800000\">│</span>\n",
              "<span style=\"color: #800000; text-decoration-color: #800000\">│</span>                                                                                                  <span style=\"color: #800000; text-decoration-color: #800000\">│</span>\n",
              "<span style=\"color: #800000; text-decoration-color: #800000\">│</span> <span style=\"color: #bfbf7f; text-decoration-color: #bfbf7f\">/Users/davidberenstein/Documents/programming/argilla/awesome-argilla-datasets/.env/lib/python3.9</span> <span style=\"color: #800000; text-decoration-color: #800000\">│</span>\n",
              "<span style=\"color: #800000; text-decoration-color: #800000\">│</span> <span style=\"color: #bfbf7f; text-decoration-color: #bfbf7f\">/site-packages/argilla/client/sdk/</span><span style=\"color: #808000; text-decoration-color: #808000; font-weight: bold\">_helpers.py</span>:<span style=\"color: #0000ff; text-decoration-color: #0000ff\">34</span> in <span style=\"color: #00ff00; text-decoration-color: #00ff00\">build_typed_response</span>                         <span style=\"color: #800000; text-decoration-color: #800000\">│</span>\n",
              "<span style=\"color: #800000; text-decoration-color: #800000\">│</span>                                                                                                  <span style=\"color: #800000; text-decoration-color: #800000\">│</span>\n",
              "<span style=\"color: #800000; text-decoration-color: #800000\">│</span>   <span style=\"color: #7f7f7f; text-decoration-color: #7f7f7f\">31 </span><span style=\"color: #0000ff; text-decoration-color: #0000ff\">def</span> <span style=\"color: #00ff00; text-decoration-color: #00ff00\">build_typed_response</span>(                                                                   <span style=\"color: #800000; text-decoration-color: #800000\">│</span>\n",
              "<span style=\"color: #800000; text-decoration-color: #800000\">│</span>   <span style=\"color: #7f7f7f; text-decoration-color: #7f7f7f\">32 </span><span style=\"color: #7f7f7f; text-decoration-color: #7f7f7f\">│   </span>response: httpx.Response, response_type_class: Optional[Type[ResponseType]] = <span style=\"color: #0000ff; text-decoration-color: #0000ff\">None</span>      <span style=\"color: #800000; text-decoration-color: #800000\">│</span>\n",
              "<span style=\"color: #800000; text-decoration-color: #800000\">│</span>   <span style=\"color: #7f7f7f; text-decoration-color: #7f7f7f\">33 </span>) -&gt; Response[Union[ResponseType, ErrorMessage, HTTPValidationError]]:                      <span style=\"color: #800000; text-decoration-color: #800000\">│</span>\n",
              "<span style=\"color: #800000; text-decoration-color: #800000\">│</span> <span style=\"color: #800000; text-decoration-color: #800000\">❱ </span>34 <span style=\"color: #7f7f7f; text-decoration-color: #7f7f7f\">│   </span>parsed_response = check_response(response, expected_response=response_type_class)       <span style=\"color: #800000; text-decoration-color: #800000\">│</span>\n",
              "<span style=\"color: #800000; text-decoration-color: #800000\">│</span>   <span style=\"color: #7f7f7f; text-decoration-color: #7f7f7f\">35 </span><span style=\"color: #7f7f7f; text-decoration-color: #7f7f7f\">│   </span><span style=\"color: #0000ff; text-decoration-color: #0000ff\">if</span> response_type_class:                                                                 <span style=\"color: #800000; text-decoration-color: #800000\">│</span>\n",
              "<span style=\"color: #800000; text-decoration-color: #800000\">│</span>   <span style=\"color: #7f7f7f; text-decoration-color: #7f7f7f\">36 </span><span style=\"color: #7f7f7f; text-decoration-color: #7f7f7f\">│   │   </span>parsed_response = response_type_class(**parsed_response)                            <span style=\"color: #800000; text-decoration-color: #800000\">│</span>\n",
              "<span style=\"color: #800000; text-decoration-color: #800000\">│</span>   <span style=\"color: #7f7f7f; text-decoration-color: #7f7f7f\">37 </span><span style=\"color: #7f7f7f; text-decoration-color: #7f7f7f\">│   </span><span style=\"color: #0000ff; text-decoration-color: #0000ff\">return</span> Response(                                                                        <span style=\"color: #800000; text-decoration-color: #800000\">│</span>\n",
              "<span style=\"color: #800000; text-decoration-color: #800000\">│</span>                                                                                                  <span style=\"color: #800000; text-decoration-color: #800000\">│</span>\n",
              "<span style=\"color: #800000; text-decoration-color: #800000\">│</span> <span style=\"color: #bfbf7f; text-decoration-color: #bfbf7f\">/Users/davidberenstein/Documents/programming/argilla/awesome-argilla-datasets/.env/lib/python3.9</span> <span style=\"color: #800000; text-decoration-color: #800000\">│</span>\n",
              "<span style=\"color: #800000; text-decoration-color: #800000\">│</span> <span style=\"color: #bfbf7f; text-decoration-color: #bfbf7f\">/site-packages/argilla/client/sdk/</span><span style=\"color: #808000; text-decoration-color: #808000; font-weight: bold\">_helpers.py</span>:<span style=\"color: #0000ff; text-decoration-color: #0000ff\">63</span> in <span style=\"color: #00ff00; text-decoration-color: #00ff00\">check_response</span>                               <span style=\"color: #800000; text-decoration-color: #800000\">│</span>\n",
              "<span style=\"color: #800000; text-decoration-color: #800000\">│</span>                                                                                                  <span style=\"color: #800000; text-decoration-color: #800000\">│</span>\n",
              "<span style=\"color: #800000; text-decoration-color: #800000\">│</span>   <span style=\"color: #7f7f7f; text-decoration-color: #7f7f7f\">60 </span><span style=\"color: #7f7f7f; text-decoration-color: #7f7f7f\">│   │   │   </span>message=message,                                                                <span style=\"color: #800000; text-decoration-color: #800000\">│</span>\n",
              "<span style=\"color: #800000; text-decoration-color: #800000\">│</span>   <span style=\"color: #7f7f7f; text-decoration-color: #7f7f7f\">61 </span><span style=\"color: #7f7f7f; text-decoration-color: #7f7f7f\">│   │   │   </span>response=response.content,                                                      <span style=\"color: #800000; text-decoration-color: #800000\">│</span>\n",
              "<span style=\"color: #800000; text-decoration-color: #800000\">│</span>   <span style=\"color: #7f7f7f; text-decoration-color: #7f7f7f\">62 </span><span style=\"color: #7f7f7f; text-decoration-color: #7f7f7f\">│   │   </span>)                                                                                   <span style=\"color: #800000; text-decoration-color: #800000\">│</span>\n",
              "<span style=\"color: #800000; text-decoration-color: #800000\">│</span> <span style=\"color: #800000; text-decoration-color: #800000\">❱ </span>63 <span style=\"color: #7f7f7f; text-decoration-color: #7f7f7f\">│   </span>handle_response_error(response, **kwargs)                                               <span style=\"color: #800000; text-decoration-color: #800000\">│</span>\n",
              "<span style=\"color: #800000; text-decoration-color: #800000\">│</span>   <span style=\"color: #7f7f7f; text-decoration-color: #7f7f7f\">64 </span>                                                                                            <span style=\"color: #800000; text-decoration-color: #800000\">│</span>\n",
              "<span style=\"color: #800000; text-decoration-color: #800000\">│</span>                                                                                                  <span style=\"color: #800000; text-decoration-color: #800000\">│</span>\n",
              "<span style=\"color: #800000; text-decoration-color: #800000\">│</span> <span style=\"color: #bfbf7f; text-decoration-color: #bfbf7f\">/Users/davidberenstein/Documents/programming/argilla/awesome-argilla-datasets/.env/lib/python3.9</span> <span style=\"color: #800000; text-decoration-color: #800000\">│</span>\n",
              "<span style=\"color: #800000; text-decoration-color: #800000\">│</span> <span style=\"color: #bfbf7f; text-decoration-color: #bfbf7f\">/site-packages/argilla/client/sdk/commons/</span><span style=\"color: #808000; text-decoration-color: #808000; font-weight: bold\">errors_handler.py</span>:<span style=\"color: #0000ff; text-decoration-color: #0000ff\">63</span> in <span style=\"color: #00ff00; text-decoration-color: #00ff00\">handle_response_error</span>          <span style=\"color: #800000; text-decoration-color: #800000\">│</span>\n",
              "<span style=\"color: #800000; text-decoration-color: #800000\">│</span>                                                                                                  <span style=\"color: #800000; text-decoration-color: #800000\">│</span>\n",
              "<span style=\"color: #800000; text-decoration-color: #800000\">│</span>   <span style=\"color: #7f7f7f; text-decoration-color: #7f7f7f\">60 </span><span style=\"color: #7f7f7f; text-decoration-color: #7f7f7f\">│   │   </span>error_type = GenericApiError                                                        <span style=\"color: #800000; text-decoration-color: #800000\">│</span>\n",
              "<span style=\"color: #800000; text-decoration-color: #800000\">│</span>   <span style=\"color: #7f7f7f; text-decoration-color: #7f7f7f\">61 </span><span style=\"color: #7f7f7f; text-decoration-color: #7f7f7f\">│   </span><span style=\"color: #0000ff; text-decoration-color: #0000ff\">else</span>:                                                                                   <span style=\"color: #800000; text-decoration-color: #800000\">│</span>\n",
              "<span style=\"color: #800000; text-decoration-color: #800000\">│</span>   <span style=\"color: #7f7f7f; text-decoration-color: #7f7f7f\">62 </span><span style=\"color: #7f7f7f; text-decoration-color: #7f7f7f\">│   │   </span><span style=\"color: #0000ff; text-decoration-color: #0000ff\">raise</span> HttpResponseError(response=response)                                          <span style=\"color: #800000; text-decoration-color: #800000\">│</span>\n",
              "<span style=\"color: #800000; text-decoration-color: #800000\">│</span> <span style=\"color: #800000; text-decoration-color: #800000\">❱ </span>63 <span style=\"color: #7f7f7f; text-decoration-color: #7f7f7f\">│   </span><span style=\"color: #0000ff; text-decoration-color: #0000ff\">raise</span> error_type(**error_args)                                                          <span style=\"color: #800000; text-decoration-color: #800000\">│</span>\n",
              "<span style=\"color: #800000; text-decoration-color: #800000\">│</span>   <span style=\"color: #7f7f7f; text-decoration-color: #7f7f7f\">64 </span>                                                                                            <span style=\"color: #800000; text-decoration-color: #800000\">│</span>\n",
              "<span style=\"color: #800000; text-decoration-color: #800000\">╰──────────────────────────────────────────────────────────────────────────────────────────────────╯</span>\n",
              "<span style=\"color: #ff0000; text-decoration-color: #ff0000; font-weight: bold\">GenericApiError: </span>Argilla server returned an error with http status: <span style=\"color: #008080; text-decoration-color: #008080; font-weight: bold\">500</span>. Error details: <span style=\"font-weight: bold\">{</span><span style=\"color: #008000; text-decoration-color: #008000\">'code'</span>: \n",
              "<span style=\"color: #008000; text-decoration-color: #008000\">'argilla.api.errors::GenericServerError'</span>, <span style=\"color: #008000; text-decoration-color: #008000\">'params'</span>: <span style=\"font-weight: bold\">{</span><span style=\"color: #008000; text-decoration-color: #008000\">'type'</span>: <span style=\"color: #008000; text-decoration-color: #008000\">'socket.gaierror'</span>, <span style=\"color: #008000; text-decoration-color: #008000\">'message'</span>: <span style=\"color: #008000; text-decoration-color: #008000\">'[Errno -2] Name or </span>\n",
              "<span style=\"color: #008000; text-decoration-color: #008000\">service not known'</span><span style=\"font-weight: bold\">}}</span>\n",
              "</pre>\n"
            ],
            "text/plain": [
              "\u001b[31m╭─\u001b[0m\u001b[31m──────────────────────────────\u001b[0m\u001b[31m \u001b[0m\u001b[1;31mTraceback \u001b[0m\u001b[1;2;31m(most recent call last)\u001b[0m\u001b[31m \u001b[0m\u001b[31m───────────────────────────────\u001b[0m\u001b[31m─╮\u001b[0m\n",
              "\u001b[31m│\u001b[0m in \u001b[92m<module>\u001b[0m:\u001b[94m1\u001b[0m                                                                                    \u001b[31m│\u001b[0m\n",
              "\u001b[31m│\u001b[0m                                                                                                  \u001b[31m│\u001b[0m\n",
              "\u001b[31m│\u001b[0m \u001b[31m❱ \u001b[0m1 rg.init(api_url=os.environ.get(\u001b[33m\"\u001b[0m\u001b[33mARGILLA_API_URL_PRE\u001b[0m\u001b[33m\"\u001b[0m), api_key=os.environ.get(\u001b[33m\"\u001b[0m\u001b[33mARGILLA_A\u001b[0m     \u001b[31m│\u001b[0m\n",
              "\u001b[31m│\u001b[0m   \u001b[2m2 \u001b[0mrg.set_workspace(\u001b[33m\"\u001b[0m\u001b[33mawesome-argilla-datasets\u001b[0m\u001b[33m\"\u001b[0m)                                                 \u001b[31m│\u001b[0m\n",
              "\u001b[31m│\u001b[0m   \u001b[2m3 \u001b[0m                                                                                             \u001b[31m│\u001b[0m\n",
              "\u001b[31m│\u001b[0m                                                                                                  \u001b[31m│\u001b[0m\n",
              "\u001b[31m│\u001b[0m \u001b[2;33m/Users/davidberenstein/Documents/programming/argilla/awesome-argilla-datasets/.env/lib/python3.9\u001b[0m \u001b[31m│\u001b[0m\n",
              "\u001b[31m│\u001b[0m \u001b[2;33m/site-packages/argilla/client/\u001b[0m\u001b[1;33mapi.py\u001b[0m:\u001b[94m103\u001b[0m in \u001b[92minit\u001b[0m                                                 \u001b[31m│\u001b[0m\n",
              "\u001b[31m│\u001b[0m                                                                                                  \u001b[31m│\u001b[0m\n",
              "\u001b[31m│\u001b[0m   \u001b[2m100 \u001b[0m\u001b[2;33m│   │   \u001b[0m\u001b[33m>>> headers = {\"X-Client-id\":\"id\",\"X-Secret\":\"secret\"}\u001b[0m                             \u001b[31m│\u001b[0m\n",
              "\u001b[31m│\u001b[0m   \u001b[2m101 \u001b[0m\u001b[2;33m│   │   \u001b[0m\u001b[33m>>> rg.init(api_url=\"http://localhost:9090\", api_key=\"4AkeAPIk3Y\", extra_headers\u001b[0m   \u001b[31m│\u001b[0m\n",
              "\u001b[31m│\u001b[0m   \u001b[2m102 \u001b[0m\u001b[2;33m│   \u001b[0m\u001b[33m\"\"\"\u001b[0m                                                                                    \u001b[31m│\u001b[0m\n",
              "\u001b[31m│\u001b[0m \u001b[31m❱ \u001b[0m103 \u001b[2m│   \u001b[0mArgillaSingleton.init(                                                                 \u001b[31m│\u001b[0m\n",
              "\u001b[31m│\u001b[0m   \u001b[2m104 \u001b[0m\u001b[2m│   │   \u001b[0mapi_url=api_url,                                                                   \u001b[31m│\u001b[0m\n",
              "\u001b[31m│\u001b[0m   \u001b[2m105 \u001b[0m\u001b[2m│   │   \u001b[0mapi_key=api_key,                                                                   \u001b[31m│\u001b[0m\n",
              "\u001b[31m│\u001b[0m   \u001b[2m106 \u001b[0m\u001b[2m│   │   \u001b[0mworkspace=workspace,                                                               \u001b[31m│\u001b[0m\n",
              "\u001b[31m│\u001b[0m                                                                                                  \u001b[31m│\u001b[0m\n",
              "\u001b[31m│\u001b[0m \u001b[2;33m/Users/davidberenstein/Documents/programming/argilla/awesome-argilla-datasets/.env/lib/python3.9\u001b[0m \u001b[31m│\u001b[0m\n",
              "\u001b[31m│\u001b[0m \u001b[2;33m/site-packages/argilla/client/\u001b[0m\u001b[1;33mapi.py\u001b[0m:\u001b[94m59\u001b[0m in \u001b[92minit\u001b[0m                                                  \u001b[31m│\u001b[0m\n",
              "\u001b[31m│\u001b[0m                                                                                                  \u001b[31m│\u001b[0m\n",
              "\u001b[31m│\u001b[0m   \u001b[2m 56 \u001b[0m\u001b[2m│   \u001b[0m) -> Argilla:                                                                          \u001b[31m│\u001b[0m\n",
              "\u001b[31m│\u001b[0m   \u001b[2m 57 \u001b[0m\u001b[2m│   │   \u001b[0m\u001b[96mcls\u001b[0m._INSTANCE = \u001b[94mNone\u001b[0m                                                               \u001b[31m│\u001b[0m\n",
              "\u001b[31m│\u001b[0m   \u001b[2m 58 \u001b[0m\u001b[2m│   │   \u001b[0m                                                                                   \u001b[31m│\u001b[0m\n",
              "\u001b[31m│\u001b[0m \u001b[31m❱ \u001b[0m 59 \u001b[2m│   │   \u001b[0m\u001b[96mcls\u001b[0m._INSTANCE = Argilla(                                                           \u001b[31m│\u001b[0m\n",
              "\u001b[31m│\u001b[0m   \u001b[2m 60 \u001b[0m\u001b[2m│   │   │   \u001b[0mapi_url=api_url,                                                               \u001b[31m│\u001b[0m\n",
              "\u001b[31m│\u001b[0m   \u001b[2m 61 \u001b[0m\u001b[2m│   │   │   \u001b[0mapi_key=api_key,                                                               \u001b[31m│\u001b[0m\n",
              "\u001b[31m│\u001b[0m   \u001b[2m 62 \u001b[0m\u001b[2m│   │   │   \u001b[0mtimeout=timeout,                                                               \u001b[31m│\u001b[0m\n",
              "\u001b[31m│\u001b[0m                                                                                                  \u001b[31m│\u001b[0m\n",
              "\u001b[31m│\u001b[0m \u001b[2;33m/Users/davidberenstein/Documents/programming/argilla/awesome-argilla-datasets/.env/lib/python3.9\u001b[0m \u001b[31m│\u001b[0m\n",
              "\u001b[31m│\u001b[0m \u001b[2;33m/site-packages/argilla/client/\u001b[0m\u001b[1;33mclient.py\u001b[0m:\u001b[94m151\u001b[0m in \u001b[92m__init__\u001b[0m                                          \u001b[31m│\u001b[0m\n",
              "\u001b[31m│\u001b[0m                                                                                                  \u001b[31m│\u001b[0m\n",
              "\u001b[31m│\u001b[0m   \u001b[2m148 \u001b[0m\u001b[2m│   │   │   \u001b[0mheaders=headers.copy(),                                                        \u001b[31m│\u001b[0m\n",
              "\u001b[31m│\u001b[0m   \u001b[2m149 \u001b[0m\u001b[2m│   │   \u001b[0m)                                                                                  \u001b[31m│\u001b[0m\n",
              "\u001b[31m│\u001b[0m   \u001b[2m150 \u001b[0m\u001b[2m│   │   \u001b[0m                                                                                   \u001b[31m│\u001b[0m\n",
              "\u001b[31m│\u001b[0m \u001b[31m❱ \u001b[0m151 \u001b[2m│   │   \u001b[0m\u001b[96mself\u001b[0m._user = users_api.whoami(client=\u001b[96mself\u001b[0m.http_client)  \u001b[2m# .parsed\u001b[0m                  \u001b[31m│\u001b[0m\n",
              "\u001b[31m│\u001b[0m   \u001b[2m152 \u001b[0m\u001b[2m│   │   \u001b[0m                                                                                   \u001b[31m│\u001b[0m\n",
              "\u001b[31m│\u001b[0m   \u001b[2m153 \u001b[0m\u001b[2m│   │   \u001b[0m\u001b[94mif\u001b[0m \u001b[95mnot\u001b[0m workspace \u001b[95mand\u001b[0m \u001b[96mself\u001b[0m._user.username == DEFAULT_USERNAME \u001b[95mand\u001b[0m DEFAULT_USERNAM   \u001b[31m│\u001b[0m\n",
              "\u001b[31m│\u001b[0m   \u001b[2m154 \u001b[0m\u001b[2m│   │   │   \u001b[0mwarnings.warn(                                                                 \u001b[31m│\u001b[0m\n",
              "\u001b[31m│\u001b[0m                                                                                                  \u001b[31m│\u001b[0m\n",
              "\u001b[31m│\u001b[0m \u001b[2;33m/Users/davidberenstein/Documents/programming/argilla/awesome-argilla-datasets/.env/lib/python3.9\u001b[0m \u001b[31m│\u001b[0m\n",
              "\u001b[31m│\u001b[0m \u001b[2;33m/site-packages/argilla/client/sdk/users/\u001b[0m\u001b[1;33mapi.py\u001b[0m:\u001b[94m39\u001b[0m in \u001b[92mwhoami\u001b[0m                                      \u001b[31m│\u001b[0m\n",
              "\u001b[31m│\u001b[0m                                                                                                  \u001b[31m│\u001b[0m\n",
              "\u001b[31m│\u001b[0m   \u001b[2m 36 \u001b[0m\u001b[2;33m│   \u001b[0m\u001b[33m\"\"\"\u001b[0m                                                                                    \u001b[31m│\u001b[0m\n",
              "\u001b[31m│\u001b[0m   \u001b[2m 37 \u001b[0m\u001b[2m│   \u001b[0murl = \u001b[33m\"\u001b[0m\u001b[33m/api/me\u001b[0m\u001b[33m\"\u001b[0m                                                                        \u001b[31m│\u001b[0m\n",
              "\u001b[31m│\u001b[0m   \u001b[2m 38 \u001b[0m\u001b[2m│   \u001b[0m                                                                                       \u001b[31m│\u001b[0m\n",
              "\u001b[31m│\u001b[0m \u001b[31m❱ \u001b[0m 39 \u001b[2m│   \u001b[0mresponse = client.get(url)                                                             \u001b[31m│\u001b[0m\n",
              "\u001b[31m│\u001b[0m   \u001b[2m 40 \u001b[0m\u001b[2m│   \u001b[0m\u001b[94mreturn\u001b[0m UserModel(**response)                                                           \u001b[31m│\u001b[0m\n",
              "\u001b[31m│\u001b[0m   \u001b[2m 41 \u001b[0m                                                                                           \u001b[31m│\u001b[0m\n",
              "\u001b[31m│\u001b[0m   \u001b[2m 42 \u001b[0m                                                                                           \u001b[31m│\u001b[0m\n",
              "\u001b[31m│\u001b[0m                                                                                                  \u001b[31m│\u001b[0m\n",
              "\u001b[31m│\u001b[0m \u001b[2;33m/Users/davidberenstein/Documents/programming/argilla/awesome-argilla-datasets/.env/lib/python3.9\u001b[0m \u001b[31m│\u001b[0m\n",
              "\u001b[31m│\u001b[0m \u001b[2;33m/site-packages/argilla/client/sdk/\u001b[0m\u001b[1;33mclient.py\u001b[0m:\u001b[94m125\u001b[0m in \u001b[92minner\u001b[0m                                         \u001b[31m│\u001b[0m\n",
              "\u001b[31m│\u001b[0m                                                                                                  \u001b[31m│\u001b[0m\n",
              "\u001b[31m│\u001b[0m   \u001b[2m122 \u001b[0m\u001b[2m│   │   \u001b[0m\u001b[1;95m@functools\u001b[0m.wraps(func)                                                             \u001b[31m│\u001b[0m\n",
              "\u001b[31m│\u001b[0m   \u001b[2m123 \u001b[0m\u001b[2m│   │   \u001b[0m\u001b[94mdef\u001b[0m \u001b[92minner\u001b[0m(\u001b[96mself\u001b[0m, *args, **kwargs):                                                  \u001b[31m│\u001b[0m\n",
              "\u001b[31m│\u001b[0m   \u001b[2m124 \u001b[0m\u001b[2m│   │   │   \u001b[0m\u001b[94mtry\u001b[0m:                                                                           \u001b[31m│\u001b[0m\n",
              "\u001b[31m│\u001b[0m \u001b[31m❱ \u001b[0m125 \u001b[2m│   │   │   │   \u001b[0mresult = func(\u001b[96mself\u001b[0m, *args, **kwargs)                                       \u001b[31m│\u001b[0m\n",
              "\u001b[31m│\u001b[0m   \u001b[2m126 \u001b[0m\u001b[2m│   │   │   │   \u001b[0m\u001b[94mreturn\u001b[0m result                                                              \u001b[31m│\u001b[0m\n",
              "\u001b[31m│\u001b[0m   \u001b[2m127 \u001b[0m\u001b[2m│   │   │   \u001b[0m\u001b[94mexcept\u001b[0m httpx.ConnectError \u001b[94mas\u001b[0m err:  \u001b[2m# noqa: F841\u001b[0m                                \u001b[31m│\u001b[0m\n",
              "\u001b[31m│\u001b[0m   \u001b[2m128 \u001b[0m\u001b[2m│   │   │   │   \u001b[0m\u001b[94mreturn\u001b[0m wrap_error(\u001b[96mself\u001b[0m.base_url)                                           \u001b[31m│\u001b[0m\n",
              "\u001b[31m│\u001b[0m                                                                                                  \u001b[31m│\u001b[0m\n",
              "\u001b[31m│\u001b[0m \u001b[2;33m/Users/davidberenstein/Documents/programming/argilla/awesome-argilla-datasets/.env/lib/python3.9\u001b[0m \u001b[31m│\u001b[0m\n",
              "\u001b[31m│\u001b[0m \u001b[2;33m/site-packages/argilla/client/sdk/\u001b[0m\u001b[1;33mclient.py\u001b[0m:\u001b[94m141\u001b[0m in \u001b[92mget\u001b[0m                                           \u001b[31m│\u001b[0m\n",
              "\u001b[31m│\u001b[0m                                                                                                  \u001b[31m│\u001b[0m\n",
              "\u001b[31m│\u001b[0m   \u001b[2m138 \u001b[0m\u001b[2m│   │   │   \u001b[0m*args,                                                                         \u001b[31m│\u001b[0m\n",
              "\u001b[31m│\u001b[0m   \u001b[2m139 \u001b[0m\u001b[2m│   │   │   \u001b[0m**kwargs,                                                                      \u001b[31m│\u001b[0m\n",
              "\u001b[31m│\u001b[0m   \u001b[2m140 \u001b[0m\u001b[2m│   │   \u001b[0m)                                                                                  \u001b[31m│\u001b[0m\n",
              "\u001b[31m│\u001b[0m \u001b[31m❱ \u001b[0m141 \u001b[2m│   │   \u001b[0m\u001b[94mreturn\u001b[0m build_raw_response(response).parsed                                         \u001b[31m│\u001b[0m\n",
              "\u001b[31m│\u001b[0m   \u001b[2m142 \u001b[0m\u001b[2m│   \u001b[0m                                                                                       \u001b[31m│\u001b[0m\n",
              "\u001b[31m│\u001b[0m   \u001b[2m143 \u001b[0m\u001b[2m│   \u001b[0m\u001b[1;95m@with_httpx_error_handler\u001b[0m                                                              \u001b[31m│\u001b[0m\n",
              "\u001b[31m│\u001b[0m   \u001b[2m144 \u001b[0m\u001b[2m│   \u001b[0m\u001b[94mdef\u001b[0m \u001b[92mpatch\u001b[0m(\u001b[96mself\u001b[0m, path: \u001b[96mstr\u001b[0m, *args, **kwargs):                                           \u001b[31m│\u001b[0m\n",
              "\u001b[31m│\u001b[0m                                                                                                  \u001b[31m│\u001b[0m\n",
              "\u001b[31m│\u001b[0m \u001b[2;33m/Users/davidberenstein/Documents/programming/argilla/awesome-argilla-datasets/.env/lib/python3.9\u001b[0m \u001b[31m│\u001b[0m\n",
              "\u001b[31m│\u001b[0m \u001b[2;33m/site-packages/argilla/client/sdk/\u001b[0m\u001b[1;33m_helpers.py\u001b[0m:\u001b[94m25\u001b[0m in \u001b[92mbuild_raw_response\u001b[0m                           \u001b[31m│\u001b[0m\n",
              "\u001b[31m│\u001b[0m                                                                                                  \u001b[31m│\u001b[0m\n",
              "\u001b[31m│\u001b[0m   \u001b[2m22 \u001b[0m                                                                                            \u001b[31m│\u001b[0m\n",
              "\u001b[31m│\u001b[0m   \u001b[2m23 \u001b[0m                                                                                            \u001b[31m│\u001b[0m\n",
              "\u001b[31m│\u001b[0m   \u001b[2m24 \u001b[0m\u001b[94mdef\u001b[0m \u001b[92mbuild_raw_response\u001b[0m(response: httpx.Response) -> Response[Union[Dict[\u001b[96mstr\u001b[0m, Any], Error    \u001b[31m│\u001b[0m\n",
              "\u001b[31m│\u001b[0m \u001b[31m❱ \u001b[0m25 \u001b[2m│   \u001b[0m\u001b[94mreturn\u001b[0m build_typed_response(response)                                                   \u001b[31m│\u001b[0m\n",
              "\u001b[31m│\u001b[0m   \u001b[2m26 \u001b[0m                                                                                            \u001b[31m│\u001b[0m\n",
              "\u001b[31m│\u001b[0m   \u001b[2m27 \u001b[0m                                                                                            \u001b[31m│\u001b[0m\n",
              "\u001b[31m│\u001b[0m   \u001b[2m28 \u001b[0mResponseType = TypeVar(\u001b[33m\"\u001b[0m\u001b[33mResponseType\u001b[0m\u001b[33m\"\u001b[0m)                                                      \u001b[31m│\u001b[0m\n",
              "\u001b[31m│\u001b[0m                                                                                                  \u001b[31m│\u001b[0m\n",
              "\u001b[31m│\u001b[0m \u001b[2;33m/Users/davidberenstein/Documents/programming/argilla/awesome-argilla-datasets/.env/lib/python3.9\u001b[0m \u001b[31m│\u001b[0m\n",
              "\u001b[31m│\u001b[0m \u001b[2;33m/site-packages/argilla/client/sdk/\u001b[0m\u001b[1;33m_helpers.py\u001b[0m:\u001b[94m34\u001b[0m in \u001b[92mbuild_typed_response\u001b[0m                         \u001b[31m│\u001b[0m\n",
              "\u001b[31m│\u001b[0m                                                                                                  \u001b[31m│\u001b[0m\n",
              "\u001b[31m│\u001b[0m   \u001b[2m31 \u001b[0m\u001b[94mdef\u001b[0m \u001b[92mbuild_typed_response\u001b[0m(                                                                   \u001b[31m│\u001b[0m\n",
              "\u001b[31m│\u001b[0m   \u001b[2m32 \u001b[0m\u001b[2m│   \u001b[0mresponse: httpx.Response, response_type_class: Optional[Type[ResponseType]] = \u001b[94mNone\u001b[0m      \u001b[31m│\u001b[0m\n",
              "\u001b[31m│\u001b[0m   \u001b[2m33 \u001b[0m) -> Response[Union[ResponseType, ErrorMessage, HTTPValidationError]]:                      \u001b[31m│\u001b[0m\n",
              "\u001b[31m│\u001b[0m \u001b[31m❱ \u001b[0m34 \u001b[2m│   \u001b[0mparsed_response = check_response(response, expected_response=response_type_class)       \u001b[31m│\u001b[0m\n",
              "\u001b[31m│\u001b[0m   \u001b[2m35 \u001b[0m\u001b[2m│   \u001b[0m\u001b[94mif\u001b[0m response_type_class:                                                                 \u001b[31m│\u001b[0m\n",
              "\u001b[31m│\u001b[0m   \u001b[2m36 \u001b[0m\u001b[2m│   │   \u001b[0mparsed_response = response_type_class(**parsed_response)                            \u001b[31m│\u001b[0m\n",
              "\u001b[31m│\u001b[0m   \u001b[2m37 \u001b[0m\u001b[2m│   \u001b[0m\u001b[94mreturn\u001b[0m Response(                                                                        \u001b[31m│\u001b[0m\n",
              "\u001b[31m│\u001b[0m                                                                                                  \u001b[31m│\u001b[0m\n",
              "\u001b[31m│\u001b[0m \u001b[2;33m/Users/davidberenstein/Documents/programming/argilla/awesome-argilla-datasets/.env/lib/python3.9\u001b[0m \u001b[31m│\u001b[0m\n",
              "\u001b[31m│\u001b[0m \u001b[2;33m/site-packages/argilla/client/sdk/\u001b[0m\u001b[1;33m_helpers.py\u001b[0m:\u001b[94m63\u001b[0m in \u001b[92mcheck_response\u001b[0m                               \u001b[31m│\u001b[0m\n",
              "\u001b[31m│\u001b[0m                                                                                                  \u001b[31m│\u001b[0m\n",
              "\u001b[31m│\u001b[0m   \u001b[2m60 \u001b[0m\u001b[2m│   │   │   \u001b[0mmessage=message,                                                                \u001b[31m│\u001b[0m\n",
              "\u001b[31m│\u001b[0m   \u001b[2m61 \u001b[0m\u001b[2m│   │   │   \u001b[0mresponse=response.content,                                                      \u001b[31m│\u001b[0m\n",
              "\u001b[31m│\u001b[0m   \u001b[2m62 \u001b[0m\u001b[2m│   │   \u001b[0m)                                                                                   \u001b[31m│\u001b[0m\n",
              "\u001b[31m│\u001b[0m \u001b[31m❱ \u001b[0m63 \u001b[2m│   \u001b[0mhandle_response_error(response, **kwargs)                                               \u001b[31m│\u001b[0m\n",
              "\u001b[31m│\u001b[0m   \u001b[2m64 \u001b[0m                                                                                            \u001b[31m│\u001b[0m\n",
              "\u001b[31m│\u001b[0m                                                                                                  \u001b[31m│\u001b[0m\n",
              "\u001b[31m│\u001b[0m \u001b[2;33m/Users/davidberenstein/Documents/programming/argilla/awesome-argilla-datasets/.env/lib/python3.9\u001b[0m \u001b[31m│\u001b[0m\n",
              "\u001b[31m│\u001b[0m \u001b[2;33m/site-packages/argilla/client/sdk/commons/\u001b[0m\u001b[1;33merrors_handler.py\u001b[0m:\u001b[94m63\u001b[0m in \u001b[92mhandle_response_error\u001b[0m          \u001b[31m│\u001b[0m\n",
              "\u001b[31m│\u001b[0m                                                                                                  \u001b[31m│\u001b[0m\n",
              "\u001b[31m│\u001b[0m   \u001b[2m60 \u001b[0m\u001b[2m│   │   \u001b[0merror_type = GenericApiError                                                        \u001b[31m│\u001b[0m\n",
              "\u001b[31m│\u001b[0m   \u001b[2m61 \u001b[0m\u001b[2m│   \u001b[0m\u001b[94melse\u001b[0m:                                                                                   \u001b[31m│\u001b[0m\n",
              "\u001b[31m│\u001b[0m   \u001b[2m62 \u001b[0m\u001b[2m│   │   \u001b[0m\u001b[94mraise\u001b[0m HttpResponseError(response=response)                                          \u001b[31m│\u001b[0m\n",
              "\u001b[31m│\u001b[0m \u001b[31m❱ \u001b[0m63 \u001b[2m│   \u001b[0m\u001b[94mraise\u001b[0m error_type(**error_args)                                                          \u001b[31m│\u001b[0m\n",
              "\u001b[31m│\u001b[0m   \u001b[2m64 \u001b[0m                                                                                            \u001b[31m│\u001b[0m\n",
              "\u001b[31m╰──────────────────────────────────────────────────────────────────────────────────────────────────╯\u001b[0m\n",
              "\u001b[1;91mGenericApiError: \u001b[0mArgilla server returned an error with http status: \u001b[1;36m500\u001b[0m. Error details: \u001b[1m{\u001b[0m\u001b[32m'code'\u001b[0m: \n",
              "\u001b[32m'argilla.api.errors::GenericServerError'\u001b[0m, \u001b[32m'params'\u001b[0m: \u001b[1m{\u001b[0m\u001b[32m'type'\u001b[0m: \u001b[32m'socket.gaierror'\u001b[0m, \u001b[32m'message'\u001b[0m: \u001b[32m'\u001b[0m\u001b[32m[\u001b[0m\u001b[32mErrno -2\u001b[0m\u001b[32m]\u001b[0m\u001b[32m Name or \u001b[0m\n",
              "\u001b[32mservice not known'\u001b[0m\u001b[1m}\u001b[0m\u001b[1m}\u001b[0m\n"
            ]
          },
          "metadata": {},
          "output_type": "display_data"
        }
      ],
      "source": [
        "rg.init(api_url=os.environ.get(\"ARGILLA_API_URL_PRE\"), api_key=os.environ.get(\"ARGILLA_API_KEY_PRE\"))\n",
        "rg.set_workspace(\"awesome-argilla-datasets\")"
      ]
    },
    {
      "cell_type": "markdown",
      "metadata": {
        "id": "RpkYEwr5dD6w"
      },
      "source": [
        "## Pre-processing\n",
        "\n",
        "End-to-end workflow to create a dataset in Argilla with text measurements as metadata.\n",
        "This aids in quickly identifying and improving potential dataset issues."
      ]
    },
    {
      "cell_type": "markdown",
      "metadata": {},
      "source": [
        "### Dataset creation\n",
        "\n",
        "At first, we need to create a dataset in Argilla. This can either be done by loading a previous created dataset or by creating a new one. In order to avoid duplication, we will check if the dataset already exists. Additionally, we will load the markdown file that contains the dataset guidelines.\n"
      ]
    },
    {
      "cell_type": "code",
      "execution_count": 4,
      "metadata": {},
      "outputs": [
        {
          "data": {
            "text/plain": [
              "\"# Guidelines\\n\\nThe ShareGPT dataset is a dataset that was collected by public users who were using the Google Chrome extension offered by [sharegpt.com](sharegpt.com) to share their ChatGPT conversations. This data should mimic real-life usage of the model and can therefore be used to fine-tune a model for an actual scenario. Additionally, Google was accused of using this dataset as a baseline to train its [BARD](https://www.theverge.com/2023/3/29/23662621/google-bard-chatgpt-sharegpt-training-denies) model.\\n\\nWe decided to use a random subset of the raw version of the dataset including all conversations but we did filter out non-English conversation. The raw dataset used can be found on [the Hugging Face hub](https://huggingface.co/datasets/zetavg/ShareGPT-Processed).\\n\\n## Classification Tasks\\n\\nThe dataset aims to classify three things:\\n\\n1. Quality\\n2. Intent\\n3. Toxicity\\n\\n### Quality\\n\\nFor the quality, we have decided to define a rating question on a scale from 1 to 7. This question is used to assess the quality of the prompt, based on quality, grammar and clarity of context.\\n\\n### Intent\\n\\nFor the intent, we have decided to define a multi-label classification question which will be used to determine the prompt types as defined in the [Llama 2 paper](https://arxiv.org/abs/2307.09288). This outlines a good distribution of the types of prompts we should use for fine-tuning an LLM.\\n\\n- Generation: A statement that indicates the need for open generation.\\n- Rewrite: A statement that is rewritten by the model.\\n- Extract: A question that is answered by extracted from the context in the prompt.\\n- Closed QA: A question that is answered by the model based on the context.\\n- Open QA: A question that is answered by the model without any context.\\n- Classification: A statement that is classified by the model.\\n- Summarization: A summary of the context.\\n- Brainstorming: A list of ideas or concepts.\\n- Chat: A chat between two people.\\n- Code: A statement about code or programming.\\n- Other: A prompt that does not fit into any of the above categories.\\n\\n### Toxicity\\n\\nFor the Toxicity, we decided to use the [Guardrailing Mistral](https://docs.mistral.ai/usage/guardrailing) proposal as a reference. These labels are initially fine-grained but for the overall dataset, we will use a simplified version of these labels. As proposed by the Mistral team.\\n\\n- Illegal: Illegal activity.\\n- Child abuse: child sexual abuse material or any content that exploits or harms children.\\n- Hate violence harassment: Generation of hateful, harassing, or violent content: content that expresses, incites, or promotes hate based on identity, content that intends to harass, threaten, or bully an individual, content that promotes or glorifies violence or celebrates the suffering or humiliation of others.\\n- Malware: Generation of malware: content that attempts to generate code that is designed to disrupt, damage, or gain unauthorized access to a computer system.\\n- Physical harm: activity that has high risk of physical harm, including: weapons development, military and warfare, management or operation of critical infrastructure in energy, transportation, and water, content that promotes, encourages, or depicts acts of self-harm, such as suicide, cutting, and eating disorders.\\n- Economic harm: activity that has high risk of economic harm, including: multi-level marketing, gambling, payday lending, automated determinations of eligibility for credit, employment, educational institutions, or public assistance services.\\n- Fraud: Fraudulent or deceptive activity, including: scams, coordinated inauthentic behavior, plagiarism, academic dishonesty, astroturfing, such as fake grassroots support or fake review generation, disinformation, spam, pseudo-pharmaceuticals.\\n- Adult: Adult content, adult industries, and dating apps, including: content meant to arouse sexual excitement, such as the description of sexual activity, or that promotes sexual services (excluding sex education and wellness), erotic chat, pornography.\\n- Political: Political campaigning or lobbying, by: generating high volumes of campaign materials, generating campaign materials personalized to or targeted at specific demographics, building conversational or interactive systems such as chatbots that provide information about campaigns or engage in political advocacy or lobbying, building products for political campaigning or lobbying purposes.\\n- Privacy: Activity that violates people's privacy, including: tracking or monitoring an individual without their consent, facial recognition of private individuals, classifying individuals based on protected characteristics, using biometrics for identification or assessment, unlawful collection or disclosure of personal identifiable information or educational, financial, or other protected records.\\n- Unqualified law: Engaging in the unauthorized practice of law, or offering tailored legal advice without a qualified person reviewing the information.\\n- Unqualified financial: Offering tailored financial advice without a qualified person reviewing the information.\\n- Unqualified health: Telling someone that they have or do not have a certain health condition, or providing instructions on how to cure or treat a health condition.\\n\\nThese have been mapped to the following simplified labels:\\n\\n- Illegal: Illegal activities such as terrorism, child abuse or fraud.\\n- Harmful: Hateful, harassing or violent content such as discrimination, self-harm or bullying.\\n- Unqualified advice: Unqualified advice for instance in legal, medical or financial domains.\""
            ]
          },
          "execution_count": 4,
          "metadata": {},
          "output_type": "execute_result"
        }
      ],
      "source": [
        "with open(\"GUIDELINES.md\") as f:\n",
        "    guidelines = f.read()\n",
        "guidelines"
      ]
    },
    {
      "cell_type": "code",
      "execution_count": 6,
      "metadata": {},
      "outputs": [
        {
          "data": {
            "text/plain": [
              "RemoteFeedbackDataset(\n",
              "   id=c082ca28-49d1-4b25-a41d-6fc143dd1e63\n",
              "   name=sharegpt\n",
              "   workspace=Workspace(id=462547f7-0d83-416e-8771-26bc69b63c8b, name=awesome-argilla-datasets, inserted_at=2023-11-20 15:40:10.111780, updated_at=2023-11-20 15:40:10.111780)\n",
              "   url=https://pre.argilla.io/dataset/c082ca28-49d1-4b25-a41d-6fc143dd1e63/annotation-mode\n",
              "   fields=[RemoteTextField(id=UUID('c2574040-7bae-4c77-9b2b-1166b87a58be'), client=None, name='prompt', title='Prompt', required=True, type='text', use_markdown=True), RemoteTextField(id=UUID('8f0be964-bcf0-4095-88b1-eb9ee2720d6e'), client=None, name='response', title='Response', required=True, type='text', use_markdown=True)]\n",
              "   questions=[RemoteRatingQuestion(id=UUID('03d37870-69fa-4594-a1c7-c89eb972d0f6'), client=None, name='prompt-quality', title='Prompt Quality', description=None, required=True, type='rating', values=[1, 2, 3, 4, 5, 6, 7]), RemoteLabelQuestion(id=UUID('18f1e91c-a7d3-4d24-a9a9-922701e1f3b1'), client=None, name='prompt-intent', title='Prompt Intent', description=None, required=True, type='label_selection', labels=['generation', 'rewrite', 'extract', 'closed-qa', 'open-qa', 'classification', 'summarization', 'brainstorming', 'chat', 'code', 'other'], visible_labels=None), RemoteMultiLabelQuestion(id=UUID('ea0797ec-1ec8-4a8f-86b4-7c1d2306e69d'), client=None, name='response-toxicity', title='Response Toxicity', description=None, required=False, type='multi_label_selection', labels=['illegal', 'harmfull', 'unqualified advice'], visible_labels=None)]\n",
              "   guidelines=# Guidelines\n",
              "\n",
              "   The ShareGPT dataset is a dataset that was collected by public users who were using the Google Chrome extension offered by [sharegpt.com](sharegpt.com) to share their ChatGPT conversations. This data should mimic real-life usage of the model and can therefore be used to fine-tune a model for an actual scenario. Additionally, Google was accused of using this dataset as a baseline to train its [BARD](https://www.theverge.com/2023/3/29/23662621/google-bard-chatgpt-sharegpt-training-denies) model.\n",
              "\n",
              "   We decided to use a random subset of the raw version of the dataset including all conversations but we did filter out non-English conversation. The raw dataset used can be found on [the Hugging Face hub](https://huggingface.co/datasets/zetavg/ShareGPT-Processed).\n",
              "\n",
              "   ## Classification Tasks\n",
              "\n",
              "   The dataset aims to classify three things:\n",
              "\n",
              "   1. Quality\n",
              "   2. Intent\n",
              "   3. Toxicity\n",
              "\n",
              "   ### Quality\n",
              "\n",
              "   For the quality, we have decided to define a rating question on a scale from 1 to 7. This question is used to assess the quality of the prompt, based on quality, grammar and clarity of context.\n",
              "\n",
              "   ### Intent\n",
              "\n",
              "   For the intent, we have decided to define a multi-label classification question which will be used to determine the prompt types as defined in the [Llama 2 paper](https://arxiv.org/abs/2307.09288). This outlines a good distribution of the types of prompts we should use for fine-tuning an LLM.\n",
              "\n",
              "   - Generation: A statement that indicates the need for open generation.\n",
              "   - Rewrite: A statement that is rewritten by the model.\n",
              "   - Extract: A question that is answered by extracted from the context in the prompt.\n",
              "   - Closed QA: A question that is answered by the model based on the context.\n",
              "   - Open QA: A question that is answered by the model without any context.\n",
              "   - Classification: A statement that is classified by the model.\n",
              "   - Summarization: A summary of the context.\n",
              "   - Brainstorming: A list of ideas or concepts.\n",
              "   - Chat: A chat between two people.\n",
              "   - Code: A statement about code or programming.\n",
              "   - Other: A prompt that does not fit into any of the above categories.\n",
              "\n",
              "   ### Toxicity\n",
              "\n",
              "   For the Toxicity, we decided to use the [Guardrailing Mistral](https://docs.mistral.ai/usage/guardrailing) proposal as a reference. These labels are initially fine-grained but for the overall dataset, we will use a simplified version of these labels. As proposed by the Mistral team.\n",
              "\n",
              "   - Illegal: Illegal activity.\n",
              "   - Child abuse: child sexual abuse material or any content that exploits or harms children.\n",
              "   - Hate violence harassment: Generation of hateful, harassing, or violent content: content that expresses, incites, or promotes hate based on identity, content that intends to harass, threaten, or bully an individual, content that promotes or glorifies violence or celebrates the suffering or humiliation of others.\n",
              "   - Malware: Generation of malware: content that attempts to generate code that is designed to disrupt, damage, or gain unauthorized access to a computer system.\n",
              "   - Physical harm: activity that has high risk of physical harm, including: weapons development, military and warfare, management or operation of critical infrastructure in energy, transportation, and water, content that promotes, encourages, or depicts acts of self-harm, such as suicide, cutting, and eating disorders.\n",
              "   - Economic harm: activity that has high risk of economic harm, including: multi-level marketing, gambling, payday lending, automated determinations of eligibility for credit, employment, educational institutions, or public assistance services.\n",
              "   - Fraud: Fraudulent or deceptive activity, including: scams, coordinated inauthentic behavior, plagiarism, academic dishonesty, astroturfing, such as fake grassroots support or fake review generation, disinformation, spam, pseudo-pharmaceuticals.\n",
              "   - Adult: Adult content, adult industries, and dating apps, including: content meant to arouse sexual excitement, such as the description of sexual activity, or that promotes sexual services (excluding sex education and wellness), erotic chat, pornography.\n",
              "   - Political: Political campaigning or lobbying, by: generating high volumes of campaign materials, generating campaign materials personalized to or targeted at specific demographics, building conversational or interactive systems such as chatbots that provide information about campaigns or engage in political advocacy or lobbying, building products for political campaigning or lobbying purposes.\n",
              "   - Privacy: Activity that violates people's privacy, including: tracking or monitoring an individual without their consent, facial recognition of private individuals, classifying individuals based on protected characteristics, using biometrics for identification or assessment, unlawful collection or disclosure of personal identifiable information or educational, financial, or other protected records.\n",
              "   - Unqualified law: Engaging in the unauthorized practice of law, or offering tailored legal advice without a qualified person reviewing the information.\n",
              "   - Unqualified financial: Offering tailored financial advice without a qualified person reviewing the information.\n",
              "   - Unqualified health: Telling someone that they have or do not have a certain health condition, or providing instructions on how to cure or treat a health condition.\n",
              "\n",
              "   These have been mapped to the following simplified labels:\n",
              "\n",
              "   - Illegal: Illegal activities such as terrorism, child abuse or fraud.\n",
              "   - Harmful: Hateful, harassing or violent content such as discrimination, self-harm or bullying.\n",
              "   - Unqualified advice: Unqualified advice for instance in legal, medical or financial domains.)"
            ]
          },
          "execution_count": 6,
          "metadata": {},
          "output_type": "execute_result"
        }
      ],
      "source": [
        "try:\n",
        "    ds_local = rg.FeedbackDataset(\n",
        "        fields=[\n",
        "            rg.TextField(name=\"prompt\", title=\"Prompt\", use_markdown=True),\n",
        "            rg.TextField(name=\"response\", title=\"Response\", use_markdown=True),\n",
        "        ],\n",
        "        questions=[\n",
        "            rg.RatingQuestion(\n",
        "                name=\"prompt-quality\", \n",
        "                title=\"Prompt Quality\",\n",
        "                values=list(range(1, 8)), \n",
        "                description=\"How would you rate the quality of the prompt?\",\n",
        "            ),\n",
        "            rg.LabelQuestion(\n",
        "                name=\"prompt-intent\", \n",
        "                title=\"Prompt Intent\",\n",
        "                labels=[\"generation\", \"rewrite\", \"extract\", \"closed-qa\", \"open-qa\", \"classification\", \"summarization\", \"brainstorming\", \"chat\", \"code\", \"other\"], \n",
        "                description=\"What is the intent of the prompt?\"\n",
        "            ),\n",
        "            rg.MultiLabelQuestion(\n",
        "                name=\"response-toxicity\", \n",
        "                title=\"Response Toxicity\",\n",
        "                labels=[\"illegal\", \"harmfull\", \"unqualified advice\"], \n",
        "                description=\"What are the toxicities in the response (if any)?\",\n",
        "                required=False\n",
        "            )\n",
        "        ],\n",
        "        guidelines=guidelines\n",
        "    )\n",
        "    ds_remote = ds_local.push_to_argilla(\"sharegpt\")\n",
        "except Exception as e:\n",
        "    ds_remote = rg.FeedbackDataset.from_argilla(\"sharegpt\")\n",
        "ds_remote"
      ]
    },
    {
      "cell_type": "markdown",
      "metadata": {},
      "source": [
        "#### Configure the metadata-properties\n",
        "\n",
        "Next we will be using `text-descriptives` to configure the metadata-properties. This will be used to add and updat relevant metadata-properties to the dataset. Because `text-descriptives` doesn't provide any programmatic interface with the metrics-groups and their sub-metrics, we will run the computation on the an example text and use the results to configure the metadata-properties."
      ]
    },
    {
      "cell_type": "code",
      "execution_count": 8,
      "metadata": {},
      "outputs": [
        {
          "name": "stdout",
          "output_type": "stream",
          "text": [
            "\u001b[38;5;4mℹ Both a spacy model and a language were provided. Will use the spacy\n",
            "model and ignore language.\u001b[0m\n"
          ]
        },
        {
          "data": {
            "text/plain": [
              "Index(['token_length_mean', 'token_length_median', 'token_length_std',\n",
              "       'sentence_length_mean', 'sentence_length_median', 'sentence_length_std',\n",
              "       'syllables_per_token_mean', 'syllables_per_token_median',\n",
              "       'syllables_per_token_std', 'n_tokens', 'n_unique_tokens',\n",
              "       'proportion_unique_tokens', 'n_characters', 'n_sentences'],\n",
              "      dtype='object')"
            ]
          },
          "execution_count": 8,
          "metadata": {},
          "output_type": "execute_result"
        }
      ],
      "source": [
        "metric_group = [\"descriptive_stats\"]\n",
        "relevant_subgroups = []\n",
        "df_metrics = td.extract_metrics(\n",
        "    text=[\"this is an example prompt\"], \n",
        "    lang=\"en\", \n",
        "    metrics=metric_group,\n",
        "    spacy_model=\"en_core_web_sm\"\n",
        ").drop(columns=[\"text\"] + relevant_subgroups if relevant_subgroups else [\"text\"])\n",
        "df_metrics.columns"
      ]
    },
    {
      "cell_type": "markdown",
      "metadata": {},
      "source": [
        "Next, we will be working on converting the `text-descriptives` output to a format that can be used to configure the metadata-properties for our supported types: `TermsMetadataProperty`, `IntegerMetadataProperty` and `FloatMetadataProperty`. Note that we are also applying some subjective formatting choices to ensure that the metadata-properties are easy to read and understand."
      ]
    },
    {
      "cell_type": "code",
      "execution_count": 11,
      "metadata": {},
      "outputs": [
        {
          "data": {
            "text/plain": [
              "[RemoteFloatMetadataProperty(id=UUID('e46f3316-1ec4-4777-95aa-e379859ab520'), client=<httpx.Client object at 0x1379bd940>, name='prompt_token_length_mean', title='Prompt Token Length Mean', visible_for_annotators=True, type='float', min=None, max=None),\n",
              " RemoteFloatMetadataProperty(id=UUID('3f186741-7948-47ff-a048-54f4b523b076'), client=<httpx.Client object at 0x1379bd940>, name='prompt_token_length_median', title='Prompt Token Length Median', visible_for_annotators=True, type='float', min=None, max=None),\n",
              " RemoteFloatMetadataProperty(id=UUID('eea19ccc-39f1-4f2a-87fa-5f011a4004e8'), client=<httpx.Client object at 0x1379bd940>, name='prompt_token_length_std', title='Prompt Token Length Std', visible_for_annotators=True, type='float', min=None, max=None),\n",
              " RemoteFloatMetadataProperty(id=UUID('e07ddb06-e234-40f3-b802-5f7bacea156e'), client=<httpx.Client object at 0x1379bd940>, name='prompt_sentence_length_mean', title='Prompt Sentence Length Mean', visible_for_annotators=True, type='float', min=None, max=None),\n",
              " RemoteFloatMetadataProperty(id=UUID('8e775be0-0f18-41fa-a598-b00647165c76'), client=<httpx.Client object at 0x1379bd940>, name='prompt_sentence_length_median', title='Prompt Sentence Length Median', visible_for_annotators=True, type='float', min=None, max=None),\n",
              " RemoteFloatMetadataProperty(id=UUID('fb8b55f8-3cf4-4551-8a01-9c41eebef9f2'), client=<httpx.Client object at 0x1379bd940>, name='prompt_sentence_length_std', title='Prompt Sentence Length Std', visible_for_annotators=True, type='float', min=None, max=None),\n",
              " RemoteFloatMetadataProperty(id=UUID('24a211f8-2ac4-41dc-8fab-b0d9e3201513'), client=<httpx.Client object at 0x1379bd940>, name='prompt_syllables_per_token_mean', title='Prompt Syllables Per Token Mean', visible_for_annotators=True, type='float', min=None, max=None),\n",
              " RemoteFloatMetadataProperty(id=UUID('46e22ae6-3053-4c6f-a347-1c599e53ba85'), client=<httpx.Client object at 0x1379bd940>, name='prompt_syllables_per_token_median', title='Prompt Syllables Per Token Median', visible_for_annotators=True, type='float', min=None, max=None),\n",
              " RemoteFloatMetadataProperty(id=UUID('20442fae-1a18-4964-a554-8409fb8cfa5f'), client=<httpx.Client object at 0x1379bd940>, name='prompt_syllables_per_token_std', title='Prompt Syllables Per Token Std', visible_for_annotators=True, type='float', min=None, max=None),\n",
              " RemoteIntegerMetadataProperty(id=UUID('d46eb66b-c7ad-4b74-9960-b2d9ec446093'), client=<httpx.Client object at 0x1379bd940>, name='prompt_n_tokens', title='Prompt N Tokens', visible_for_annotators=True, type='integer', min=None, max=None),\n",
              " RemoteIntegerMetadataProperty(id=UUID('2a4a93d0-9b70-40c5-9e34-590aacfb0839'), client=<httpx.Client object at 0x1379bd940>, name='prompt_n_unique_tokens', title='Prompt N Unique Tokens', visible_for_annotators=True, type='integer', min=None, max=None),\n",
              " RemoteFloatMetadataProperty(id=UUID('3ec717d5-0784-4f9d-81ab-67c4f4052147'), client=<httpx.Client object at 0x1379bd940>, name='prompt_proportion_unique_tokens', title='Prompt Proportion Unique Tokens', visible_for_annotators=True, type='float', min=None, max=None),\n",
              " RemoteIntegerMetadataProperty(id=UUID('8656d988-9416-43af-8890-89252db8fb8c'), client=<httpx.Client object at 0x1379bd940>, name='prompt_n_characters', title='Prompt N Characters', visible_for_annotators=True, type='integer', min=None, max=None),\n",
              " RemoteIntegerMetadataProperty(id=UUID('91f657d9-504f-4fa0-b996-023f8835b7f2'), client=<httpx.Client object at 0x1379bd940>, name='prompt_n_sentences', title='Prompt N Sentences', visible_for_annotators=True, type='integer', min=None, max=None),\n",
              " RemoteFloatMetadataProperty(id=UUID('79289b23-36e4-46d3-a316-57e9632da00d'), client=<httpx.Client object at 0x1379bd940>, name='response_token_length_mean', title='Response Token Length Mean', visible_for_annotators=True, type='float', min=None, max=None),\n",
              " RemoteFloatMetadataProperty(id=UUID('bf4dab2a-8eec-47b0-b5dd-bcdeaf78ffb6'), client=<httpx.Client object at 0x1379bd940>, name='response_token_length_median', title='Response Token Length Median', visible_for_annotators=True, type='float', min=None, max=None),\n",
              " RemoteFloatMetadataProperty(id=UUID('cfe56ff7-e91b-4fc7-b2b1-fea2a20239b3'), client=<httpx.Client object at 0x1379bd940>, name='response_token_length_std', title='Response Token Length Std', visible_for_annotators=True, type='float', min=None, max=None),\n",
              " RemoteFloatMetadataProperty(id=UUID('a0b03d74-e8db-486b-a964-bfd788c0846b'), client=<httpx.Client object at 0x1379bd940>, name='response_sentence_length_mean', title='Response Sentence Length Mean', visible_for_annotators=True, type='float', min=None, max=None),\n",
              " RemoteFloatMetadataProperty(id=UUID('95afb556-5e45-4ffb-9a5d-4fed142ab97f'), client=<httpx.Client object at 0x1379bd940>, name='response_sentence_length_median', title='Response Sentence Length Median', visible_for_annotators=True, type='float', min=None, max=None),\n",
              " RemoteFloatMetadataProperty(id=UUID('3500a9e7-4db8-4eea-b6a4-91dabc4b58d4'), client=<httpx.Client object at 0x1379bd940>, name='response_sentence_length_std', title='Response Sentence Length Std', visible_for_annotators=True, type='float', min=None, max=None),\n",
              " RemoteFloatMetadataProperty(id=UUID('d237e652-5987-450d-8c7c-9853cafa7a41'), client=<httpx.Client object at 0x1379bd940>, name='response_syllables_per_token_mean', title='Response Syllables Per Token Mean', visible_for_annotators=True, type='float', min=None, max=None),\n",
              " RemoteFloatMetadataProperty(id=UUID('0dae8414-f4d7-4293-8c19-0e91f5d58fa6'), client=<httpx.Client object at 0x1379bd940>, name='response_syllables_per_token_median', title='Response Syllables Per Token Median', visible_for_annotators=True, type='float', min=None, max=None),\n",
              " RemoteFloatMetadataProperty(id=UUID('fb4134f7-0f51-4c22-96ed-ca016b581027'), client=<httpx.Client object at 0x1379bd940>, name='response_syllables_per_token_std', title='Response Syllables Per Token Std', visible_for_annotators=True, type='float', min=None, max=None),\n",
              " RemoteIntegerMetadataProperty(id=UUID('da23aba6-9c1e-4613-93d4-e0f8a8489247'), client=<httpx.Client object at 0x1379bd940>, name='response_n_tokens', title='Response N Tokens', visible_for_annotators=True, type='integer', min=None, max=None),\n",
              " RemoteIntegerMetadataProperty(id=UUID('11efbfc5-0f7c-443f-9a63-67e5d310e6f0'), client=<httpx.Client object at 0x1379bd940>, name='response_n_unique_tokens', title='Response N Unique Tokens', visible_for_annotators=True, type='integer', min=None, max=None),\n",
              " RemoteFloatMetadataProperty(id=UUID('f8a0f78e-f831-44b7-8f4b-61b837f02a87'), client=<httpx.Client object at 0x1379bd940>, name='response_proportion_unique_tokens', title='Response Proportion Unique Tokens', visible_for_annotators=True, type='float', min=None, max=None),\n",
              " RemoteIntegerMetadataProperty(id=UUID('1a24d094-792e-4076-87fd-593e39c7d38b'), client=<httpx.Client object at 0x1379bd940>, name='response_n_characters', title='Response N Characters', visible_for_annotators=True, type='integer', min=None, max=None),\n",
              " RemoteIntegerMetadataProperty(id=UUID('24e5f52f-ffb4-4d97-b5f4-1517916a3a3c'), client=<httpx.Client object at 0x1379bd940>, name='response_n_sentences', title='Response N Sentences', visible_for_annotators=True, type='integer', min=None, max=None)]"
            ]
          },
          "execution_count": 11,
          "metadata": {},
          "output_type": "execute_result"
        }
      ],
      "source": [
        "def clean_column_name(col_name):\n",
        "    \"\"\"Clean a column name to fit a specific regex pattern.\"\"\"\n",
        "    col_name = col_name.lower()  # Convert to lowercase\n",
        "    col_name = re.sub(r'[^a-z0-9_]', '_', col_name)  # Replace non-alphanumeric characters with underscores\n",
        "    return col_name\n",
        "\n",
        "def create_metadata_properties(df, prefix):\n",
        "    \"\"\"Generate metadata properties based on dataframe columns and data types.\"\"\"\n",
        "    properties = []\n",
        "    for col, dtype in df.dtypes.items():\n",
        "        name = f\"{prefix}_{clean_column_name(col)}\"\n",
        "        title = name.replace('_', ' ').title()\n",
        "\n",
        "        if dtype == 'object':\n",
        "            prop = rg.TermsMetadataProperty(name=name, title=title)\n",
        "        elif dtype == 'int64':\n",
        "            prop = rg.IntegerMetadataProperty(name=name, title=title)\n",
        "        elif dtype == 'float64':\n",
        "            prop = rg.FloatMetadataProperty(name=name, title=title)\n",
        "        elif dtype == 'bool':\n",
        "            prop = rg.TermsMetadataProperty(name=name, title=title)\n",
        "        else:\n",
        "            print(f\"Unhandled data type for column {col}: {dtype}\")\n",
        "            continue\n",
        "        properties.append(prop)\n",
        "    return properties\n",
        "\n",
        "metadata_properties = []\n",
        "metadata_properties += create_metadata_properties(df_metrics, 'prompt')\n",
        "metadata_properties += create_metadata_properties(df_metrics, 'response')\n",
        "for metadata_property in metadata_properties:\n",
        "    try:\n",
        "        field = ds_remote.metadata_property_by_name(metadata_property.name)\n",
        "        if not field:\n",
        "            ds_remote.add_metadata_property(metadata_property)\n",
        "    except (KeyError, ValueError) as e:\n",
        "        ds_remote.add_metadata_property(metadata_property)        \n",
        "ds_remote.metadata_properties"
      ]
    },
    {
      "cell_type": "markdown",
      "metadata": {},
      "source": [
        "### Data collection"
      ]
    },
    {
      "cell_type": "code",
      "execution_count": 12,
      "metadata": {},
      "outputs": [
        {
          "data": {
            "text/plain": [
              "Dataset({\n",
              "    features: ['id', 'conversations', 'lang'],\n",
              "    num_rows: 90665\n",
              "})"
            ]
          },
          "execution_count": 12,
          "metadata": {},
          "output_type": "execute_result"
        }
      ],
      "source": [
        "dataset = load_dataset(\"zetavg/ShareGPT-Processed\")\n",
        "dataset = dataset[\"train\"]\n",
        "dataset"
      ]
    },
    {
      "cell_type": "code",
      "execution_count": 13,
      "metadata": {},
      "outputs": [
        {
          "name": "stderr",
          "output_type": "stream",
          "text": [
            "Filter:   0%|          | 0/63940 [00:00<?, ? examples/s]"
          ]
        },
        {
          "name": "stderr",
          "output_type": "stream",
          "text": [
            "Filter: 100%|██████████| 63940/63940 [00:17<00:00, 3727.91 examples/s]\n",
            "Filter: 100%|██████████| 63643/63643 [00:10<00:00, 6348.19 examples/s]\n"
          ]
        },
        {
          "data": {
            "text/plain": [
              "Dataset({\n",
              "    features: ['id', 'conversations', 'lang'],\n",
              "    num_rows: 62338\n",
              "})"
            ]
          },
          "execution_count": 13,
          "metadata": {},
          "output_type": "execute_result"
        }
      ],
      "source": [
        "dataset = dataset.filter(function=lambda x: x.get(\"lang\", \"?\") == \"en\")\n",
        "dataset = dataset.filter(lambda x: x[\"conversations\"][0][\"from\"] == \"human\")\n",
        "dataset = dataset.filter(lambda x: len(x[\"conversations\"])>1)\n",
        "dataset"
      ]
    },
    {
      "cell_type": "code",
      "execution_count": 16,
      "metadata": {},
      "outputs": [
        {
          "data": {
            "text/plain": [
              "Dataset({\n",
              "    features: ['id', 'conversations', 'lang'],\n",
              "    num_rows: 10000\n",
              "})"
            ]
          },
          "execution_count": 16,
          "metadata": {},
          "output_type": "execute_result"
        }
      ],
      "source": [
        "dataset = dataset.shuffle(seed=42)\n",
        "dataset = dataset.select(list(range(min(10000, len(dataset)))))\n",
        "dataset"
      ]
    },
    {
      "cell_type": "code",
      "execution_count": 17,
      "metadata": {},
      "outputs": [
        {
          "name": "stderr",
          "output_type": "stream",
          "text": [
            "Map: 100%|██████████| 10000/10000 [00:02<00:00, 3831.43 examples/s]\n"
          ]
        },
        {
          "data": {
            "text/plain": [
              "Dataset({\n",
              "    features: ['id', 'conversations', 'lang', 'prompt', 'response'],\n",
              "    num_rows: 10000\n",
              "})"
            ]
          },
          "execution_count": 17,
          "metadata": {},
          "output_type": "execute_result"
        }
      ],
      "source": [
        "dataset = dataset.map(lambda x: {\"prompt\": x[\"conversations\"][0][\"value\"], \"response\": x[\"conversations\"][1][\"value\"]})\n",
        "dataset"
      ]
    },
    {
      "cell_type": "code",
      "execution_count": 18,
      "metadata": {},
      "outputs": [
        {
          "data": {
            "text/plain": [
              "(['n_sentences', 'n_unique_tokens', 'n_characters', 'n_tokens'], [])"
            ]
          },
          "execution_count": 18,
          "metadata": {},
          "output_type": "execute_result"
        }
      ],
      "source": [
        "# Extract metrics\n",
        "spacy_model = \"en_core_web_md\" # we need a model with vectors\n",
        "df_prompt = td.extract_metrics(text=dataset[\"prompt\"], metrics=metric_group, spacy_model=spacy_model).drop(columns=['text'])\n",
        "df_response = td.extract_metrics(text=dataset[\"response\"], metrics=metric_group, spacy_model=spacy_model).drop(columns=['text'])\n",
        "\n",
        "# Identify integer and boolean columns for prompts and responses\n",
        "int_cols_prompts = df_prompt.select_dtypes(include=['int64']).columns.tolist()\n",
        "bool_cols_prompts = df_prompt.select_dtypes(include=['boolean']).columns.tolist()\n",
        "\n",
        "int_cols_responses = df_response.select_dtypes(include=['int64']).columns.tolist()\n",
        "bool_cols_responses = df_response.select_dtypes(include=['boolean']).columns.tolist()\n",
        "\n",
        "# Combine column lists for prompts and responses\n",
        "int_cols = list(set(int_cols_prompts + int_cols_responses))\n",
        "bool_cols = list(set(bool_cols_prompts + bool_cols_responses))\n",
        "int_cols, bool_cols"
      ]
    },
    {
      "cell_type": "markdown",
      "metadata": {},
      "source": [
        "Next, we will be casting the `numpy`-datatypes to basic Python built-in datatypes. This is required because the Argilla client doesn't support `numpy`-datatypes."
      ]
    },
    {
      "cell_type": "code",
      "execution_count": 19,
      "metadata": {},
      "outputs": [],
      "source": [
        "# --- Functions ---\n",
        "def cast_to_python_types(df):\n",
        "    \"\"\"\n",
        "    Convert integer and boolean columns to Python native types.\n",
        "    \"\"\"\n",
        "    for column in df.columns:\n",
        "        df[column].fillna(0, inplace=True)\n",
        "        if df[column].dtype == bool:\n",
        "            df[column] = df[column].astype(str)\n",
        "        elif df[column].dtype == np.int64:\n",
        "            df[column] = df[column].astype(int)\n",
        "        elif df[column].dtype == np.float64:\n",
        "            df[column] = df[column].astype(float)\n",
        "        else:\n",
        "            print(f\"Unhandled data type for column {column}: {df[column].dtype}\")\n",
        "    return df\n",
        "\n",
        "df_prompt = cast_to_python_types(df_prompt)\n",
        "df_response = cast_to_python_types(df_response)"
      ]
    },
    {
      "cell_type": "markdown",
      "metadata": {},
      "source": [
        "Lastly, we will loop through the Hugging Face dataset, add the metadata-properties and update the Argilla dataset with the new records."
      ]
    },
    {
      "cell_type": "code",
      "execution_count": 21,
      "metadata": {
        "id": "Zt9XZrLtc2Km"
      },
      "outputs": [
        {
          "name": "stderr",
          "output_type": "stream",
          "text": [
            "Pushing records to Argilla...: 100%|██████████| 313/313 [02:35<00:00,  2.02it/s]\n"
          ]
        }
      ],
      "source": [
        "# Prepare feedback records with metadata and suggestions\n",
        "records = []\n",
        "\n",
        "cols_with_values_other_than_zeros_or_nan_prompt = df_prompt.columns[~(df_prompt.fillna(0) == 0).all() & ~df_prompt.isnull().any()].tolist()\n",
        "cols_with_values_other_than_zeros_or_nan_response = df_response.columns[~(df_response.fillna(0) == 0).all() & ~df_response.isnull().any()].tolist()\n",
        "\n",
        "\n",
        "for i, record in enumerate(dataset):\n",
        "    # Prepare metadata for prompts\n",
        "    metadata_prompts = {f\"prompt_{col}\": value for col, value in df_prompt[cols_with_values_other_than_zeros_or_nan_prompt].iloc[i].items()}\n",
        "    # Prepare metadata for responses\n",
        "    metadata_response = {f\"response_{col}\": value for col, value in df_response[cols_with_values_other_than_zeros_or_nan_response].iloc[i].items()}\n",
        "\n",
        "    # Explicitly cast integers using Python's native int type\n",
        "    for col in int_cols:\n",
        "        if f\"prompt_{col}\" in metadata_prompts:\n",
        "            metadata_prompts[f\"prompt_{col}\"] = int(metadata_prompts[f\"prompt_{col}\"])\n",
        "        if f\"response_{col}\" in metadata_response:\n",
        "            metadata_response[f\"response_{col}\"] = int(metadata_response[f\"response_{col}\"])\n",
        "\n",
        "    # Convert booleans to strings using Python's native str type\n",
        "    for col in bool_cols:\n",
        "        if f\"prompt_{col}\" in metadata_prompts:\n",
        "            metadata_prompts[f\"prompt_{col}\"] = str(metadata_prompts[f\"prompt_{col}\"])\n",
        "        if f\"response_{col}\" in metadata_response:\n",
        "            metadata_response[f\"response_{col}\"] = str(metadata_response[f\"response_{col}\"])\n",
        "\n",
        "    # Combine both metadata dictionaries into one\n",
        "    metadata = {**metadata_prompts, **metadata_response}\n",
        "    record = rg.FeedbackRecord(\n",
        "        fields={\"prompt\": record[\"prompt\"], \"response\": record[\"response\"]},\n",
        "        metadata=metadata,\n",
        "    )\n",
        "    records.append(record)\n",
        "\n",
        "# Add records to the dataset and push to Argilla\n",
        "ds_remote.add_records(records)"
      ]
    },
    {
      "cell_type": "markdown",
      "metadata": {},
      "source": [
        "Lastly, we will be adding some vectors to represent the `prompt` and `response` fields."
      ]
    },
    {
      "cell_type": "code",
      "execution_count": 22,
      "metadata": {},
      "outputs": [
        {
          "name": "stdout",
          "output_type": "stream",
          "text": [
            "Looking in indexes: https://pypi.org/simple, https://dmrepository.datamaran.com:8443/repository/dmPYTHON/simple\n",
            "Collecting sentence-transformers\n",
            "  Using cached sentence_transformers-2.2.2-py3-none-any.whl\n",
            "Requirement already satisfied: numpy in /Users/davidberenstein/Documents/programming/argilla/awesome-argilla-datasets/.env/lib/python3.9/site-packages (from sentence-transformers) (1.26.2)\n",
            "Collecting scikit-learn\n",
            "  Downloading https://dmrepository.datamaran.com:8443/repository/dmPYTHON/packages/scikit-learn/1.3.2/scikit_learn-1.3.2-cp39-cp39-macosx_10_9_x86_64.whl (10.2 MB)\n",
            "\u001b[2K     \u001b[90m━━━━━━━━━━━━━━━━━━━━━━━━━━━━━━━━━━━━━━━━\u001b[0m \u001b[32m10.2/10.2 MB\u001b[0m \u001b[31m8.6 MB/s\u001b[0m eta \u001b[36m0:00:00\u001b[0m00:01\u001b[0m0:01\u001b[0m\n",
            "\u001b[?25hCollecting sentencepiece\n",
            "  Downloading https://dmrepository.datamaran.com:8443/repository/dmPYTHON/packages/sentencepiece/0.1.99/sentencepiece-0.1.99-cp39-cp39-macosx_10_9_x86_64.whl (1.2 MB)\n",
            "\u001b[2K     \u001b[90m━━━━━━━━━━━━━━━━━━━━━━━━━━━━━━━━━━━━━━━━\u001b[0m \u001b[32m1.2/1.2 MB\u001b[0m \u001b[31m8.5 MB/s\u001b[0m eta \u001b[36m0:00:00\u001b[0ma \u001b[36m0:00:01\u001b[0mm\n",
            "\u001b[?25hRequirement already satisfied: nltk in /Users/davidberenstein/Documents/programming/argilla/awesome-argilla-datasets/.env/lib/python3.9/site-packages (from sentence-transformers) (3.8.1)\n",
            "Collecting torchvision\n",
            "  Downloading https://dmrepository.datamaran.com:8443/repository/dmPYTHON/packages/torchvision/0.16.1/torchvision-0.16.1-cp39-cp39-macosx_10_13_x86_64.whl (1.6 MB)\n",
            "\u001b[2K     \u001b[90m━━━━━━━━━━━━━━━━━━━━━━━━━━━━━━━━━━━━━━━━\u001b[0m \u001b[32m1.6/1.6 MB\u001b[0m \u001b[31m9.3 MB/s\u001b[0m eta \u001b[36m0:00:00\u001b[0mta \u001b[36m0:00:01\u001b[0m\n",
            "\u001b[?25hCollecting scipy\n",
            "  Downloading https://dmrepository.datamaran.com:8443/repository/dmPYTHON/packages/scipy/1.11.4/scipy-1.11.4-cp39-cp39-macosx_10_9_x86_64.whl (37.3 MB)\n",
            "\u001b[2K     \u001b[90m━━━━━━━━━━━━━━━━━━━━━━━━━━━━━━━━━━━━━━━━\u001b[0m \u001b[32m37.3/37.3 MB\u001b[0m \u001b[31m9.4 MB/s\u001b[0m eta \u001b[36m0:00:00\u001b[0m:00:01\u001b[0m00:01\u001b[0m\n",
            "\u001b[?25hCollecting torch>=1.6.0\n",
            "  Downloading https://dmrepository.datamaran.com:8443/repository/dmPYTHON/packages/torch/2.1.1/torch-2.1.1-cp39-none-macosx_10_9_x86_64.whl (147.0 MB)\n",
            "\u001b[2K     \u001b[90m━━━━━━━━━━━━━━━━━━━━━━━━━━━━━━━━━━━━━━━\u001b[0m \u001b[32m147.0/147.0 MB\u001b[0m \u001b[31m7.9 MB/s\u001b[0m eta \u001b[36m0:00:00\u001b[0m00:01\u001b[0m00:01\u001b[0m\n",
            "\u001b[?25hRequirement already satisfied: tqdm in /Users/davidberenstein/Documents/programming/argilla/awesome-argilla-datasets/.env/lib/python3.9/site-packages (from sentence-transformers) (4.66.1)\n",
            "Requirement already satisfied: transformers<5.0.0,>=4.6.0 in /Users/davidberenstein/Documents/programming/argilla/awesome-argilla-datasets/.env/lib/python3.9/site-packages (from sentence-transformers) (4.34.1)\n",
            "Requirement already satisfied: huggingface-hub>=0.4.0 in /Users/davidberenstein/Documents/programming/argilla/awesome-argilla-datasets/.env/lib/python3.9/site-packages (from sentence-transformers) (0.17.3)\n",
            "Requirement already satisfied: requests in /Users/davidberenstein/Documents/programming/argilla/awesome-argilla-datasets/.env/lib/python3.9/site-packages (from huggingface-hub>=0.4.0->sentence-transformers) (2.31.0)\n",
            "Requirement already satisfied: packaging>=20.9 in /Users/davidberenstein/Documents/programming/argilla/awesome-argilla-datasets/.env/lib/python3.9/site-packages (from huggingface-hub>=0.4.0->sentence-transformers) (23.2)\n",
            "Requirement already satisfied: fsspec in /Users/davidberenstein/Documents/programming/argilla/awesome-argilla-datasets/.env/lib/python3.9/site-packages (from huggingface-hub>=0.4.0->sentence-transformers) (2023.10.0)\n",
            "Requirement already satisfied: pyyaml>=5.1 in /Users/davidberenstein/Documents/programming/argilla/awesome-argilla-datasets/.env/lib/python3.9/site-packages (from huggingface-hub>=0.4.0->sentence-transformers) (6.0.1)\n",
            "Requirement already satisfied: filelock in /Users/davidberenstein/Documents/programming/argilla/awesome-argilla-datasets/.env/lib/python3.9/site-packages (from huggingface-hub>=0.4.0->sentence-transformers) (3.13.1)\n",
            "Requirement already satisfied: typing-extensions>=3.7.4.3 in /Users/davidberenstein/Documents/programming/argilla/awesome-argilla-datasets/.env/lib/python3.9/site-packages (from huggingface-hub>=0.4.0->sentence-transformers) (4.8.0)\n",
            "Collecting networkx\n",
            "  Using cached https://dmrepository.datamaran.com:8443/repository/dmPYTHON/packages/networkx/3.2.1/networkx-3.2.1-py3-none-any.whl (1.6 MB)\n",
            "Requirement already satisfied: jinja2 in /Users/davidberenstein/Documents/programming/argilla/awesome-argilla-datasets/.env/lib/python3.9/site-packages (from torch>=1.6.0->sentence-transformers) (3.1.2)\n",
            "Collecting sympy\n",
            "  Using cached https://dmrepository.datamaran.com:8443/repository/dmPYTHON/packages/sympy/1.12/sympy-1.12-py3-none-any.whl (5.7 MB)\n",
            "Requirement already satisfied: tokenizers<0.15,>=0.14 in /Users/davidberenstein/Documents/programming/argilla/awesome-argilla-datasets/.env/lib/python3.9/site-packages (from transformers<5.0.0,>=4.6.0->sentence-transformers) (0.14.1)\n",
            "Requirement already satisfied: safetensors>=0.3.1 in /Users/davidberenstein/Documents/programming/argilla/awesome-argilla-datasets/.env/lib/python3.9/site-packages (from transformers<5.0.0,>=4.6.0->sentence-transformers) (0.4.0)\n",
            "Requirement already satisfied: regex!=2019.12.17 in /Users/davidberenstein/Documents/programming/argilla/awesome-argilla-datasets/.env/lib/python3.9/site-packages (from transformers<5.0.0,>=4.6.0->sentence-transformers) (2023.10.3)\n",
            "Requirement already satisfied: click in /Users/davidberenstein/Documents/programming/argilla/awesome-argilla-datasets/.env/lib/python3.9/site-packages (from nltk->sentence-transformers) (8.1.7)\n",
            "Requirement already satisfied: joblib in /Users/davidberenstein/Documents/programming/argilla/awesome-argilla-datasets/.env/lib/python3.9/site-packages (from nltk->sentence-transformers) (1.3.2)\n",
            "Collecting threadpoolctl>=2.0.0\n",
            "  Using cached https://dmrepository.datamaran.com:8443/repository/dmPYTHON/packages/threadpoolctl/3.2.0/threadpoolctl-3.2.0-py3-none-any.whl (15 kB)\n",
            "Collecting pillow!=8.3.*,>=5.3.0\n",
            "  Downloading https://dmrepository.datamaran.com:8443/repository/dmPYTHON/packages/pillow/10.1.0/Pillow-10.1.0-cp39-cp39-macosx_10_10_x86_64.whl (3.5 MB)\n",
            "\u001b[2K     \u001b[90m━━━━━━━━━━━━━━━━━━━━━━━━━━━━━━━━━━━━━━━━\u001b[0m \u001b[32m3.5/3.5 MB\u001b[0m \u001b[31m8.7 MB/s\u001b[0m eta \u001b[36m0:00:00\u001b[0m00:01\u001b[0m00:01\u001b[0m\n",
            "\u001b[?25hRequirement already satisfied: MarkupSafe>=2.0 in /Users/davidberenstein/Documents/programming/argilla/awesome-argilla-datasets/.env/lib/python3.9/site-packages (from jinja2->torch>=1.6.0->sentence-transformers) (2.1.3)\n",
            "Requirement already satisfied: idna<4,>=2.5 in /Users/davidberenstein/Documents/programming/argilla/awesome-argilla-datasets/.env/lib/python3.9/site-packages (from requests->huggingface-hub>=0.4.0->sentence-transformers) (3.4)\n",
            "Requirement already satisfied: charset-normalizer<4,>=2 in /Users/davidberenstein/Documents/programming/argilla/awesome-argilla-datasets/.env/lib/python3.9/site-packages (from requests->huggingface-hub>=0.4.0->sentence-transformers) (3.3.1)\n",
            "Requirement already satisfied: certifi>=2017.4.17 in /Users/davidberenstein/Documents/programming/argilla/awesome-argilla-datasets/.env/lib/python3.9/site-packages (from requests->huggingface-hub>=0.4.0->sentence-transformers) (2023.7.22)\n",
            "Requirement already satisfied: urllib3<3,>=1.21.1 in /Users/davidberenstein/Documents/programming/argilla/awesome-argilla-datasets/.env/lib/python3.9/site-packages (from requests->huggingface-hub>=0.4.0->sentence-transformers) (1.26.18)\n",
            "Collecting mpmath>=0.19\n",
            "  Using cached https://dmrepository.datamaran.com:8443/repository/dmPYTHON/packages/mpmath/1.3.0/mpmath-1.3.0-py3-none-any.whl (536 kB)\n",
            "Installing collected packages: sentencepiece, mpmath, threadpoolctl, sympy, scipy, pillow, networkx, torch, scikit-learn, torchvision, sentence-transformers\n",
            "Successfully installed mpmath-1.3.0 networkx-3.2.1 pillow-10.1.0 scikit-learn-1.3.2 scipy-1.11.4 sentence-transformers-2.2.2 sentencepiece-0.1.99 sympy-1.12 threadpoolctl-3.2.0 torch-2.1.1 torchvision-0.16.1\n",
            "\n",
            "\u001b[1m[\u001b[0m\u001b[34;49mnotice\u001b[0m\u001b[1;39;49m]\u001b[0m\u001b[39;49m A new release of pip is available: \u001b[0m\u001b[31;49m23.0.1\u001b[0m\u001b[39;49m -> \u001b[0m\u001b[32;49m23.3.1\u001b[0m\n",
            "\u001b[1m[\u001b[0m\u001b[34;49mnotice\u001b[0m\u001b[1;39;49m]\u001b[0m\u001b[39;49m To update, run: \u001b[0m\u001b[32;49mpip install --upgrade pip\u001b[0m\n"
          ]
        }
      ],
      "source": [
        "!pip install sentence-transformers"
      ]
    },
    {
      "cell_type": "code",
      "execution_count": 9,
      "metadata": {},
      "outputs": [],
      "source": [
        "from sentence_transformers import SentenceTransformer\n",
        "\n",
        "model = SentenceTransformer('TaylorAI/bge-micro-v2')"
      ]
    },
    {
      "cell_type": "code",
      "execution_count": 8,
      "metadata": {},
      "outputs": [
        {
          "data": {
            "text/plain": [
              "(RemoteVectorSettings(name='prompt', title='Prompt', dimensions=384, id=UUID('83bdef3b-f787-4601-8df8-2bc7eeb8b6a2'), inserted_at=datetime.datetime(2023, 11, 20, 17, 53, 16, 520211), updated_at=datetime.datetime(2023, 11, 20, 17, 53, 16, 520211)),\n",
              " RemoteVectorSettings(name='response', title='Response', dimensions=384, id=UUID('34705247-38cf-45ba-bd52-fb8642297814'), inserted_at=datetime.datetime(2023, 11, 20, 17, 53, 17, 35059), updated_at=datetime.datetime(2023, 11, 20, 17, 53, 17, 35059)))"
            ]
          },
          "execution_count": 8,
          "metadata": {},
          "output_type": "execute_result"
        }
      ],
      "source": [
        "try:\n",
        "    prompt_setting = ds_remote.vector_settings_by_name(\"prompt\")\n",
        "    response_setting = ds_remote.vector_settings_by_name(\"response\")\n",
        "except Exception as e:\n",
        "    prompt_setting = ds_remote.add_vector_settings(rg.VectorSettings(name=\"prompt\", dimensions=384))\n",
        "    response_setting = ds_remote.add_vector_settings(rg.VectorSettings(name=\"response\", dimensions=384))\n",
        "prompt_setting, response_setting"
      ]
    },
    {
      "cell_type": "code",
      "execution_count": 11,
      "metadata": {},
      "outputs": [],
      "source": [
        "modified_records = []\n",
        "prompt_text = []\n",
        "response_text = []\n",
        "for record in ds_remote.records:\n",
        "    prompt_text.append(record.fields[\"prompt\"])\n",
        "    response_text.append(record.fields[\"response\"])\n",
        "    modified_records.append(record)"
      ]
    },
    {
      "cell_type": "code",
      "execution_count": 12,
      "metadata": {},
      "outputs": [],
      "source": [
        "prompt_vectors = model.encode(prompt_text)\n",
        "response_vectors = model.encode(response_text)"
      ]
    },
    {
      "cell_type": "code",
      "execution_count": 17,
      "metadata": {},
      "outputs": [],
      "source": [
        "for record, prompt_vector, response_vector in zip(modified_records, prompt_vectors, response_vectors):\n",
        "    record.vectors = {\n",
        "        \"prompt\": prompt_vector.tolist(),\n",
        "        \"response\": response_vector.tolist(),\n",
        "    }"
      ]
    },
    {
      "cell_type": "code",
      "execution_count": 27,
      "metadata": {},
      "outputs": [
        {
          "name": "stdout",
          "output_type": "stream",
          "text": [
            "20\n"
          ]
        },
        {
          "data": {
            "text/html": [
              "<pre style=\"white-space:pre;overflow-x:auto;line-height:normal;font-family:Menlo,'DejaVu Sans Mono',consolas,'Courier New',monospace\"><span style=\"color: #800000; text-decoration-color: #800000\">╭─────────────────────────────── </span><span style=\"color: #800000; text-decoration-color: #800000; font-weight: bold\">Traceback </span><span style=\"color: #bf7f7f; text-decoration-color: #bf7f7f; font-weight: bold\">(most recent call last)</span><span style=\"color: #800000; text-decoration-color: #800000\"> ────────────────────────────────╮</span>\n",
              "<span style=\"color: #800000; text-decoration-color: #800000\">│</span> in <span style=\"color: #00ff00; text-decoration-color: #00ff00\">&lt;module&gt;</span>:<span style=\"color: #0000ff; text-decoration-color: #0000ff\">6</span>                                                                                    <span style=\"color: #800000; text-decoration-color: #800000\">│</span>\n",
              "<span style=\"color: #800000; text-decoration-color: #800000\">│</span>                                                                                                  <span style=\"color: #800000; text-decoration-color: #800000\">│</span>\n",
              "<span style=\"color: #800000; text-decoration-color: #800000\">│</span>   <span style=\"color: #7f7f7f; text-decoration-color: #7f7f7f\"> 3 </span>chunked_modified_records = np.array_split(modified_records, <span style=\"color: #0000ff; text-decoration-color: #0000ff\">20</span>)                             <span style=\"color: #800000; text-decoration-color: #800000\">│</span>\n",
              "<span style=\"color: #800000; text-decoration-color: #800000\">│</span>   <span style=\"color: #7f7f7f; text-decoration-color: #7f7f7f\"> 4 </span><span style=\"color: #0000ff; text-decoration-color: #0000ff\">while</span> <span style=\"color: #00ffff; text-decoration-color: #00ffff\">len</span>(chunked_modified_records) &gt; <span style=\"color: #0000ff; text-decoration-color: #0000ff\">0</span>:                                                    <span style=\"color: #800000; text-decoration-color: #800000\">│</span>\n",
              "<span style=\"color: #800000; text-decoration-color: #800000\">│</span>   <span style=\"color: #7f7f7f; text-decoration-color: #7f7f7f\"> 5 </span><span style=\"color: #7f7f7f; text-decoration-color: #7f7f7f\">│   </span><span style=\"color: #0000ff; text-decoration-color: #0000ff\">try</span>:                                                                                    <span style=\"color: #800000; text-decoration-color: #800000\">│</span>\n",
              "<span style=\"color: #800000; text-decoration-color: #800000\">│</span> <span style=\"color: #800000; text-decoration-color: #800000\">❱ </span> 6 <span style=\"color: #7f7f7f; text-decoration-color: #7f7f7f\">│   │   </span>ds_remote.update_records(chunked_modified_records[<span style=\"color: #0000ff; text-decoration-color: #0000ff\">0</span>])                               <span style=\"color: #800000; text-decoration-color: #800000\">│</span>\n",
              "<span style=\"color: #800000; text-decoration-color: #800000\">│</span>   <span style=\"color: #7f7f7f; text-decoration-color: #7f7f7f\"> 7 </span><span style=\"color: #7f7f7f; text-decoration-color: #7f7f7f\">│   │   </span>chunked_modified_records.pop(<span style=\"color: #0000ff; text-decoration-color: #0000ff\">0</span>)                                                     <span style=\"color: #800000; text-decoration-color: #800000\">│</span>\n",
              "<span style=\"color: #800000; text-decoration-color: #800000\">│</span>   <span style=\"color: #7f7f7f; text-decoration-color: #7f7f7f\"> 8 </span><span style=\"color: #7f7f7f; text-decoration-color: #7f7f7f\">│   </span><span style=\"color: #0000ff; text-decoration-color: #0000ff\">except</span> <span style=\"color: #00ffff; text-decoration-color: #00ffff\">Exception</span> <span style=\"color: #0000ff; text-decoration-color: #0000ff\">as</span> e:                                                                  <span style=\"color: #800000; text-decoration-color: #800000\">│</span>\n",
              "<span style=\"color: #800000; text-decoration-color: #800000\">│</span>   <span style=\"color: #7f7f7f; text-decoration-color: #7f7f7f\"> 9 </span><span style=\"color: #7f7f7f; text-decoration-color: #7f7f7f\">│   │   </span><span style=\"color: #00ffff; text-decoration-color: #00ffff\">print</span>(<span style=\"color: #00ffff; text-decoration-color: #00ffff\">len</span>(chunked_modified_records))                                                <span style=\"color: #800000; text-decoration-color: #800000\">│</span>\n",
              "<span style=\"color: #800000; text-decoration-color: #800000\">│</span>                                                                                                  <span style=\"color: #800000; text-decoration-color: #800000\">│</span>\n",
              "<span style=\"color: #800000; text-decoration-color: #800000\">│</span> <span style=\"color: #bfbf7f; text-decoration-color: #bfbf7f\">/Users/davidberenstein/Documents/programming/argilla/awesome-argilla-datasets/.env/lib/python3.9</span> <span style=\"color: #800000; text-decoration-color: #800000\">│</span>\n",
              "<span style=\"color: #800000; text-decoration-color: #800000\">│</span> <span style=\"color: #bfbf7f; text-decoration-color: #bfbf7f\">/site-packages/argilla/client/feedback/dataset/remote/</span><span style=\"color: #808000; text-decoration-color: #808000; font-weight: bold\">dataset.py</span>:<span style=\"color: #0000ff; text-decoration-color: #0000ff\">630</span> in <span style=\"color: #00ff00; text-decoration-color: #00ff00\">update_records</span>           <span style=\"color: #800000; text-decoration-color: #800000\">│</span>\n",
              "<span style=\"color: #800000; text-decoration-color: #800000\">│</span>                                                                                                  <span style=\"color: #800000; text-decoration-color: #800000\">│</span>\n",
              "<span style=\"color: #800000; text-decoration-color: #800000\">│</span>   <span style=\"color: #7f7f7f; text-decoration-color: #7f7f7f\"> 627 </span><span style=\"color: #bfbf7f; text-decoration-color: #bfbf7f\">│   │   </span><span style=\"color: #808000; text-decoration-color: #808000\">Raises:</span>                                                                           <span style=\"color: #800000; text-decoration-color: #800000\">│</span>\n",
              "<span style=\"color: #800000; text-decoration-color: #800000\">│</span>   <span style=\"color: #7f7f7f; text-decoration-color: #7f7f7f\"> 628 </span><span style=\"color: #bfbf7f; text-decoration-color: #bfbf7f\">│   │   │   </span><span style=\"color: #808000; text-decoration-color: #808000\">PermissionError: if the user does not have either `owner` or `admin` role.</span>    <span style=\"color: #800000; text-decoration-color: #800000\">│</span>\n",
              "<span style=\"color: #800000; text-decoration-color: #800000\">│</span>   <span style=\"color: #7f7f7f; text-decoration-color: #7f7f7f\"> 629 </span><span style=\"color: #bfbf7f; text-decoration-color: #bfbf7f\">│   │   </span><span style=\"color: #808000; text-decoration-color: #808000\">\"\"\"</span>                                                                               <span style=\"color: #800000; text-decoration-color: #800000\">│</span>\n",
              "<span style=\"color: #800000; text-decoration-color: #800000\">│</span> <span style=\"color: #800000; text-decoration-color: #800000\">❱ </span> 630 <span style=\"color: #7f7f7f; text-decoration-color: #7f7f7f\">│   │   </span><span style=\"color: #00ffff; text-decoration-color: #00ffff\">self</span>._records.update(records=records, show_progress=show_progress)                <span style=\"color: #800000; text-decoration-color: #800000\">│</span>\n",
              "<span style=\"color: #800000; text-decoration-color: #800000\">│</span>   <span style=\"color: #7f7f7f; text-decoration-color: #7f7f7f\"> 631 </span><span style=\"color: #7f7f7f; text-decoration-color: #7f7f7f\">│   </span>                                                                                      <span style=\"color: #800000; text-decoration-color: #800000\">│</span>\n",
              "<span style=\"color: #800000; text-decoration-color: #800000\">│</span>   <span style=\"color: #7f7f7f; text-decoration-color: #7f7f7f\"> 632 </span><span style=\"color: #7f7f7f; text-decoration-color: #7f7f7f\">│   </span><span style=\"color: #0000ff; text-decoration-color: #0000ff\">def</span> <span style=\"color: #00ff00; text-decoration-color: #00ff00\">delete_records</span>(<span style=\"color: #00ffff; text-decoration-color: #00ffff\">self</span>, records: Union[<span style=\"color: #808000; text-decoration-color: #808000\">\"RemoteFeedbackRecord\"</span>, List[<span style=\"color: #808000; text-decoration-color: #808000\">\"RemoteFeedback</span>  <span style=\"color: #800000; text-decoration-color: #800000\">│</span>\n",
              "<span style=\"color: #800000; text-decoration-color: #800000\">│</span>   <span style=\"color: #7f7f7f; text-decoration-color: #7f7f7f\"> 633 </span><span style=\"color: #bfbfbf; text-decoration-color: #bfbfbf\">│   │   </span><span style=\"color: #808000; text-decoration-color: #808000\">\"\"\"Deletes the given records from the dataset in Argilla.</span>                         <span style=\"color: #800000; text-decoration-color: #800000\">│</span>\n",
              "<span style=\"color: #800000; text-decoration-color: #800000\">│</span>                                                                                                  <span style=\"color: #800000; text-decoration-color: #800000\">│</span>\n",
              "<span style=\"color: #800000; text-decoration-color: #800000\">│</span> <span style=\"color: #bfbf7f; text-decoration-color: #bfbf7f\">/Users/davidberenstein/Documents/programming/argilla/awesome-argilla-datasets/.env/lib/python3.9</span> <span style=\"color: #800000; text-decoration-color: #800000\">│</span>\n",
              "<span style=\"color: #800000; text-decoration-color: #800000\">│</span> <span style=\"color: #bfbf7f; text-decoration-color: #bfbf7f\">/site-packages/argilla/client/</span><span style=\"color: #808000; text-decoration-color: #808000; font-weight: bold\">utils.py</span>:<span style=\"color: #0000ff; text-decoration-color: #0000ff\">55</span> in <span style=\"color: #00ff00; text-decoration-color: #00ff00\">wrapper</span>                                             <span style=\"color: #800000; text-decoration-color: #800000\">│</span>\n",
              "<span style=\"color: #800000; text-decoration-color: #800000\">│</span>                                                                                                  <span style=\"color: #800000; text-decoration-color: #800000\">│</span>\n",
              "<span style=\"color: #800000; text-decoration-color: #800000\">│</span>   <span style=\"color: #7f7f7f; text-decoration-color: #7f7f7f\"> 52 </span><span style=\"color: #7f7f7f; text-decoration-color: #7f7f7f\">│   │   </span><span style=\"color: #ff00ff; text-decoration-color: #ff00ff; font-weight: bold\">@functools</span>.wraps(func)                                                             <span style=\"color: #800000; text-decoration-color: #800000\">│</span>\n",
              "<span style=\"color: #800000; text-decoration-color: #800000\">│</span>   <span style=\"color: #7f7f7f; text-decoration-color: #7f7f7f\"> 53 </span><span style=\"color: #7f7f7f; text-decoration-color: #7f7f7f\">│   │   </span><span style=\"color: #0000ff; text-decoration-color: #0000ff\">def</span> <span style=\"color: #00ff00; text-decoration-color: #00ff00\">wrapper</span>(*args: _P.args, **kwargs: _P.kwargs) -&gt; _R:                            <span style=\"color: #800000; text-decoration-color: #800000\">│</span>\n",
              "<span style=\"color: #800000; text-decoration-color: #800000\">│</span>   <span style=\"color: #7f7f7f; text-decoration-color: #7f7f7f\"> 54 </span><span style=\"color: #7f7f7f; text-decoration-color: #7f7f7f\">│   │   │   </span>client = args[<span style=\"color: #0000ff; text-decoration-color: #0000ff\">0</span>]._client <span style=\"color: #0000ff; text-decoration-color: #0000ff\">if</span> <span style=\"color: #00ffff; text-decoration-color: #00ffff\">hasattr</span>(args[<span style=\"color: #0000ff; text-decoration-color: #0000ff\">0</span>], <span style=\"color: #808000; text-decoration-color: #808000\">\"_client\"</span>) <span style=\"color: #0000ff; text-decoration-color: #0000ff\">else</span> active_client()   <span style=\"color: #800000; text-decoration-color: #800000\">│</span>\n",
              "<span style=\"color: #800000; text-decoration-color: #800000\">│</span> <span style=\"color: #800000; text-decoration-color: #800000\">❱ </span> 55 <span style=\"color: #7f7f7f; text-decoration-color: #7f7f7f\">│   │   │   </span>user = users_api.whoami_httpx(client).parsed                                   <span style=\"color: #800000; text-decoration-color: #800000\">│</span>\n",
              "<span style=\"color: #800000; text-decoration-color: #800000\">│</span>   <span style=\"color: #7f7f7f; text-decoration-color: #7f7f7f\"> 56 </span><span style=\"color: #7f7f7f; text-decoration-color: #7f7f7f\">│   │   │   </span><span style=\"color: #0000ff; text-decoration-color: #0000ff\">if</span> user.role <span style=\"color: #ff00ff; text-decoration-color: #ff00ff\">not</span> <span style=\"color: #ff00ff; text-decoration-color: #ff00ff\">in</span> roles:                                                     <span style=\"color: #800000; text-decoration-color: #800000\">│</span>\n",
              "<span style=\"color: #800000; text-decoration-color: #800000\">│</span>   <span style=\"color: #7f7f7f; text-decoration-color: #7f7f7f\"> 57 </span><span style=\"color: #7f7f7f; text-decoration-color: #7f7f7f\">│   │   │   │   </span><span style=\"color: #0000ff; text-decoration-color: #0000ff\">raise</span> <span style=\"color: #00ffff; text-decoration-color: #00ffff\">PermissionError</span>(                                                     <span style=\"color: #800000; text-decoration-color: #800000\">│</span>\n",
              "<span style=\"color: #800000; text-decoration-color: #800000\">│</span>   <span style=\"color: #7f7f7f; text-decoration-color: #7f7f7f\"> 58 </span><span style=\"color: #7f7f7f; text-decoration-color: #7f7f7f\">│   │   │   │   │   </span><span style=\"color: #808000; text-decoration-color: #808000\">f\"User with role={</span>user.role<span style=\"color: #808000; text-decoration-color: #808000\">} is not allowed to call `{</span>func.<span style=\"color: #ff0000; text-decoration-color: #ff0000\">__name__</span><span style=\"color: #808000; text-decoration-color: #808000\">}</span>   <span style=\"color: #800000; text-decoration-color: #800000\">│</span>\n",
              "<span style=\"color: #800000; text-decoration-color: #800000\">│</span>                                                                                                  <span style=\"color: #800000; text-decoration-color: #800000\">│</span>\n",
              "<span style=\"color: #800000; text-decoration-color: #800000\">│</span> <span style=\"color: #bfbf7f; text-decoration-color: #bfbf7f\">/Users/davidberenstein/Documents/programming/argilla/awesome-argilla-datasets/.env/lib/python3.9</span> <span style=\"color: #800000; text-decoration-color: #800000\">│</span>\n",
              "<span style=\"color: #800000; text-decoration-color: #800000\">│</span> <span style=\"color: #bfbf7f; text-decoration-color: #bfbf7f\">/site-packages/argilla/client/sdk/users/</span><span style=\"color: #808000; text-decoration-color: #808000; font-weight: bold\">api.py</span>:<span style=\"color: #0000ff; text-decoration-color: #0000ff\">67</span> in <span style=\"color: #00ff00; text-decoration-color: #00ff00\">whoami_httpx</span>                                <span style=\"color: #800000; text-decoration-color: #800000\">│</span>\n",
              "<span style=\"color: #800000; text-decoration-color: #800000\">│</span>                                                                                                  <span style=\"color: #800000; text-decoration-color: #800000\">│</span>\n",
              "<span style=\"color: #800000; text-decoration-color: #800000\">│</span>   <span style=\"color: #7f7f7f; text-decoration-color: #7f7f7f\"> 64 </span><span style=\"color: #7f7f7f; text-decoration-color: #7f7f7f\">│   │   │   </span>headers=response.headers,                                                      <span style=\"color: #800000; text-decoration-color: #800000\">│</span>\n",
              "<span style=\"color: #800000; text-decoration-color: #800000\">│</span>   <span style=\"color: #7f7f7f; text-decoration-color: #7f7f7f\"> 65 </span><span style=\"color: #7f7f7f; text-decoration-color: #7f7f7f\">│   │   │   </span>parsed=parsed_response,                                                        <span style=\"color: #800000; text-decoration-color: #800000\">│</span>\n",
              "<span style=\"color: #800000; text-decoration-color: #800000\">│</span>   <span style=\"color: #7f7f7f; text-decoration-color: #7f7f7f\"> 66 </span><span style=\"color: #7f7f7f; text-decoration-color: #7f7f7f\">│   │   </span>)                                                                                  <span style=\"color: #800000; text-decoration-color: #800000\">│</span>\n",
              "<span style=\"color: #800000; text-decoration-color: #800000\">│</span> <span style=\"color: #800000; text-decoration-color: #800000\">❱ </span> 67 <span style=\"color: #7f7f7f; text-decoration-color: #7f7f7f\">│   </span><span style=\"color: #0000ff; text-decoration-color: #0000ff\">return</span> handle_response_error(response)                                                 <span style=\"color: #800000; text-decoration-color: #800000\">│</span>\n",
              "<span style=\"color: #800000; text-decoration-color: #800000\">│</span>   <span style=\"color: #7f7f7f; text-decoration-color: #7f7f7f\"> 68 </span>                                                                                           <span style=\"color: #800000; text-decoration-color: #800000\">│</span>\n",
              "<span style=\"color: #800000; text-decoration-color: #800000\">│</span>   <span style=\"color: #7f7f7f; text-decoration-color: #7f7f7f\"> 69 </span>                                                                                           <span style=\"color: #800000; text-decoration-color: #800000\">│</span>\n",
              "<span style=\"color: #800000; text-decoration-color: #800000\">│</span>   <span style=\"color: #7f7f7f; text-decoration-color: #7f7f7f\"> 70 </span><span style=\"color: #0000ff; text-decoration-color: #0000ff\">def</span> <span style=\"color: #00ff00; text-decoration-color: #00ff00\">list_users</span>(client: httpx.Client) -&gt; Response[Union[List[UserModel], ErrorMessage, HT   <span style=\"color: #800000; text-decoration-color: #800000\">│</span>\n",
              "<span style=\"color: #800000; text-decoration-color: #800000\">│</span>                                                                                                  <span style=\"color: #800000; text-decoration-color: #800000\">│</span>\n",
              "<span style=\"color: #800000; text-decoration-color: #800000\">│</span> <span style=\"color: #bfbf7f; text-decoration-color: #bfbf7f\">/Users/davidberenstein/Documents/programming/argilla/awesome-argilla-datasets/.env/lib/python3.9</span> <span style=\"color: #800000; text-decoration-color: #800000\">│</span>\n",
              "<span style=\"color: #800000; text-decoration-color: #800000\">│</span> <span style=\"color: #bfbf7f; text-decoration-color: #bfbf7f\">/site-packages/argilla/client/sdk/commons/</span><span style=\"color: #808000; text-decoration-color: #808000; font-weight: bold\">errors_handler.py</span>:<span style=\"color: #0000ff; text-decoration-color: #0000ff\">63</span> in <span style=\"color: #00ff00; text-decoration-color: #00ff00\">handle_response_error</span>          <span style=\"color: #800000; text-decoration-color: #800000\">│</span>\n",
              "<span style=\"color: #800000; text-decoration-color: #800000\">│</span>                                                                                                  <span style=\"color: #800000; text-decoration-color: #800000\">│</span>\n",
              "<span style=\"color: #800000; text-decoration-color: #800000\">│</span>   <span style=\"color: #7f7f7f; text-decoration-color: #7f7f7f\">60 </span><span style=\"color: #7f7f7f; text-decoration-color: #7f7f7f\">│   │   </span>error_type = GenericApiError                                                        <span style=\"color: #800000; text-decoration-color: #800000\">│</span>\n",
              "<span style=\"color: #800000; text-decoration-color: #800000\">│</span>   <span style=\"color: #7f7f7f; text-decoration-color: #7f7f7f\">61 </span><span style=\"color: #7f7f7f; text-decoration-color: #7f7f7f\">│   </span><span style=\"color: #0000ff; text-decoration-color: #0000ff\">else</span>:                                                                                   <span style=\"color: #800000; text-decoration-color: #800000\">│</span>\n",
              "<span style=\"color: #800000; text-decoration-color: #800000\">│</span>   <span style=\"color: #7f7f7f; text-decoration-color: #7f7f7f\">62 </span><span style=\"color: #7f7f7f; text-decoration-color: #7f7f7f\">│   │   </span><span style=\"color: #0000ff; text-decoration-color: #0000ff\">raise</span> HttpResponseError(response=response)                                          <span style=\"color: #800000; text-decoration-color: #800000\">│</span>\n",
              "<span style=\"color: #800000; text-decoration-color: #800000\">│</span> <span style=\"color: #800000; text-decoration-color: #800000\">❱ </span>63 <span style=\"color: #7f7f7f; text-decoration-color: #7f7f7f\">│   </span><span style=\"color: #0000ff; text-decoration-color: #0000ff\">raise</span> error_type(**error_args)                                                          <span style=\"color: #800000; text-decoration-color: #800000\">│</span>\n",
              "<span style=\"color: #800000; text-decoration-color: #800000\">│</span>   <span style=\"color: #7f7f7f; text-decoration-color: #7f7f7f\">64 </span>                                                                                            <span style=\"color: #800000; text-decoration-color: #800000\">│</span>\n",
              "<span style=\"color: #800000; text-decoration-color: #800000\">╰──────────────────────────────────────────────────────────────────────────────────────────────────╯</span>\n",
              "<span style=\"color: #ff0000; text-decoration-color: #ff0000; font-weight: bold\">GenericApiError: </span>Argilla server returned an error with http status: <span style=\"color: #008080; text-decoration-color: #008080; font-weight: bold\">500</span>. Error details: <span style=\"font-weight: bold\">{</span><span style=\"color: #008000; text-decoration-color: #008000\">'code'</span>: \n",
              "<span style=\"color: #008000; text-decoration-color: #008000\">'argilla.api.errors::GenericServerError'</span>, <span style=\"color: #008000; text-decoration-color: #008000\">'params'</span>: <span style=\"font-weight: bold\">{</span><span style=\"color: #008000; text-decoration-color: #008000\">'type'</span>: <span style=\"color: #008000; text-decoration-color: #008000\">'socket.gaierror'</span>, <span style=\"color: #008000; text-decoration-color: #008000\">'message'</span>: <span style=\"color: #008000; text-decoration-color: #008000\">'[Errno -2] Name or </span>\n",
              "<span style=\"color: #008000; text-decoration-color: #008000\">service not known'</span><span style=\"font-weight: bold\">}}</span>\n",
              "\n",
              "<span style=\"font-style: italic\">During handling of the above exception, another exception occurred:</span>\n",
              "\n",
              "<span style=\"color: #800000; text-decoration-color: #800000\">╭─────────────────────────────── </span><span style=\"color: #800000; text-decoration-color: #800000; font-weight: bold\">Traceback </span><span style=\"color: #bf7f7f; text-decoration-color: #bf7f7f; font-weight: bold\">(most recent call last)</span><span style=\"color: #800000; text-decoration-color: #800000\"> ────────────────────────────────╮</span>\n",
              "<span style=\"color: #800000; text-decoration-color: #800000\">│</span> in <span style=\"color: #00ff00; text-decoration-color: #00ff00\">&lt;module&gt;</span>:<span style=\"color: #0000ff; text-decoration-color: #0000ff\">10</span>                                                                                   <span style=\"color: #800000; text-decoration-color: #800000\">│</span>\n",
              "<span style=\"color: #800000; text-decoration-color: #800000\">│</span>                                                                                                  <span style=\"color: #800000; text-decoration-color: #800000\">│</span>\n",
              "<span style=\"color: #800000; text-decoration-color: #800000\">│</span>   <span style=\"color: #7f7f7f; text-decoration-color: #7f7f7f\"> 7 </span><span style=\"color: #7f7f7f; text-decoration-color: #7f7f7f\">│   │   </span>chunked_modified_records.pop(<span style=\"color: #0000ff; text-decoration-color: #0000ff\">0</span>)                                                     <span style=\"color: #800000; text-decoration-color: #800000\">│</span>\n",
              "<span style=\"color: #800000; text-decoration-color: #800000\">│</span>   <span style=\"color: #7f7f7f; text-decoration-color: #7f7f7f\"> 8 </span><span style=\"color: #7f7f7f; text-decoration-color: #7f7f7f\">│   </span><span style=\"color: #0000ff; text-decoration-color: #0000ff\">except</span> <span style=\"color: #00ffff; text-decoration-color: #00ffff\">Exception</span> <span style=\"color: #0000ff; text-decoration-color: #0000ff\">as</span> e:                                                                  <span style=\"color: #800000; text-decoration-color: #800000\">│</span>\n",
              "<span style=\"color: #800000; text-decoration-color: #800000\">│</span>   <span style=\"color: #7f7f7f; text-decoration-color: #7f7f7f\"> 9 </span><span style=\"color: #7f7f7f; text-decoration-color: #7f7f7f\">│   │   </span><span style=\"color: #00ffff; text-decoration-color: #00ffff\">print</span>(<span style=\"color: #00ffff; text-decoration-color: #00ffff\">len</span>(chunked_modified_records))                                                <span style=\"color: #800000; text-decoration-color: #800000\">│</span>\n",
              "<span style=\"color: #800000; text-decoration-color: #800000\">│</span> <span style=\"color: #800000; text-decoration-color: #800000\">❱ </span>10 <span style=\"color: #7f7f7f; text-decoration-color: #7f7f7f\">│   │   </span>time.sleep(<span style=\"color: #0000ff; text-decoration-color: #0000ff\">60</span>)                                                                      <span style=\"color: #800000; text-decoration-color: #800000\">│</span>\n",
              "<span style=\"color: #800000; text-decoration-color: #800000\">│</span>   <span style=\"color: #7f7f7f; text-decoration-color: #7f7f7f\">11 </span>                                                                                            <span style=\"color: #800000; text-decoration-color: #800000\">│</span>\n",
              "<span style=\"color: #800000; text-decoration-color: #800000\">╰──────────────────────────────────────────────────────────────────────────────────────────────────╯</span>\n",
              "<span style=\"color: #ff0000; text-decoration-color: #ff0000; font-weight: bold\">KeyboardInterrupt</span>\n",
              "</pre>\n"
            ],
            "text/plain": [
              "\u001b[31m╭─\u001b[0m\u001b[31m──────────────────────────────\u001b[0m\u001b[31m \u001b[0m\u001b[1;31mTraceback \u001b[0m\u001b[1;2;31m(most recent call last)\u001b[0m\u001b[31m \u001b[0m\u001b[31m───────────────────────────────\u001b[0m\u001b[31m─╮\u001b[0m\n",
              "\u001b[31m│\u001b[0m in \u001b[92m<module>\u001b[0m:\u001b[94m6\u001b[0m                                                                                    \u001b[31m│\u001b[0m\n",
              "\u001b[31m│\u001b[0m                                                                                                  \u001b[31m│\u001b[0m\n",
              "\u001b[31m│\u001b[0m   \u001b[2m 3 \u001b[0mchunked_modified_records = np.array_split(modified_records, \u001b[94m20\u001b[0m)                             \u001b[31m│\u001b[0m\n",
              "\u001b[31m│\u001b[0m   \u001b[2m 4 \u001b[0m\u001b[94mwhile\u001b[0m \u001b[96mlen\u001b[0m(chunked_modified_records) > \u001b[94m0\u001b[0m:                                                    \u001b[31m│\u001b[0m\n",
              "\u001b[31m│\u001b[0m   \u001b[2m 5 \u001b[0m\u001b[2m│   \u001b[0m\u001b[94mtry\u001b[0m:                                                                                    \u001b[31m│\u001b[0m\n",
              "\u001b[31m│\u001b[0m \u001b[31m❱ \u001b[0m 6 \u001b[2m│   │   \u001b[0mds_remote.update_records(chunked_modified_records[\u001b[94m0\u001b[0m])                               \u001b[31m│\u001b[0m\n",
              "\u001b[31m│\u001b[0m   \u001b[2m 7 \u001b[0m\u001b[2m│   │   \u001b[0mchunked_modified_records.pop(\u001b[94m0\u001b[0m)                                                     \u001b[31m│\u001b[0m\n",
              "\u001b[31m│\u001b[0m   \u001b[2m 8 \u001b[0m\u001b[2m│   \u001b[0m\u001b[94mexcept\u001b[0m \u001b[96mException\u001b[0m \u001b[94mas\u001b[0m e:                                                                  \u001b[31m│\u001b[0m\n",
              "\u001b[31m│\u001b[0m   \u001b[2m 9 \u001b[0m\u001b[2m│   │   \u001b[0m\u001b[96mprint\u001b[0m(\u001b[96mlen\u001b[0m(chunked_modified_records))                                                \u001b[31m│\u001b[0m\n",
              "\u001b[31m│\u001b[0m                                                                                                  \u001b[31m│\u001b[0m\n",
              "\u001b[31m│\u001b[0m \u001b[2;33m/Users/davidberenstein/Documents/programming/argilla/awesome-argilla-datasets/.env/lib/python3.9\u001b[0m \u001b[31m│\u001b[0m\n",
              "\u001b[31m│\u001b[0m \u001b[2;33m/site-packages/argilla/client/feedback/dataset/remote/\u001b[0m\u001b[1;33mdataset.py\u001b[0m:\u001b[94m630\u001b[0m in \u001b[92mupdate_records\u001b[0m           \u001b[31m│\u001b[0m\n",
              "\u001b[31m│\u001b[0m                                                                                                  \u001b[31m│\u001b[0m\n",
              "\u001b[31m│\u001b[0m   \u001b[2m 627 \u001b[0m\u001b[2;33m│   │   \u001b[0m\u001b[33mRaises:\u001b[0m                                                                           \u001b[31m│\u001b[0m\n",
              "\u001b[31m│\u001b[0m   \u001b[2m 628 \u001b[0m\u001b[2;33m│   │   │   \u001b[0m\u001b[33mPermissionError: if the user does not have either `owner` or `admin` role.\u001b[0m    \u001b[31m│\u001b[0m\n",
              "\u001b[31m│\u001b[0m   \u001b[2m 629 \u001b[0m\u001b[2;33m│   │   \u001b[0m\u001b[33m\"\"\"\u001b[0m                                                                               \u001b[31m│\u001b[0m\n",
              "\u001b[31m│\u001b[0m \u001b[31m❱ \u001b[0m 630 \u001b[2m│   │   \u001b[0m\u001b[96mself\u001b[0m._records.update(records=records, show_progress=show_progress)                \u001b[31m│\u001b[0m\n",
              "\u001b[31m│\u001b[0m   \u001b[2m 631 \u001b[0m\u001b[2m│   \u001b[0m                                                                                      \u001b[31m│\u001b[0m\n",
              "\u001b[31m│\u001b[0m   \u001b[2m 632 \u001b[0m\u001b[2m│   \u001b[0m\u001b[94mdef\u001b[0m \u001b[92mdelete_records\u001b[0m(\u001b[96mself\u001b[0m, records: Union[\u001b[33m\"\u001b[0m\u001b[33mRemoteFeedbackRecord\u001b[0m\u001b[33m\"\u001b[0m, List[\u001b[33m\"\u001b[0m\u001b[33mRemoteFeedback\u001b[0m  \u001b[31m│\u001b[0m\n",
              "\u001b[31m│\u001b[0m   \u001b[2m 633 \u001b[0m\u001b[2;90m│   │   \u001b[0m\u001b[33m\"\"\"Deletes the given records from the dataset in Argilla.\u001b[0m                         \u001b[31m│\u001b[0m\n",
              "\u001b[31m│\u001b[0m                                                                                                  \u001b[31m│\u001b[0m\n",
              "\u001b[31m│\u001b[0m \u001b[2;33m/Users/davidberenstein/Documents/programming/argilla/awesome-argilla-datasets/.env/lib/python3.9\u001b[0m \u001b[31m│\u001b[0m\n",
              "\u001b[31m│\u001b[0m \u001b[2;33m/site-packages/argilla/client/\u001b[0m\u001b[1;33mutils.py\u001b[0m:\u001b[94m55\u001b[0m in \u001b[92mwrapper\u001b[0m                                             \u001b[31m│\u001b[0m\n",
              "\u001b[31m│\u001b[0m                                                                                                  \u001b[31m│\u001b[0m\n",
              "\u001b[31m│\u001b[0m   \u001b[2m 52 \u001b[0m\u001b[2m│   │   \u001b[0m\u001b[1;95m@functools\u001b[0m.wraps(func)                                                             \u001b[31m│\u001b[0m\n",
              "\u001b[31m│\u001b[0m   \u001b[2m 53 \u001b[0m\u001b[2m│   │   \u001b[0m\u001b[94mdef\u001b[0m \u001b[92mwrapper\u001b[0m(*args: _P.args, **kwargs: _P.kwargs) -> _R:                            \u001b[31m│\u001b[0m\n",
              "\u001b[31m│\u001b[0m   \u001b[2m 54 \u001b[0m\u001b[2m│   │   │   \u001b[0mclient = args[\u001b[94m0\u001b[0m]._client \u001b[94mif\u001b[0m \u001b[96mhasattr\u001b[0m(args[\u001b[94m0\u001b[0m], \u001b[33m\"\u001b[0m\u001b[33m_client\u001b[0m\u001b[33m\"\u001b[0m) \u001b[94melse\u001b[0m active_client()   \u001b[31m│\u001b[0m\n",
              "\u001b[31m│\u001b[0m \u001b[31m❱ \u001b[0m 55 \u001b[2m│   │   │   \u001b[0muser = users_api.whoami_httpx(client).parsed                                   \u001b[31m│\u001b[0m\n",
              "\u001b[31m│\u001b[0m   \u001b[2m 56 \u001b[0m\u001b[2m│   │   │   \u001b[0m\u001b[94mif\u001b[0m user.role \u001b[95mnot\u001b[0m \u001b[95min\u001b[0m roles:                                                     \u001b[31m│\u001b[0m\n",
              "\u001b[31m│\u001b[0m   \u001b[2m 57 \u001b[0m\u001b[2m│   │   │   │   \u001b[0m\u001b[94mraise\u001b[0m \u001b[96mPermissionError\u001b[0m(                                                     \u001b[31m│\u001b[0m\n",
              "\u001b[31m│\u001b[0m   \u001b[2m 58 \u001b[0m\u001b[2m│   │   │   │   │   \u001b[0m\u001b[33mf\u001b[0m\u001b[33m\"\u001b[0m\u001b[33mUser with role=\u001b[0m\u001b[33m{\u001b[0muser.role\u001b[33m}\u001b[0m\u001b[33m is not allowed to call `\u001b[0m\u001b[33m{\u001b[0mfunc.\u001b[91m__name__\u001b[0m\u001b[33m}\u001b[0m   \u001b[31m│\u001b[0m\n",
              "\u001b[31m│\u001b[0m                                                                                                  \u001b[31m│\u001b[0m\n",
              "\u001b[31m│\u001b[0m \u001b[2;33m/Users/davidberenstein/Documents/programming/argilla/awesome-argilla-datasets/.env/lib/python3.9\u001b[0m \u001b[31m│\u001b[0m\n",
              "\u001b[31m│\u001b[0m \u001b[2;33m/site-packages/argilla/client/sdk/users/\u001b[0m\u001b[1;33mapi.py\u001b[0m:\u001b[94m67\u001b[0m in \u001b[92mwhoami_httpx\u001b[0m                                \u001b[31m│\u001b[0m\n",
              "\u001b[31m│\u001b[0m                                                                                                  \u001b[31m│\u001b[0m\n",
              "\u001b[31m│\u001b[0m   \u001b[2m 64 \u001b[0m\u001b[2m│   │   │   \u001b[0mheaders=response.headers,                                                      \u001b[31m│\u001b[0m\n",
              "\u001b[31m│\u001b[0m   \u001b[2m 65 \u001b[0m\u001b[2m│   │   │   \u001b[0mparsed=parsed_response,                                                        \u001b[31m│\u001b[0m\n",
              "\u001b[31m│\u001b[0m   \u001b[2m 66 \u001b[0m\u001b[2m│   │   \u001b[0m)                                                                                  \u001b[31m│\u001b[0m\n",
              "\u001b[31m│\u001b[0m \u001b[31m❱ \u001b[0m 67 \u001b[2m│   \u001b[0m\u001b[94mreturn\u001b[0m handle_response_error(response)                                                 \u001b[31m│\u001b[0m\n",
              "\u001b[31m│\u001b[0m   \u001b[2m 68 \u001b[0m                                                                                           \u001b[31m│\u001b[0m\n",
              "\u001b[31m│\u001b[0m   \u001b[2m 69 \u001b[0m                                                                                           \u001b[31m│\u001b[0m\n",
              "\u001b[31m│\u001b[0m   \u001b[2m 70 \u001b[0m\u001b[94mdef\u001b[0m \u001b[92mlist_users\u001b[0m(client: httpx.Client) -> Response[Union[List[UserModel], ErrorMessage, HT   \u001b[31m│\u001b[0m\n",
              "\u001b[31m│\u001b[0m                                                                                                  \u001b[31m│\u001b[0m\n",
              "\u001b[31m│\u001b[0m \u001b[2;33m/Users/davidberenstein/Documents/programming/argilla/awesome-argilla-datasets/.env/lib/python3.9\u001b[0m \u001b[31m│\u001b[0m\n",
              "\u001b[31m│\u001b[0m \u001b[2;33m/site-packages/argilla/client/sdk/commons/\u001b[0m\u001b[1;33merrors_handler.py\u001b[0m:\u001b[94m63\u001b[0m in \u001b[92mhandle_response_error\u001b[0m          \u001b[31m│\u001b[0m\n",
              "\u001b[31m│\u001b[0m                                                                                                  \u001b[31m│\u001b[0m\n",
              "\u001b[31m│\u001b[0m   \u001b[2m60 \u001b[0m\u001b[2m│   │   \u001b[0merror_type = GenericApiError                                                        \u001b[31m│\u001b[0m\n",
              "\u001b[31m│\u001b[0m   \u001b[2m61 \u001b[0m\u001b[2m│   \u001b[0m\u001b[94melse\u001b[0m:                                                                                   \u001b[31m│\u001b[0m\n",
              "\u001b[31m│\u001b[0m   \u001b[2m62 \u001b[0m\u001b[2m│   │   \u001b[0m\u001b[94mraise\u001b[0m HttpResponseError(response=response)                                          \u001b[31m│\u001b[0m\n",
              "\u001b[31m│\u001b[0m \u001b[31m❱ \u001b[0m63 \u001b[2m│   \u001b[0m\u001b[94mraise\u001b[0m error_type(**error_args)                                                          \u001b[31m│\u001b[0m\n",
              "\u001b[31m│\u001b[0m   \u001b[2m64 \u001b[0m                                                                                            \u001b[31m│\u001b[0m\n",
              "\u001b[31m╰──────────────────────────────────────────────────────────────────────────────────────────────────╯\u001b[0m\n",
              "\u001b[1;91mGenericApiError: \u001b[0mArgilla server returned an error with http status: \u001b[1;36m500\u001b[0m. Error details: \u001b[1m{\u001b[0m\u001b[32m'code'\u001b[0m: \n",
              "\u001b[32m'argilla.api.errors::GenericServerError'\u001b[0m, \u001b[32m'params'\u001b[0m: \u001b[1m{\u001b[0m\u001b[32m'type'\u001b[0m: \u001b[32m'socket.gaierror'\u001b[0m, \u001b[32m'message'\u001b[0m: \u001b[32m'\u001b[0m\u001b[32m[\u001b[0m\u001b[32mErrno -2\u001b[0m\u001b[32m]\u001b[0m\u001b[32m Name or \u001b[0m\n",
              "\u001b[32mservice not known'\u001b[0m\u001b[1m}\u001b[0m\u001b[1m}\u001b[0m\n",
              "\n",
              "\u001b[3mDuring handling of the above exception, another exception occurred:\u001b[0m\n",
              "\n",
              "\u001b[31m╭─\u001b[0m\u001b[31m──────────────────────────────\u001b[0m\u001b[31m \u001b[0m\u001b[1;31mTraceback \u001b[0m\u001b[1;2;31m(most recent call last)\u001b[0m\u001b[31m \u001b[0m\u001b[31m───────────────────────────────\u001b[0m\u001b[31m─╮\u001b[0m\n",
              "\u001b[31m│\u001b[0m in \u001b[92m<module>\u001b[0m:\u001b[94m10\u001b[0m                                                                                   \u001b[31m│\u001b[0m\n",
              "\u001b[31m│\u001b[0m                                                                                                  \u001b[31m│\u001b[0m\n",
              "\u001b[31m│\u001b[0m   \u001b[2m 7 \u001b[0m\u001b[2m│   │   \u001b[0mchunked_modified_records.pop(\u001b[94m0\u001b[0m)                                                     \u001b[31m│\u001b[0m\n",
              "\u001b[31m│\u001b[0m   \u001b[2m 8 \u001b[0m\u001b[2m│   \u001b[0m\u001b[94mexcept\u001b[0m \u001b[96mException\u001b[0m \u001b[94mas\u001b[0m e:                                                                  \u001b[31m│\u001b[0m\n",
              "\u001b[31m│\u001b[0m   \u001b[2m 9 \u001b[0m\u001b[2m│   │   \u001b[0m\u001b[96mprint\u001b[0m(\u001b[96mlen\u001b[0m(chunked_modified_records))                                                \u001b[31m│\u001b[0m\n",
              "\u001b[31m│\u001b[0m \u001b[31m❱ \u001b[0m10 \u001b[2m│   │   \u001b[0mtime.sleep(\u001b[94m60\u001b[0m)                                                                      \u001b[31m│\u001b[0m\n",
              "\u001b[31m│\u001b[0m   \u001b[2m11 \u001b[0m                                                                                            \u001b[31m│\u001b[0m\n",
              "\u001b[31m╰──────────────────────────────────────────────────────────────────────────────────────────────────╯\u001b[0m\n",
              "\u001b[1;91mKeyboardInterrupt\u001b[0m\n"
            ]
          },
          "metadata": {},
          "output_type": "display_data"
        }
      ],
      "source": [
        "import numpy as np\n",
        "import time\n",
        "chunked_modified_records = np.array_split(modified_records, 20)\n",
        "while len(chunked_modified_records) > 0:\n",
        "    try:\n",
        "        ds_remote.update_records(chunked_modified_records[0])\n",
        "        chunked_modified_records.pop(0)\n",
        "    except Exception as e:\n",
        "        print(len(chunked_modified_records))\n",
        "        time.sleep(60)\n"
      ]
    }
  ],
  "metadata": {
    "colab": {
      "provenance": []
    },
    "kernelspec": {
      "display_name": "Python 3",
      "name": "python3"
    },
    "language_info": {
      "codemirror_mode": {
        "name": "ipython",
        "version": 3
      },
      "file_extension": ".py",
      "mimetype": "text/x-python",
      "name": "python",
      "nbconvert_exporter": "python",
      "pygments_lexer": "ipython3",
      "version": "3.9.17"
    }
  },
  "nbformat": 4,
  "nbformat_minor": 0
}
